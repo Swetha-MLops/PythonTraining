{
 "cells": [
  {
   "cell_type": "code",
   "execution_count": 5,
   "metadata": {},
   "outputs": [],
   "source": [
    "from pyspark.sql import SparkSession\n",
    "\n",
    "# Create a SparkSession\n",
    "spark = SparkSession.builder.appName(\"DataFrame-Operations\").getOrCreate()"
   ]
  },
  {
   "cell_type": "code",
   "execution_count": 6,
   "metadata": {},
   "outputs": [],
   "source": [
    "# Load the synthetic data into a DataFrame\n",
    "data_file_path = \"C:/Users/rammo/OneDrive/Desktop/stocks_data.csv\"\n",
    "df = spark.read.csv(data_file_path, header=True, inferSchema=True)"
   ]
  },
  {
   "cell_type": "code",
   "execution_count": 7,
   "metadata": {},
   "outputs": [
    {
     "name": "stdout",
     "output_type": "stream",
     "text": [
      "root\n",
      " |-- id: integer (nullable = true)\n",
      " |-- name: string (nullable = true)\n",
      " |-- category: string (nullable = true)\n",
      " |-- quantity: integer (nullable = true)\n",
      " |-- price: double (nullable = true)\n",
      "\n",
      "Initial DataFrame:\n",
      "+---+-------+-----------+--------+-------+\n",
      "| id|   name|   category|quantity|  price|\n",
      "+---+-------+-----------+--------+-------+\n",
      "|  1|  phone|Electronics|      10| 899.99|\n",
      "|  2|macbook|Electronics|       5|1299.99|\n",
      "|  3|   ipad|Electronics|      15| 499.99|\n",
      "|  4|samsung|Electronics|       8| 799.99|\n",
      "|  5|     lg|Electronics|      10| 699.99|\n",
      "+---+-------+-----------+--------+-------+\n",
      "\n"
     ]
    }
   ],
   "source": [
    "# Display schema of DataFrame\n",
    "df.printSchema()\n",
    "\n",
    "# Show the initial DataFrame\n",
    "print(\"Initial DataFrame:\")\n",
    "df.show(5)"
   ]
  },
  {
   "cell_type": "markdown",
   "metadata": {},
   "source": [
    "Select: Choose specific columns."
   ]
  },
  {
   "cell_type": "code",
   "execution_count": 8,
   "metadata": {},
   "outputs": [
    {
     "name": "stdout",
     "output_type": "stream",
     "text": [
      "Selected Columns:\n",
      "+---+-------+-------+\n",
      "| id|   name|  price|\n",
      "+---+-------+-------+\n",
      "|  1|  phone| 899.99|\n",
      "|  2|macbook|1299.99|\n",
      "|  3|   ipad| 499.99|\n",
      "|  4|samsung| 799.99|\n",
      "|  5|     lg| 699.99|\n",
      "+---+-------+-------+\n",
      "\n"
     ]
    }
   ],
   "source": [
    "# Select specific columns\n",
    "selected_columns = df.select(\"id\", \"name\", \"price\")\n",
    "print(\"Selected Columns:\")\n",
    "selected_columns.show(5)"
   ]
  },
  {
   "cell_type": "markdown",
   "metadata": {},
   "source": [
    "Filter: Apply conditions to filter rows."
   ]
  },
  {
   "cell_type": "code",
   "execution_count": 9,
   "metadata": {},
   "outputs": [
    {
     "name": "stdout",
     "output_type": "stream",
     "text": [
      "Filtered Data: 1\n",
      "+---+----+-----------+--------+------+\n",
      "| id|name|   category|quantity| price|\n",
      "+---+----+-----------+--------+------+\n",
      "|  3|ipad|Electronics|      15|499.99|\n",
      "+---+----+-----------+--------+------+\n",
      "\n"
     ]
    }
   ],
   "source": [
    "# Filter rows based on a condition\n",
    "filtered_data= df.filter(df.quantity > 10)\n",
    "print(\"Filtered Data:\", filtered_data.count())\n",
    "filtered_data.show()"
   ]
  },
  {
   "cell_type": "markdown",
   "metadata": {},
   "source": [
    "Join: Combine multiple DataFrames based on specified columns."
   ]
  },
  {
   "cell_type": "code",
   "execution_count": 10,
   "metadata": {},
   "outputs": [
    {
     "name": "stdout",
     "output_type": "stream",
     "text": [
      "Joined Data:\n",
      "+---+-------+-----------+--------+-------+-----------+\n",
      "| id|   name|   category|quantity|  price|   category|\n",
      "+---+-------+-----------+--------+-------+-----------+\n",
      "|  1|  phone|Electronics|      10| 899.99|Electronics|\n",
      "|  2|macbook|Electronics|       5|1299.99|Electronics|\n",
      "|  3|   ipad|Electronics|      15| 499.99|Electronics|\n",
      "|  4|samsung|Electronics|       8| 799.99|Electronics|\n",
      "|  5|     lg|Electronics|      10| 699.99|Electronics|\n",
      "+---+-------+-----------+--------+-------+-----------+\n",
      "\n"
     ]
    }
   ],
   "source": [
    "# Join with another DataFrame\n",
    "df2 = df.select(\"id\", \"category\").limit(5)\n",
    "joined_data = df.join(df2, \"id\", \"inner\")\n",
    "print(\"Joined Data:\")\n",
    "joined_data.show()"
   ]
  },
  {
   "cell_type": "markdown",
   "metadata": {},
   "source": [
    "Sort: Arrange rows based on one or more columns."
   ]
  },
  {
   "cell_type": "code",
   "execution_count": 11,
   "metadata": {},
   "outputs": [
    {
     "name": "stdout",
     "output_type": "stream",
     "text": [
      "+---+-------+-----------+--------+-------+\n",
      "| id|   name|   category|quantity|  price|\n",
      "+---+-------+-----------+--------+-------+\n",
      "|  1|  phone|Electronics|      10| 899.99|\n",
      "|  2|macbook|Electronics|       5|1299.99|\n",
      "|  3|   ipad|Electronics|      15| 499.99|\n",
      "|  4|samsung|Electronics|       8| 799.99|\n",
      "|  5|     lg|Electronics|      10| 699.99|\n",
      "+---+-------+-----------+--------+-------+\n",
      "\n"
     ]
    }
   ],
   "source": [
    "df.show()"
   ]
  },
  {
   "cell_type": "code",
   "execution_count": 12,
   "metadata": {},
   "outputs": [
    {
     "name": "stdout",
     "output_type": "stream",
     "text": [
      "Sorted Data:\n",
      "+---+-------+-----------+--------+-------+\n",
      "| id|   name|   category|quantity|  price|\n",
      "+---+-------+-----------+--------+-------+\n",
      "|  3|   ipad|Electronics|      15| 499.99|\n",
      "|  5|     lg|Electronics|      10| 699.99|\n",
      "|  4|samsung|Electronics|       8| 799.99|\n",
      "|  1|  phone|Electronics|      10| 899.99|\n",
      "|  2|macbook|Electronics|       5|1299.99|\n",
      "+---+-------+-----------+--------+-------+\n",
      "\n"
     ]
    }
   ],
   "source": [
    "# Sort by a column\n",
    "sorted_data = df.orderBy(\"price\")\n",
    "print(\"Sorted Data:\")\n",
    "sorted_data.show(15)"
   ]
  },
  {
   "cell_type": "code",
   "execution_count": 13,
   "metadata": {},
   "outputs": [
    {
     "name": "stdout",
     "output_type": "stream",
     "text": [
      "Sorted Data Descending:\n"
     ]
    },
    {
     "name": "stdout",
     "output_type": "stream",
     "text": [
      "+---+-------+-----------+--------+-------+\n",
      "| id|   name|   category|quantity|  price|\n",
      "+---+-------+-----------+--------+-------+\n",
      "|  2|macbook|Electronics|       5|1299.99|\n",
      "|  1|  phone|Electronics|      10| 899.99|\n",
      "|  4|samsung|Electronics|       8| 799.99|\n",
      "|  5|     lg|Electronics|      10| 699.99|\n",
      "|  3|   ipad|Electronics|      15| 499.99|\n",
      "+---+-------+-----------+--------+-------+\n",
      "\n"
     ]
    }
   ],
   "source": [
    "# Sort by a column desc\n",
    "from pyspark.sql.functions import col, desc\n",
    "sorted_data = df.orderBy(col(\"price\").desc(), col(\"id\").desc())\n",
    "print(\"Sorted Data Descending:\")\n",
    "sorted_data.show(10)"
   ]
  },
  {
   "cell_type": "markdown",
   "metadata": {},
   "source": [
    "Distinct: Get unique rows."
   ]
  },
  {
   "cell_type": "code",
   "execution_count": 14,
   "metadata": {},
   "outputs": [
    {
     "name": "stdout",
     "output_type": "stream",
     "text": [
      "Distinct Product Categories:\n",
      "+-----------+\n",
      "|   category|\n",
      "+-----------+\n",
      "|Electronics|\n",
      "+-----------+\n",
      "\n"
     ]
    }
   ],
   "source": [
    "# Get distinct product category\n",
    "distinct_rows = df.select(\"category\").distinct()\n",
    "print(\"Distinct Product Categories:\")\n",
    "distinct_rows.show()"
   ]
  },
  {
   "cell_type": "markdown",
   "metadata": {},
   "source": [
    "Drop: Remove specified columns."
   ]
  },
  {
   "cell_type": "code",
   "execution_count": 15,
   "metadata": {},
   "outputs": [
    {
     "name": "stdout",
     "output_type": "stream",
     "text": [
      "Dropped Columns:\n",
      "+---+-------+-------+\n",
      "| id|   name|  price|\n",
      "+---+-------+-------+\n",
      "|  1|  phone| 899.99|\n",
      "|  2|macbook|1299.99|\n",
      "|  3|   ipad| 499.99|\n",
      "|  4|samsung| 799.99|\n",
      "|  5|     lg| 699.99|\n",
      "+---+-------+-------+\n",
      "\n"
     ]
    }
   ],
   "source": [
    "# Drop columns\n",
    "dropped_columns = df.drop(\"quantity\", \"category\")\n",
    "print(\"Dropped Columns:\")\n",
    "dropped_columns.show(10)"
   ]
  },
  {
   "cell_type": "markdown",
   "metadata": {},
   "source": [
    "WithColumn: Add new calculated columns."
   ]
  },
  {
   "cell_type": "code",
   "execution_count": 16,
   "metadata": {},
   "outputs": [
    {
     "name": "stdout",
     "output_type": "stream",
     "text": [
      "DataFrame with New Column:\n",
      "+---+-------+-----------+--------+-------+-------+\n",
      "| id|   name|   category|quantity|  price|revenue|\n",
      "+---+-------+-----------+--------+-------+-------+\n",
      "|  1|  phone|Electronics|      10| 899.99| 8999.9|\n",
      "|  2|macbook|Electronics|       5|1299.99|6499.95|\n",
      "|  3|   ipad|Electronics|      15| 499.99|7499.85|\n",
      "|  4|samsung|Electronics|       8| 799.99|6399.92|\n",
      "|  5|     lg|Electronics|      10| 699.99| 6999.9|\n",
      "+---+-------+-----------+--------+-------+-------+\n",
      "\n"
     ]
    }
   ],
   "source": [
    "# Add a new calculated column\n",
    "df_with_new_column = df.withColumn(\"revenue\", df.quantity * df.price)\n",
    "print(\"DataFrame with New Column:\")\n",
    "df_with_new_column.show(10)"
   ]
  },
  {
   "cell_type": "markdown",
   "metadata": {},
   "source": [
    "Alias: Rename columns for better readability."
   ]
  },
  {
   "cell_type": "code",
   "execution_count": 17,
   "metadata": {},
   "outputs": [
    {
     "name": "stdout",
     "output_type": "stream",
     "text": [
      "DataFrame with Aliased Column:\n",
      "+---+-------+-----------+--------+-------------+\n",
      "| id|   name|   category|quantity|product_price|\n",
      "+---+-------+-----------+--------+-------------+\n",
      "|  1|  phone|Electronics|      10|       899.99|\n",
      "|  2|macbook|Electronics|       5|      1299.99|\n",
      "|  3|   ipad|Electronics|      15|       499.99|\n",
      "|  4|samsung|Electronics|       8|       799.99|\n",
      "|  5|     lg|Electronics|      10|       699.99|\n",
      "+---+-------+-----------+--------+-------------+\n",
      "\n"
     ]
    }
   ],
   "source": [
    "# Rename columns using alias\n",
    "df_with_alias = df.withColumnRenamed(\"price\", \"product_price\")\n",
    "print(\"DataFrame with Aliased Column:\")\n",
    "df_with_alias.show(10)"
   ]
  },
  {
   "cell_type": "code",
   "execution_count": 18,
   "metadata": {},
   "outputs": [],
   "source": [
    "# Stop the SparkSession\n",
    "spark.stop()"
   ]
  }
 ],
 "metadata": {
  "kernelspec": {
   "display_name": "Python 3",
   "language": "python",
   "name": "python3"
  },
  "language_info": {
   "codemirror_mode": {
    "name": "ipython",
    "version": 3
   },
   "file_extension": ".py",
   "mimetype": "text/x-python",
   "name": "python",
   "nbconvert_exporter": "python",
   "pygments_lexer": "ipython3",
   "version": "3.11.9"
  }
 },
 "nbformat": 4,
 "nbformat_minor": 2
}
