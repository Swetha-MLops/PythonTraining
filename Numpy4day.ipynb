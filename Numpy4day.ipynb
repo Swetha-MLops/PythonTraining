{
 "cells": [
  {
   "cell_type": "markdown",
   "metadata": {},
   "source": [
    "SORTING AN ARRAY"
   ]
  },
  {
   "cell_type": "code",
   "execution_count": 2,
   "metadata": {},
   "outputs": [],
   "source": [
    "import numpy as np\n",
    "arr = np.random.rand(5,5)\n"
   ]
  },
  {
   "cell_type": "code",
   "execution_count": 3,
   "metadata": {},
   "outputs": [
    {
     "name": "stdout",
     "output_type": "stream",
     "text": [
      "[[0.01369529 0.07292177 0.0826583  0.08919504 0.28471194]\n",
      " [0.06437477 0.12720258 0.22003785 0.13440667 0.3084507 ]\n",
      " [0.17152621 0.16560441 0.57671752 0.23104387 0.37317921]\n",
      " [0.64262857 0.40198653 0.74234101 0.28034353 0.62032887]\n",
      " [0.8287447  0.5694065  0.97322563 0.59553068 0.78224104]]\n",
      "[[0.01369529 0.07292177 0.0826583  0.08919504 0.28471194]\n",
      " [0.06437477 0.12720258 0.22003785 0.13440667 0.3084507 ]\n",
      " [0.17152621 0.16560441 0.57671752 0.23104387 0.37317921]\n",
      " [0.64262857 0.40198653 0.74234101 0.28034353 0.62032887]\n",
      " [0.8287447  0.5694065  0.97322563 0.59553068 0.78224104]]\n"
     ]
    }
   ],
   "source": [
    "print(np.sort(arr, axis=0)) #gives copy\n",
    "arr.sort(axis=0)#sort along the row in place\n",
    "print(arr)"
   ]
  },
  {
   "cell_type": "code",
   "execution_count": null,
   "metadata": {},
   "outputs": [],
   "source": [
    "print(np.sort(arr, axis=1))#along a column"
   ]
  },
  {
   "cell_type": "code",
   "execution_count": 8,
   "metadata": {},
   "outputs": [
    {
     "name": "stdout",
     "output_type": "stream",
     "text": [
      "[[0.7426708  0.18729972 0.6838689  0.46921178 0.36504569]\n",
      " [0.82130831 0.08935809 0.21891025 0.57517838 0.26747996]\n",
      " [0.30302136 0.34446604 0.48041276 0.72904921 0.41983796]\n",
      " [0.27647718 0.08192307 0.81943237 0.76947317 0.23110459]\n",
      " [0.79030383 0.57294623 0.27541808 0.22704949 0.04129996]]\n"
     ]
    }
   ],
   "source": [
    "#compute the indices that would sort an array along a specified axis\n",
    "arr = np.random.rand(5,5)\n",
    "print(arr)"
   ]
  },
  {
   "cell_type": "code",
   "execution_count": 10,
   "metadata": {},
   "outputs": [
    {
     "name": "stdout",
     "output_type": "stream",
     "text": [
      "[[3 3 1 4 4]\n",
      " [2 1 4 0 3]\n",
      " [0 0 2 1 1]\n",
      " [4 2 0 2 0]\n",
      " [1 4 3 3 2]]\n"
     ]
    }
   ],
   "source": [
    "#Instead of sorting the elements themselves, it sorts the indices(positions) of the elements.\n",
    "# to know which columns contain the smallest or largest values in each row.\n",
    "print(np.argsort(arr, axis=0))#Row\n"
   ]
  },
  {
   "cell_type": "code",
   "execution_count": 7,
   "metadata": {},
   "outputs": [
    {
     "name": "stdout",
     "output_type": "stream",
     "text": [
      "[[3 2 4 1 0]\n",
      " [4 1 2 3 0]\n",
      " [2 4 0 3 1]\n",
      " [1 0 2 4 3]\n",
      " [0 4 2 3 1]]\n"
     ]
    }
   ],
   "source": [
    "print(np.argsort(arr, axis=1))#column"
   ]
  },
  {
   "cell_type": "code",
   "execution_count": 11,
   "metadata": {},
   "outputs": [
    {
     "name": "stdout",
     "output_type": "stream",
     "text": [
      "[24 16  6  1  7 23 19  9 22 15 10 11  4 14  3 12 21  8  2 13  0 18 20 17\n",
      "  5]\n"
     ]
    }
   ],
   "source": [
    "# if axis=None, return the indices of a flattened array\n",
    "print(np.argsort(arr, axis=None))"
   ]
  },
  {
   "cell_type": "code",
   "execution_count": 13,
   "metadata": {},
   "outputs": [
    {
     "name": "stdout",
     "output_type": "stream",
     "text": [
      "[[0.17881966 0.55654297 0.93356983 0.85880682]\n",
      " [0.71810656 0.91608811 0.54374449 0.05867548]\n",
      " [0.20682158 0.91556166 0.24873941 0.75751476]]\n"
     ]
    }
   ],
   "source": [
    "#TRANSPOSE ARRAY\n",
    "arr = np.random.rand(3,4)\n",
    "print(arr)"
   ]
  },
  {
   "cell_type": "code",
   "execution_count": 14,
   "metadata": {},
   "outputs": [
    {
     "name": "stdout",
     "output_type": "stream",
     "text": [
      "[[0.17881966 0.71810656 0.20682158]\n",
      " [0.55654297 0.91608811 0.91556166]\n",
      " [0.93356983 0.54374449 0.24873941]\n",
      " [0.85880682 0.05867548 0.75751476]]\n",
      "[[0.17881966 0.71810656 0.20682158]\n",
      " [0.55654297 0.91608811 0.91556166]\n",
      " [0.93356983 0.54374449 0.24873941]\n",
      " [0.85880682 0.05867548 0.75751476]]\n",
      "[[0.17881966 0.71810656 0.20682158]\n",
      " [0.55654297 0.91608811 0.91556166]\n",
      " [0.93356983 0.54374449 0.24873941]\n",
      " [0.85880682 0.05867548 0.75751476]]\n"
     ]
    }
   ],
   "source": [
    "# the following methods return a copy\n",
    "print(arr.T)\n",
    "# or \n",
    "print(np.transpose(arr))\n",
    "# or\n",
    "print(arr.transpose())"
   ]
  },
  {
   "cell_type": "code",
   "execution_count": 15,
   "metadata": {},
   "outputs": [
    {
     "name": "stdout",
     "output_type": "stream",
     "text": [
      "[[[ 0  1  2  3]\n",
      "  [ 4  5  6  7]]\n",
      "\n",
      " [[ 8  9 10 11]\n",
      "  [12 13 14 15]]]\n",
      "[[[ 0  1  2  3]\n",
      "  [ 8  9 10 11]]\n",
      "\n",
      " [[ 4  5  6  7]\n",
      "  [12 13 14 15]]]\n"
     ]
    }
   ],
   "source": [
    "#transpose of a high dimensional array with specified order of axes\n",
    "arr1 = np.arange(16).reshape((2,2,4))#3dimentions\n",
    "print(arr1)\n",
    "\n",
    "arr2=arr1.transpose((1,0,2))\n",
    "print(arr2)"
   ]
  },
  {
   "cell_type": "code",
   "execution_count": 19,
   "metadata": {},
   "outputs": [
    {
     "name": "stdout",
     "output_type": "stream",
     "text": [
      "[[[ 0  1  2  3]\n",
      "  [ 4  5  6  7]]\n",
      "\n",
      " [[ 8  9 10 11]\n",
      "  [12 13 14 15]]]\n",
      "[[[ 0  4]\n",
      "  [ 1  5]\n",
      "  [ 2  6]\n",
      "  [ 3  7]]\n",
      "\n",
      " [[ 8 12]\n",
      "  [ 9 13]\n",
      "  [10 14]\n",
      "  [11 15]]]\n"
     ]
    }
   ],
   "source": [
    "arr2 = np.arange(16).reshape((2,2,4))\n",
    "print(arr2)\n",
    "print(arr2.swapaxes(1,2))"
   ]
  },
  {
   "cell_type": "code",
   "execution_count": 38,
   "metadata": {},
   "outputs": [
    {
     "name": "stdout",
     "output_type": "stream",
     "text": [
      "[ 0  1  2  3  4  5  6  7  8  9 10 11 12 13 14 15]\n",
      "[[[ 0  1]\n",
      "  [ 2  3]]\n",
      "\n",
      " [[ 4  5]\n",
      "  [ 6  7]]\n",
      "\n",
      " [[ 8  9]\n",
      "  [10 11]]\n",
      "\n",
      " [[12 13]\n",
      "  [14 15]]]\n",
      "[[[ 0  1]\n",
      "  [ 2  3]]\n",
      "\n",
      " [[ 4  5]\n",
      "  [ 6  7]]\n",
      "\n",
      " [[ 8  9]\n",
      "  [10 11]]\n",
      "\n",
      " [[12 13]\n",
      "  [14 15]]]\n"
     ]
    }
   ],
   "source": [
    "arr=np.arange(16)\n",
    "print(arr)\n",
    "arr1=arr.reshape(4,2,2)\n",
    "print(arr1)\n",
    "arr.resize((4,2,2))\n",
    "print(arr)\n",
    "\"\"\"reshape() creates a new array with the specified shape without modifying the original, \n",
    "while resize() modifies the array itself to the specified shape and returns None.\"\"\""
   ]
  },
  {
   "cell_type": "code",
   "execution_count": 44,
   "metadata": {},
   "outputs": [
    {
     "name": "stdout",
     "output_type": "stream",
     "text": [
      "[ 0  1  2  3  4  5  6  7  8  9 10 11 12 13 14 15]\n",
      "[ 0  1  2  3  4  5  6  7  8  9 10 11 12 13 14 15]\n"
     ]
    },
    {
     "data": {
      "text/plain": [
       "' flatten() always returns a copy of the original data as a 1-dimensional array,\\nwhile ravel() attempts to return a view (reference) to the original data if possible, \\nmaking it more memory efficient and faster for large arrays.\\nUse flatten() when you need a copy and\\nravel() when you want efficiency and potentially need to modify the flattened array without \\naffecting the original.\\n'"
      ]
     },
     "execution_count": 44,
     "metadata": {},
     "output_type": "execute_result"
    }
   ],
   "source": [
    "arr3=arr.flatten()    \n",
    "print(arr3)\n",
    "arr4=arr.ravel()\n",
    "print(arr4) \n",
    "\n",
    "''' flatten() always returns a copy of the original data as a 1-dimensional array,\n",
    "while ravel() attempts to return a view (reference) to the original data if possible, \n",
    "making it more memory efficient and faster for large arrays.\n",
    "Use flatten() when you need a copy and\n",
    "ravel() when you want efficiency and potentially need to modify the flattened array without \n",
    "affecting the original.\n",
    "'''"
   ]
  },
  {
   "cell_type": "markdown",
   "metadata": {},
   "source": []
  },
  {
   "cell_type": "code",
   "execution_count": 45,
   "metadata": {},
   "outputs": [
    {
     "name": "stdout",
     "output_type": "stream",
     "text": [
      "[ 0  1  2  3  4  5  6  7  8  9 10 11 12 13 14 15  4  5  6]\n"
     ]
    }
   ],
   "source": [
    "# append an array and return a copy\n",
    "arr5 = np.append(arr3, [4,5,6])    \n",
    "print(arr5)"
   ]
  },
  {
   "cell_type": "code",
   "execution_count": 46,
   "metadata": {},
   "outputs": [
    {
     "name": "stdout",
     "output_type": "stream",
     "text": [
      "[100   0   1   2   3   4   5   6   7   8   9  10  11  12  13  14  15]\n"
     ]
    }
   ],
   "source": [
    "# np.insert(array, position, element)\n",
    "\n",
    "# insert a scalar at a certain position\n",
    "arr3 = np.insert(arr3, 0, 100)    \n",
    "print(arr3)"
   ]
  },
  {
   "cell_type": "code",
   "execution_count": 47,
   "metadata": {},
   "outputs": [
    {
     "name": "stdout",
     "output_type": "stream",
     "text": [
      "[ 1  2  3  4  5  6  7  8  9 10 11 12 13 14 15]\n"
     ]
    }
   ],
   "source": [
    "# remove the element at position 0\n",
    "arr3 = np.delete(arr, 0)    \n",
    "print(arr3)"
   ]
  },
  {
   "cell_type": "code",
   "execution_count": 49,
   "metadata": {},
   "outputs": [
    {
     "name": "stdout",
     "output_type": "stream",
     "text": [
      "[[[ 0  1]\n",
      "  [ 2  3]]\n",
      "\n",
      " [[ 4  5]\n",
      "  [ 6  7]]\n",
      "\n",
      " [[ 8  9]\n",
      "  [10 11]]\n",
      "\n",
      " [[12 13]\n",
      "  [14 15]]]\n"
     ]
    }
   ],
   "source": [
    "# the following methods are all deep copy\n",
    "arr3 = np.copy(arr)\n",
    "# or \n",
    "arr3 = arr.copy()\n",
    "# or \n",
    "arr6 = np.array(arr, copy=True)\n",
    "print(arr6)\n"
   ]
  },
  {
   "cell_type": "code",
   "execution_count": null,
   "metadata": {},
   "outputs": [],
   "source": []
  }
 ],
 "metadata": {
  "kernelspec": {
   "display_name": "Python 3",
   "language": "python",
   "name": "python3"
  },
  "language_info": {
   "codemirror_mode": {
    "name": "ipython",
    "version": 3
   },
   "file_extension": ".py",
   "mimetype": "text/x-python",
   "name": "python",
   "nbconvert_exporter": "python",
   "pygments_lexer": "ipython3",
   "version": "3.11.9"
  }
 },
 "nbformat": 4,
 "nbformat_minor": 2
}
