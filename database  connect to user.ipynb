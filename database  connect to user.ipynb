{
 "cells": [
  {
   "cell_type": "code",
   "execution_count": 2,
   "metadata": {},
   "outputs": [
    {
     "name": "stdout",
     "output_type": "stream",
     "text": [
      "Page-1 Data:User started reading and continue reading\n",
      "1. Python Programming\n",
      "2. Deep Learning\n",
      "\n",
      "Page-2 Data:User's history\n",
      "1. The Great Gatsby\n",
      "\n",
      "Page-3 Data:List of Best sellers\n",
      "1. Best Seller 1\n",
      "2. Best Seller 2\n",
      "\n",
      "Page-4 Data:Wish List\n",
      "1. Clean Code\n"
     ]
    }
   ],
   "source": [
    "class User:\n",
    "    def __init__(self, name):\n",
    "        self.name = name\n",
    "        self.reading_list = []\n",
    "        self.history = []\n",
    "        self.wish_list = []\n",
    "\n",
    "    def add_to_reading_list(self, *books):\n",
    "        self.reading_list.extend(books)\n",
    "\n",
    "    def add_to_history(self, *books):\n",
    "        self.history.extend(books)\n",
    "\n",
    "    def add_to_wish_list(self, *books):\n",
    "        self.wish_list.extend(books)\n",
    "\n",
    "    def recommend_books(self, page_data):\n",
    "        if page_data == \"page-1\":\n",
    "            return self.reading_list\n",
    "        elif page_data == \"page-2\":\n",
    "            return self.history\n",
    "        elif page_data == \"page-3\":\n",
    "            return [Book(\"Best Seller 1\", \"Author 1\", \"Fiction\"), Book(\"Best Seller 2\", \"Author 2\", \"Non-Fiction\")]\n",
    "        elif page_data == \"page-4\":\n",
    "            return self.wish_list\n",
    "        else:\n",
    "            return []\n",
    "\n",
    "class Book:\n",
    "    def __init__(self, title, author, genre):\n",
    "        self.title = title\n",
    "        self.author = author\n",
    "        self.genre = genre\n",
    "\n",
    "# Example usage\n",
    "user1 = User(\"John\")\n",
    "book1 = Book(\"Python Programming\", \"Guido van Rossum\", \"Programming\")\n",
    "book2 = Book(\"Deep Learning\", \"Ian Goodfellow\", \"Artificial Intelligence\")\n",
    "book3 = Book(\"The Great Gatsby\", \"F. Scott Fitzgerald\", \"Classic\")\n",
    "book4 = Book(\"Clean Code\", \"Robert C. Martin\", \"Programming\")\n",
    "\n",
    "# Add books to user's lists\n",
    "user1.add_to_reading_list(book1)\n",
    "user1.add_to_reading_list(book2)\n",
    "user1.add_to_history(book3)\n",
    "user1.add_to_wish_list(book4)\n",
    "\n",
    "# Print out recommended books for each page\n",
    "print(\"Page-1 Data:User started reading and continue reading\")\n",
    "for i, book in enumerate(user1.recommend_books(\"page-1\"), 1):\n",
    "    print(f\"{i}. {book.title}\")\n",
    "\n",
    "print(\"\\nPage-2 Data:User's history\")\n",
    "for i, book in enumerate(user1.recommend_books(\"page-2\"), 1):\n",
    "    print(f\"{i}. {book.title}\")\n",
    "\n",
    "print(\"\\nPage-3 Data:List of Best sellers\")\n",
    "for i, book in enumerate(user1.recommend_books(\"page-3\"), 1):\n",
    "    print(f\"{i}. {book.title}\")\n",
    "\n",
    "print(\"\\nPage-4 Data:Wish List\")\n",
    "for i, book in enumerate(user1.recommend_books(\"page-4\"), 1):\n",
    "    print(f\"{i}. {book.title}\")"
   ]
  },
  {
   "cell_type": "code",
   "execution_count": null,
   "metadata": {},
   "outputs": [],
   "source": []
  },
  {
   "cell_type": "code",
   "execution_count": 2,
   "metadata": {},
   "outputs": [
    {
     "ename": "OperationalError",
     "evalue": "no such table: history",
     "output_type": "error",
     "traceback": [
      "\u001b[1;31m---------------------------------------------------------------------------\u001b[0m",
      "\u001b[1;31mOperationalError\u001b[0m                          Traceback (most recent call last)",
      "Cell \u001b[1;32mIn[2], line 24\u001b[0m\n\u001b[0;32m     22\u001b[0m \u001b[38;5;66;03m# Example usage\u001b[39;00m\n\u001b[0;32m     23\u001b[0m user1 \u001b[38;5;241m=\u001b[39m User(\u001b[38;5;124m\"\u001b[39m\u001b[38;5;124mJohn\u001b[39m\u001b[38;5;124m\"\u001b[39m, \u001b[38;5;124m\"\u001b[39m\u001b[38;5;124mbook_database.db\u001b[39m\u001b[38;5;124m\"\u001b[39m)\n\u001b[1;32m---> 24\u001b[0m history_books \u001b[38;5;241m=\u001b[39m \u001b[43muser1\u001b[49m\u001b[38;5;241;43m.\u001b[39;49m\u001b[43mget_history\u001b[49m\u001b[43m(\u001b[49m\u001b[43m)\u001b[49m\n\u001b[0;32m     25\u001b[0m \u001b[38;5;28;01mfor\u001b[39;00m i, book \u001b[38;5;129;01min\u001b[39;00m \u001b[38;5;28menumerate\u001b[39m(history_books, \u001b[38;5;241m1\u001b[39m):\n\u001b[0;32m     26\u001b[0m     \u001b[38;5;28mprint\u001b[39m(\u001b[38;5;124mf\u001b[39m\u001b[38;5;124m\"\u001b[39m\u001b[38;5;132;01m{\u001b[39;00mi\u001b[38;5;132;01m}\u001b[39;00m\u001b[38;5;124m. \u001b[39m\u001b[38;5;132;01m{\u001b[39;00mbook\u001b[38;5;241m.\u001b[39mtitle\u001b[38;5;132;01m}\u001b[39;00m\u001b[38;5;124m by \u001b[39m\u001b[38;5;132;01m{\u001b[39;00mbook\u001b[38;5;241m.\u001b[39mauthor\u001b[38;5;132;01m}\u001b[39;00m\u001b[38;5;124m\"\u001b[39m)\n",
      "Cell \u001b[1;32mIn[2], line 16\u001b[0m, in \u001b[0;36mUser.get_history\u001b[1;34m(self)\u001b[0m\n\u001b[0;32m     15\u001b[0m \u001b[38;5;28;01mdef\u001b[39;00m \u001b[38;5;21mget_history\u001b[39m(\u001b[38;5;28mself\u001b[39m):\n\u001b[1;32m---> 16\u001b[0m     \u001b[38;5;28;43mself\u001b[39;49m\u001b[38;5;241;43m.\u001b[39;49m\u001b[43mcursor\u001b[49m\u001b[38;5;241;43m.\u001b[39;49m\u001b[43mexecute\u001b[49m\u001b[43m(\u001b[49m\u001b[38;5;124;43m\"\u001b[39;49m\u001b[38;5;124;43mSELECT * FROM history WHERE user_name = ?\u001b[39;49m\u001b[38;5;124;43m\"\u001b[39;49m\u001b[43m,\u001b[49m\u001b[43m \u001b[49m\u001b[43m(\u001b[49m\u001b[38;5;28;43mself\u001b[39;49m\u001b[38;5;241;43m.\u001b[39;49m\u001b[43mname\u001b[49m\u001b[43m,\u001b[49m\u001b[43m)\u001b[49m\u001b[43m)\u001b[49m\n\u001b[0;32m     17\u001b[0m     \u001b[38;5;28;01mreturn\u001b[39;00m [Book(\u001b[38;5;241m*\u001b[39mrow[\u001b[38;5;241m1\u001b[39m:]) \u001b[38;5;28;01mfor\u001b[39;00m row \u001b[38;5;129;01min\u001b[39;00m \u001b[38;5;28mself\u001b[39m\u001b[38;5;241m.\u001b[39mcursor\u001b[38;5;241m.\u001b[39mfetchall()]\n",
      "\u001b[1;31mOperationalError\u001b[0m: no such table: history"
     ]
    }
   ],
   "source": [
    "import sqlite3\n",
    "# Import the sqlite3 module, which\n",
    "# provides the functionality to interact with SQLite databases.\n",
    "\n",
    "class Book:\n",
    "    def __init__(self, title, author):\n",
    "        self.title = title\n",
    "        self.author = author\n",
    "\n",
    "class User:\n",
    "    def __init__(self, name, db_file):\n",
    "        self.name = name\n",
    "        self.db_file = db_file\n",
    "        self.conn = sqlite3.connect(db_file)\n",
    "        #it will creat connection to the database if not it will create file.\n",
    "        self.cursor = self.conn.cursor()\n",
    "        #cursor is used to execute SQL commands in SQLite database.\n",
    "\n",
    "    def get_history(self):\n",
    "        self.cursor.execute(\"SELECT * FROM history WHERE user_name = ?\", (self.name,))\n",
    "        return [Book(*row[1:]) for row in self.cursor.fetchall()]\n",
    "\n",
    "    def close_db(self):\n",
    "        self.conn.close()\n",
    "\n",
    "# Example usage\n",
    "user1 = User(\"John\", \"book_database.db\")\n",
    "history_books = user1.get_history()\n",
    "for i, book in enumerate(history_books, 1):\n",
    "    print(f\"{i}. {book.title} by {book.author}\")\n",
    "user1.close_db()"
   ]
  },
  {
   "cell_type": "code",
   "execution_count": null,
   "metadata": {},
   "outputs": [],
   "source": []
  }
 ],
 "metadata": {
  "kernelspec": {
   "display_name": "Python 3",
   "language": "python",
   "name": "python3"
  },
  "language_info": {
   "codemirror_mode": {
    "name": "ipython",
    "version": 3
   },
   "file_extension": ".py",
   "mimetype": "text/x-python",
   "name": "python",
   "nbconvert_exporter": "python",
   "pygments_lexer": "ipython3",
   "version": "3.11.9"
  }
 },
 "nbformat": 4,
 "nbformat_minor": 2
}
