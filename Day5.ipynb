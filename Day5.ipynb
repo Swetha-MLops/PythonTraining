{
 "cells": [
  {
   "cell_type": "code",
   "execution_count": 1,
   "metadata": {},
   "outputs": [
    {
     "name": "stdout",
     "output_type": "stream",
     "text": [
      "(10, 20)\n",
      "(20, 30, 40)\n"
     ]
    }
   ],
   "source": [
    "my_tuple = (10, 20 ,30, 40)\n",
    "\n",
    "# Create a new tuple without the last element\n",
    "new_tuple = my_tuple[:-2]  # Slicing excludes the last element\n",
    "print(new_tuple)  # Output: (10, 20, 30)\n",
    "\n",
    "# Create a new tuple without the first element (alternative)\n",
    "new_tuple = my_tuple[1:]  # Slicing starts from index 1 (inclusive)\n",
    "print(new_tuple)  # Output: (20, 30, 40)"
   ]
  },
  {
   "cell_type": "code",
   "execution_count": 5,
   "metadata": {},
   "outputs": [
    {
     "name": "stdout",
     "output_type": "stream",
     "text": [
      "2478107412608\n",
      "2478107412608\n",
      "\n",
      "Tuples are immutables\n",
      "2478107299072\n",
      "2478106892768\n"
     ]
    }
   ],
   "source": [
    "my_list = [1, 2, 3]\n",
    "print(id(my_list))  # Get the memory address of my_list (let's say it's 1234)\n",
    "\n",
    "my_list.append(4)\n",
    "print(id(my_list))  # The address remains 1234, but the data at that address has not changed\n",
    "\n",
    "print()\n",
    "print(f\"Tuples are immutables\")\n",
    "my_tuple = (1, 2, 3)\n",
    "print(id(my_tuple))  # Get the memory address of my_tuple (let's say it's 5678)\n",
    "\n",
    "new_tuple = my_tuple + (4,)  # Create a new tuple with the modification\n",
    "# Changed address of my_tuple. Immutables have different memory address.\n",
    "print(id(new_tuple)) "
   ]
  },
  {
   "cell_type": "code",
   "execution_count": 1,
   "metadata": {},
   "outputs": [
    {
     "name": "stdout",
     "output_type": "stream",
     "text": [
      "{1, 2, 3, 4}\n"
     ]
    }
   ],
   "source": [
    "set1 = {1, 2, 3, 4, \"apple\"}\n",
    "set2 = {\"apple\", \"banana\", 5, 6}\n",
    "intersection_set = set1.intersection(set2)\n",
    "#print(intersection_set)  # Output: {\"apple\"} (common element)\n",
    "difference_set = set1.difference(set2)\n",
    "print(difference_set)  "
   ]
  },
  {
   "cell_type": "markdown",
   "metadata": {},
   "source": [
    "directory \n"
   ]
  },
  {
   "cell_type": "code",
   "execution_count": 13,
   "metadata": {},
   "outputs": [
    {
     "name": "stdout",
     "output_type": "stream",
     "text": [
      "123-456-7890\n",
      "555-1212\n",
      "Charlie's number is: 555-1212\n",
      "\n",
      "David1\n",
      "None\n",
      "\n",
      "{'Alice': '123-456-7890', 'Bob': '987-654-3210', 'Charlie': '555-1212', 'David': '000-000-0000', 'Anna': '111-111-1111'}\n"
     ]
    }
   ],
   "source": [
    "phonebook = {\"Alice\": \"123-456-7890\",\"Bob\": \"987-654-3210\",}\n",
    "alice_number = phonebook[\"Alice\"]  # Access value using key\n",
    "print(alice_number)  # Output: 123-456-7890\n",
    "phonebook[\"Charlie\"] = \"555-1212\"  # Add a new key-value pair\n",
    "print(phonebook[\"Charlie\"])\n",
    "# Check if a key exists\n",
    "if \"Charlie\" in phonebook:\n",
    "  print(\"Charlie's number is:\", phonebook[\"Charlie\"])\n",
    "print()\n",
    "print(\"David1\")\n",
    "number = phonebook.get(\"David1\")\n",
    "print(number)\n",
    "print()\n",
    "phonebook.update({\"David\": \"000-000-0000\",\"Anna\" : \"111-111-1111\"})\n",
    "print(phonebook)"
   ]
  },
  {
   "cell_type": "markdown",
   "metadata": {},
   "source": [
    "assignments\n",
    "Let us say your expense for every month are listed below,\n",
    "\n",
    "January -  2200\n",
    "February - 2350\n",
    "March - 2600\n",
    "April - 2130\n",
    "May - 2190"
   ]
  },
  {
   "cell_type": "code",
   "execution_count": 16,
   "metadata": {},
   "outputs": [
    {
     "name": "stdout",
     "output_type": "stream",
     "text": [
      "['January=2200', 'February=2350', 'March=2600', 'April=2130', 'May=2190']\n",
      "150\n",
      "\n",
      "7150\n"
     ]
    }
   ],
   "source": [
    "#Create a list to store these monthly expenses and using that find out,\n",
    "#1.In Feb, how many dollars you spent extra compare to January?\n",
    "#3.Find out if you spent exactly 2000 dollars in any month\n",
    "#4.June month just finished and your expense is 1980 dollar. Add this item to our monthly expense list\n",
    "#5you returned an item that you bought in a month of April and got a refund of 200$. Make a correction to your monthly expense list based on this.\n",
    "Monthly_expenses = [\"January=2200\", \"February=2350\", \"March=2600\", \"April=2130\", \"May=2190\"]\n",
    "print(Monthly_expenses)\n",
    "\n",
    "# Extracting numerical values from the strings\n",
    "january_expense = int(Monthly_expenses[0].split(\"=\")[1])\n",
    "february_expense = int(Monthly_expenses[1].split(\"=\")[1])\n",
    "march_expense= int(Monthly_expenses[2].split(\"=\")[1])\n",
    "april_expense= int(Monthly_expenses[3].split(\"=\")[1])\n",
    "may_expense= int(Monthly_expenses[4].split(\"=\")[1])\n",
    "#june_expense= int(Monthly_expenses[5].split(\"=\")[1])\n",
    "#2.calculating first quater.\n",
    "first_quater=january_expense+ february_expense + march_expense\n",
    "# Calculating the difference\n",
    "extra = february_expense - january_expense\n",
    "print(extra)\n",
    "print()\n",
    "print(first_quater)\n"
   ]
  },
  {
   "cell_type": "code",
   "execution_count": null,
   "metadata": {},
   "outputs": [],
   "source": [
    "Monthly_expenses = [\"January=2200\", \"February=2350\", \"March=2600\", \"April=2130\", \"May=2190\"]\n",
    "print(Monthly_expenses)\n",
    "\n",
    "# Initialize variables for total expenses and the difference between February and January\n",
    "total_expenses = 0\n",
    "extra_february_january = 0\n",
    "\n",
    "# Iterate over the list to extract expenses and calculate total expenses\n",
    "for expense in Monthly_expenses:\n",
    "    month, amount = expense.split(\"=\")\n",
    "    amount = int(amount)\n",
    "    total_expenses += amount\n",
    "    \n",
    "    if month == \"January\":\n",
    "        january_expense = amount\n",
    "    elif month == \"February\":\n",
    "        february_expense = amount\n",
    "        extra_february_january = february_expense - january_expense\n",
    "\n",
    "# Calculate the total expenses for the first quarter\n",
    "first_quarter = january_expense + february_expense + int(Monthly_expenses[2].split(\"=\")[1])\n",
    "\n",
    "print(\"Extra spent in February compared to January:\", extra_february_january)\n",
    "print(\"Total expenses for the first quarter:\", first_quarter)\n"
   ]
  }
 ],
 "metadata": {
  "kernelspec": {
   "display_name": "Python 3",
   "language": "python",
   "name": "python3"
  },
  "language_info": {
   "codemirror_mode": {
    "name": "ipython",
    "version": 3
   },
   "file_extension": ".py",
   "mimetype": "text/x-python",
   "name": "python",
   "nbconvert_exporter": "python",
   "pygments_lexer": "ipython3",
   "version": "3.11.9"
  }
 },
 "nbformat": 4,
 "nbformat_minor": 2
}
