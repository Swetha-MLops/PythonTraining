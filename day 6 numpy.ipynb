{
 "cells": [
  {
   "cell_type": "markdown",
   "metadata": {},
   "source": [
    "Combine & Split an Array"
   ]
  },
  {
   "cell_type": "code",
   "execution_count": 3,
   "metadata": {},
   "outputs": [
    {
     "name": "stdout",
     "output_type": "stream",
     "text": [
      "[[1 2 3 4]\n",
      " [1 2 3 4]]\n",
      "[[5 6 7 8]\n",
      " [5 6 7 8]]\n"
     ]
    }
   ],
   "source": [
    "import numpy as np\n",
    "arr1 = np.array([[1,2,3,4], [1,2,3,4]])\n",
    "arr2 = np.array([[5,6,7,8], [5,6,7,8]])\n",
    "print(arr1)\n",
    "print(arr2)"
   ]
  },
  {
   "cell_type": "code",
   "execution_count": 5,
   "metadata": {},
   "outputs": [
    {
     "name": "stdout",
     "output_type": "stream",
     "text": [
      "[[1 2 3 4]\n",
      " [1 2 3 4]\n",
      " [5 6 7 8]\n",
      " [5 6 7 8]]\n"
     ]
    }
   ],
   "source": [
    "# concat along the row\n",
    "cat = np.concatenate((arr1, arr2), axis=0)        \n",
    "print(cat)"
   ]
  },
  {
   "cell_type": "code",
   "execution_count": 4,
   "metadata": {},
   "outputs": [
    {
     "name": "stdout",
     "output_type": "stream",
     "text": [
      "[[1 2 3 4 5 6 7 8]\n",
      " [1 2 3 4 5 6 7 8]]\n"
     ]
    }
   ],
   "source": [
    "# concat along the column\n",
    "cat = np.concatenate((arr1, arr2), axis=1)    \n",
    "print(cat)"
   ]
  },
  {
   "cell_type": "code",
   "execution_count": null,
   "metadata": {},
   "outputs": [],
   "source": [
    "#np.vstack((a, b))\n",
    "# stack arrays vertically\n",
    "cat = np.vstack((arr1, arr2))\n",
    "print(cat)\n",
    "#np.r_[axis,a, b]\n",
    "# stack arrays vertically  and increased number of rows.\n",
    "cat = np.r_[arr1, arr2]\n",
    "print(cat)\n"
   ]
  },
  {
   "cell_type": "markdown",
   "metadata": {},
   "source": [
    "Difference:=\n",
    "np.r_[] provides more flexibility as it supports concatenation along different axes (np.r_['-axis', arr1, arr2] for example), whereas np.vstack() specifically stacks arrays vertically along axis 0.\n",
    "np.r_[] can be more concise when concatenating multiple arrays together in a single expression."
   ]
  },
  {
   "cell_type": "code",
   "execution_count": 6,
   "metadata": {},
   "outputs": [
    {
     "name": "stdout",
     "output_type": "stream",
     "text": [
      "[[1 2 3 4 5 6 7 8]\n",
      " [1 2 3 4 5 6 7 8]]\n"
     ]
    }
   ],
   "source": [
    "#np.hstack((a, b))\n",
    "# stack arrays horizontally\n",
    "cat = np.hstack((arr1, arr2))\n",
    "print(cat)\n"
   ]
  },
  {
   "cell_type": "code",
   "execution_count": 12,
   "metadata": {},
   "outputs": [
    {
     "name": "stdout",
     "output_type": "stream",
     "text": [
      "[[1 2 3 4 5 6 7 8]\n",
      " [1 2 3 4 5 6 7 8]]\n"
     ]
    }
   ],
   "source": [
    "#np.c_[a, b]\n",
    "# stack arrays horizontally\n",
    "# increased number of columns.\n",
    "cat = np.c_[arr1, arr2]\n",
    "print(cat)"
   ]
  },
  {
   "cell_type": "code",
   "execution_count": 13,
   "metadata": {},
   "outputs": [
    {
     "name": "stdout",
     "output_type": "stream",
     "text": [
      "[array([[1, 2, 3, 4, 5, 6, 7, 8]]), array([[1, 2, 3, 4, 5, 6, 7, 8]])]\n"
     ]
    }
   ],
   "source": [
    "# split the array vertically into n evenly spaced chunks\n",
    "cat1= np.vsplit(cat, 2)\n",
    "print(cat1)"
   ]
  },
  {
   "cell_type": "code",
   "execution_count": 14,
   "metadata": {},
   "outputs": [
    {
     "name": "stdout",
     "output_type": "stream",
     "text": [
      "[array([[1, 2, 3, 4],\n",
      "       [1, 2, 3, 4]]), array([[5, 6, 7, 8],\n",
      "       [5, 6, 7, 8]])]\n"
     ]
    }
   ],
   "source": [
    "cat= np.hsplit(cat, 2)\n",
    "print(cat)"
   ]
  },
  {
   "cell_type": "markdown",
   "metadata": {},
   "source": [
    "Set Operations\n",
    "Set operations are used to manipulate sets and produce new sets. The most common set operations are:\n",
    "Union: The union of two sets A and B, denoted by A ∪ B, is\n",
    "Intersection: The intersection of two sets A and B, denoted by A ∩ B, is\n",
    "Difference: The difference of two sets A and B, denoted by A - B, is\n",
    "Symmetric Difference: The symmetric difference of two sets A and B, denoted by A Δ B\n",
    "Cartesian Product: The Cartesian product of two sets A and B, denoted by A × B\n",
    "Union of Sets\n",
    "The union of two sets A and B, denoted by A ∪ B, is the set\n",
    "of all elements that are in A or in B or in both.\n",
    "A ∪ B = {x | x ∈ A or x ∈ B}\n",
    "Example: If A = {1, 2, 3} and B = {3,\n",
    "4, 5}, then A ∪ B = {1, 2, 3,\n",
    "4, 5}.\n",
    "Intersection of Sets\n",
    "The intersection of two sets A and B, denoted by A ∩ B, is the set\n",
    "of all elements that are in both A and B.\n",
    "A ∩ B = {x | x ∈ A and x ∈ B}\n",
    "Example: If A = {1, 2, 3} and B = {3,\n",
    "4, 5}, then A ∩ B = {3}.\n",
    "Difference of Sets\n"
   ]
  },
  {
   "cell_type": "code",
   "execution_count": 29,
   "metadata": {},
   "outputs": [
    {
     "name": "stdout",
     "output_type": "stream",
     "text": [
      "[1 2 3 4 5]\n",
      "[1 2 3]\n"
     ]
    }
   ],
   "source": [
    "A = (1,2,3) \n",
    "B = (1,2,3,4,5)\n",
    "AB= np.union1d(A,B)\n",
    "print(AB)\n",
    "c=np.intersect1d(A,B)\n",
    "print(c)"
   ]
  },
  {
   "cell_type": "code",
   "execution_count": 38,
   "metadata": {},
   "outputs": [
    {
     "name": "stdout",
     "output_type": "stream",
     "text": [
      "[ True  True  True]\n",
      "[ True  True  True False False]\n",
      "[ True  True  True]\n",
      "[ True  True  True False False]\n"
     ]
    }
   ],
   "source": [
    "print(np.in1d(A,B))# same length as test_elements.\n",
    "\n",
    "print(np.in1d(B,A))\n",
    "\n",
    "# preserve the shape of the array in the output, if the array is of higher dimensions\n",
    "print(np.isin(A,B))# returns a boolean array of the same shape as test_elements.\n",
    "print(np.isin(B,A))\n",
    "\n",
    "'''Use np.isin() when you want to check membership against a broader range of list-like objects \n",
    "(including arrays, lists, and pandas objects).\n",
    "Use np.in1d() when you specifically need to check membership against another NumPy array.'''"
   ]
  },
  {
   "cell_type": "code",
   "execution_count": 30,
   "metadata": {},
   "outputs": [
    {
     "name": "stdout",
     "output_type": "stream",
     "text": [
      "[1 2 3 4 5 6]\n"
     ]
    }
   ],
   "source": [
    "#select the unique elements from an array\n",
    "\n",
    "arr = np.array([1,1,2,2,3,3,4,5,6])\n",
    "print(np.unique(arr))"
   ]
  },
  {
   "cell_type": "code",
   "execution_count": 31,
   "metadata": {},
   "outputs": [
    {
     "name": "stdout",
     "output_type": "stream",
     "text": [
      "[1 2 3 4 5 6]\n",
      "[2 2 2 1 1 1]\n"
     ]
    }
   ],
   "source": [
    "# return the number of times each unique item appears\n",
    "arr = np.array([1,1,2,2,3,3,4,5,6])\n",
    "uniques, counts = np.unique(arr, return_counts=True)\n",
    "print(uniques)\n",
    "print(counts)"
   ]
  },
  {
   "cell_type": "code",
   "execution_count": 39,
   "metadata": {},
   "outputs": [
    {
     "name": "stdout",
     "output_type": "stream",
     "text": [
      "[]\n",
      "[4 5]\n"
     ]
    }
   ],
   "source": [
    "#compute the elements in an array that are not in another\n",
    "print(np.setdiff1d(A,B))\n",
    "#np.setdiff1d(A, B) gives elements in A but not in B.\n",
    "\n",
    "#np.setxor1d(A, B) gives elements in either A or B, but not in both.\n",
    "# set exclusive-or (XOR) of two arrays,\n",
    "#compute the elements in either of two arrays, but not both\n",
    "print(np.setxor1d(A,B))\n"
   ]
  },
  {
   "cell_type": "code",
   "execution_count": 44,
   "metadata": {},
   "outputs": [
    {
     "name": "stdout",
     "output_type": "stream",
     "text": [
      "[[1.00534976 1.57523011 0.91902203 1.14630161 0.32328185]\n",
      " [1.08988277 1.27396956 0.59748247 0.77430382 0.5347902 ]\n",
      " [0.92457585 1.27406115 1.27887548 1.390375   1.15424317]\n",
      " [1.36267429 1.77046277 1.29899681 1.32838784 0.87480234]\n",
      " [0.63347652 0.56420775 0.58647716 0.79606457 0.95112434]]\n",
      "[[1.95173173 2.20841822 2.26064623 1.71420221 1.59704564]\n",
      " [0.72457552 0.6054935  0.86852348 0.88032093 0.92698198]\n",
      " [1.35723528 1.51293201 1.56802236 1.3394696  1.26894904]\n",
      " [0.67927235 1.14100067 1.14963546 0.79223055 1.11620197]\n",
      " [1.37132428 1.78830303 1.55701129 1.09156004 0.92892403]]\n",
      "[[2.95708149 3.78364833 3.17966826 2.86050382 1.92032749]\n",
      " [1.81445829 1.87946306 1.46600595 1.65462475 1.46177218]\n",
      " [2.28181113 2.78699316 2.84689784 2.7298446  2.42319221]\n",
      " [2.04194664 2.91146343 2.44863227 2.1206184  1.99100431]\n",
      " [2.0048008  2.35251077 2.14348845 1.88762461 1.88004838]]\n",
      "[[1.00534976 1.57523011 0.91902203 1.14630161 0.32328185]\n",
      " [1.08988277 1.27396956 0.59748247 0.77430382 0.5347902 ]\n",
      " [0.92457585 1.27406115 1.27887548 1.390375   1.15424317]\n",
      " [1.36267429 1.77046277 1.29899681 1.32838784 0.87480234]\n",
      " [0.63347652 0.56420775 0.58647716 0.79606457 0.95112434]]\n",
      "[[1.00534976 1.57523011 0.91902203 1.14630161 0.32328185]\n",
      " [1.08988277 1.27396956 0.59748247 0.77430382 0.5347902 ]\n",
      " [0.92457585 1.27406115 1.27887548 1.390375   1.15424317]\n",
      " [1.36267429 1.77046277 1.29899681 1.32838784 0.87480234]\n",
      " [0.63347652 0.56420775 0.58647716 0.79606457 0.95112434]]\n",
      "[[1.00534976 1.57523011 0.91902203 1.14630161 0.32328185]\n",
      " [1.08988277 1.27396956 0.59748247 0.77430382 0.5347902 ]\n",
      " [0.92457585 1.27406115 1.27887548 1.390375   1.15424317]\n",
      " [1.36267429 1.77046277 1.29899681 1.32838784 0.87480234]\n",
      " [0.63347652 0.56420775 0.58647716 0.79606457 0.95112434]]\n"
     ]
    }
   ],
   "source": [
    "arr1 = np.random.rand(5,5)\n",
    "arr2 = np.random.rand(5,5)\n",
    "#matrix multiplication\n",
    "arr3 = np.dot(arr1,arr2)\n",
    "print(arr3)\n",
    "arr4 = np.random.rand(5,5)\n",
    "arr5 = np.random.rand(5,5)\n",
    "#matrix multiplication\n",
    "arr6 = np.dot(arr4,arr5)\n",
    "print(arr6)\n",
    "#matrix addition\n",
    "arr7 = arr3 + arr6\n",
    "print(arr7)\n",
    "\n",
    "print(arr1.dot(arr2))\n",
    "# or\n",
    "print(np.dot(arr1, arr2))\n",
    "# or\n",
    "print(arr1 @ arr2)"
   ]
  },
  {
   "cell_type": "code",
   "execution_count": 51,
   "metadata": {},
   "outputs": [
    {
     "name": "stdout",
     "output_type": "stream",
     "text": [
      "[[0.16790906 0.06604941]\n",
      " [0.79219612 0.82682402]]\n",
      "[[-0.20734758 -0.97826734]\n",
      " [-0.97826734  0.20734758]]\n",
      "[[-0.80979512 -0.82255011]\n",
      " [ 0.          0.10682598]]\n"
     ]
    }
   ],
   "source": [
    "#QR factorization\n",
    "arr = np.random.rand(2,2)\n",
    "print(arr)\n",
    "q, r = np.linalg.qr(arr)\n",
    "print(q)\n",
    "print(r)\n",
    "\n",
    "#q is the orthogonal/unitary matrix\n",
    "#r is the upper triangular matrix"
   ]
  },
  {
   "cell_type": "code",
   "execution_count": 49,
   "metadata": {},
   "outputs": [
    {
     "name": "stdout",
     "output_type": "stream",
     "text": [
      "[[0.21053964 0.42214891]]\n",
      "[[-1.]]\n",
      "[0.4717379]\n",
      "[[-0.4463064  -0.89488022]\n",
      " [-0.89488022  0.4463064 ]]\n"
     ]
    }
   ],
   "source": [
    "#singular value decomposition (SVD)\n",
    "arr = np.random.rand(1,2)\n",
    "print(arr)\n",
    "u, s, v = np.linalg.svd(arr)\n",
    "print(u)\n",
    "print(s)\n",
    "print(v)"
   ]
  },
  {
   "cell_type": "code",
   "execution_count": 52,
   "metadata": {},
   "outputs": [
    {
     "name": "stdout",
     "output_type": "stream",
     "text": [
      "[ 3.24036926  0.69552137 -0.07332931 -0.00886919  0.16707458]\n"
     ]
    }
   ],
   "source": [
    "#compute eigen values\n",
    "arr = np.random.rand(5,5)\n",
    "print(np.linalg.eigvals(arr))"
   ]
  },
  {
   "cell_type": "code",
   "execution_count": 54,
   "metadata": {},
   "outputs": [
    {
     "name": "stdout",
     "output_type": "stream",
     "text": [
      "[1.18055099 0.1840903 ]\n",
      "[[ 0.88045156 -0.75623292]\n",
      " [ 0.47413611  0.65430251]]\n"
     ]
    }
   ],
   "source": [
    "#eigen value decomposition\n",
    "arr = np.random.rand(2,2)\n",
    "\n",
    "w, v = np.linalg.eig(arr)\n",
    "print(w)    # eigen values\n",
    "print(v)    # eigen vectors"
   ]
  },
  {
   "cell_type": "code",
   "execution_count": 55,
   "metadata": {},
   "outputs": [
    {
     "name": "stdout",
     "output_type": "stream",
     "text": [
      "1.3646412906168612\n",
      "0.2173279890202996\n"
     ]
    }
   ],
   "source": [
    "#compute the trace & determinant\n",
    "# notice this is not a function in linalg!!!\n",
    "print(np.trace(arr))    \n",
    "print(np.linalg.det(arr))"
   ]
  },
  {
   "cell_type": "code",
   "execution_count": 56,
   "metadata": {},
   "outputs": [
    {
     "name": "stdout",
     "output_type": "stream",
     "text": [
      "[[-35.46515566   7.48329894]\n",
      " [ 21.56011502  -2.70943578]]\n"
     ]
    }
   ],
   "source": [
    "#calculate the inverse/psedo-inverse of a matrix\n",
    "arr = np.random.rand(2,2)\n",
    "# compute the inverse of a matrix\n",
    "print(np.linalg.inv(arr))"
   ]
  },
  {
   "cell_type": "code",
   "execution_count": 57,
   "metadata": {},
   "outputs": [
    {
     "name": "stdout",
     "output_type": "stream",
     "text": [
      "[[-35.46515566   7.48329894]\n",
      " [ 21.56011502  -2.70943578]]\n"
     ]
    }
   ],
   "source": [
    "# compute the psudo-inverse of a matrix\n",
    "print(np.linalg.pinv(arr))\n"
   ]
  },
  {
   "cell_type": "code",
   "execution_count": 61,
   "metadata": {},
   "outputs": [
    {
     "name": "stdout",
     "output_type": "stream",
     "text": [
      "Solution vector x:\n",
      "[-3.33333333e-01  6.66666667e-01  3.17206578e-17]\n"
     ]
    }
   ],
   "source": [
    "# solve a linear system in closed form\n",
    "\n",
    "import numpy as np\n",
    "\n",
    "# Create a coefficient matrix A (arr) and vector y\n",
    "arr = np.array([[1, 2, 3],\n",
    "                [4, 5, 6],\n",
    "                [7, 8, 10]])  # Example coefficient matrix A\n",
    "y = [1, 2, 3]  # Example vector y\n",
    "\n",
    "# Compute the solution to the linear system Ax = y\n",
    "solution = np.linalg.solve(arr, y)\n",
    "\n",
    "# Print the solution vector x\n",
    "print(\"Solution vector x:\")\n",
    "print(solution)\n"
   ]
  },
  {
   "cell_type": "code",
   "execution_count": 60,
   "metadata": {},
   "outputs": [
    {
     "name": "stdout",
     "output_type": "stream",
     "text": [
      "Least-squares solution:\n",
      "[1.71291595 1.41987175 2.03976055]\n",
      "Residuals:\n",
      "[10.76922349]\n",
      "Rank of matrix A:\n",
      "3\n",
      "Singular values of matrix A:\n",
      "[2.30401635 0.82445122 0.35691166]\n"
     ]
    }
   ],
   "source": [
    "import numpy as np\n",
    "\n",
    "# Create a matrix A (arr) and vector y\n",
    "arr = np.random.rand(5, 3)  # Example matrix A\n",
    "y = [1, 2, 3, 4, 5]  # Example vector y\n",
    "\n",
    "# Compute the least-squares solution\n",
    "solution, residuals, rank, singular = np.linalg.lstsq(arr, y, rcond=None)\n",
    "\n",
    "# Print the results\n",
    "print(\"Least-squares solution:\")\n",
    "print(solution)\n",
    "print(\"Residuals:\")\n",
    "print(residuals)\n",
    "print(\"Rank of matrix A:\")\n",
    "print(rank)\n",
    "print(\"Singular values of matrix A:\")\n",
    "print(singular)\n"
   ]
  },
  {
   "cell_type": "code",
   "execution_count": null,
   "metadata": {},
   "outputs": [],
   "source": []
  }
 ],
 "metadata": {
  "kernelspec": {
   "display_name": "Python 3",
   "language": "python",
   "name": "python3"
  },
  "language_info": {
   "codemirror_mode": {
    "name": "ipython",
    "version": 3
   },
   "file_extension": ".py",
   "mimetype": "text/x-python",
   "name": "python",
   "nbconvert_exporter": "python",
   "pygments_lexer": "ipython3",
   "version": "3.11.9"
  }
 },
 "nbformat": 4,
 "nbformat_minor": 2
}
