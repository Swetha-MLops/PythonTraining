{
 "cells": [
  {
   "cell_type": "code",
   "execution_count": 7,
   "metadata": {},
   "outputs": [
    {
     "name": "stdout",
     "output_type": "stream",
     "text": [
      "hello! ALICE, how are you doing today?\n"
     ]
    }
   ],
   "source": [
    "name=\"Alice\"\n",
    "greeting= f\"hello! {name.upper()}, how are you doing today?\"\n",
    "print(greeting)"
   ]
  },
  {
   "cell_type": "code",
   "execution_count": 6,
   "metadata": {},
   "outputs": [
    {
     "name": "stdout",
     "output_type": "stream",
     "text": [
      "hello!alice, how are you doing today?\n"
     ]
    }
   ],
   "source": [
    "greeting=f\"hello!{name.lower()}, how are you doing today?\"\n",
    "print(greeting)"
   ]
  },
  {
   "cell_type": "code",
   "execution_count": 24,
   "metadata": {},
   "outputs": [
    {
     "data": {
      "text/plain": [
       "11"
      ]
     },
     "execution_count": 24,
     "metadata": {},
     "output_type": "execute_result"
    }
   ],
   "source": [
    "name=\"Hello Alice\"\n",
    "len(name)"
   ]
  },
  {
   "cell_type": "code",
   "execution_count": 25,
   "metadata": {},
   "outputs": [
    {
     "data": {
      "text/plain": [
       "3"
      ]
     },
     "execution_count": 25,
     "metadata": {},
     "output_type": "execute_result"
    }
   ],
   "source": [
    "office_dates= (\"monday\",\"tuesday\",\"friday\")\n",
    "len(office_dates)"
   ]
  },
  {
   "cell_type": "code",
   "execution_count": 88,
   "metadata": {},
   "outputs": [
    {
     "data": {
      "text/plain": [
       "5"
      ]
     },
     "execution_count": 88,
     "metadata": {},
     "output_type": "execute_result"
    }
   ],
   "source": [
    "weeks=(10,15,20,30,40)\n",
    "len(weeks)"
   ]
  },
  {
   "cell_type": "code",
   "execution_count": 3,
   "metadata": {},
   "outputs": [
    {
     "name": "stdout",
     "output_type": "stream",
     "text": [
      "I like to eat apple.\n",
      "I like to eat banana.\n",
      "I like to eat cherry.\n"
     ]
    }
   ],
   "source": [
    "fruits = (\"apple\", \"banana\", \"cherry\")\n",
    "for fruit_name in fruits:\n",
    "  print(f\"I like to eat {fruit_name}.\")\n"
   ]
  },
  {
   "cell_type": "code",
   "execution_count": 10,
   "metadata": {},
   "outputs": [
    {
     "name": "stdout",
     "output_type": "stream",
     "text": [
      "I like red.\n",
      "I like green.\n",
      "I like yellow.\n"
     ]
    }
   ],
   "source": [
    "colors=(\"red\",\"green\",\"yellow\")\n",
    "for color in colors:\n",
    "    print(f\"I like {color}.\")\n"
   ]
  },
  {
   "cell_type": "code",
   "execution_count": 7,
   "metadata": {},
   "outputs": [
    {
     "name": "stdout",
     "output_type": "stream",
     "text": [
      "counting: 1\n",
      "counting: 2\n",
      "counting: 3\n",
      "counting: 4\n"
     ]
    }
   ],
   "source": [
    "count=1\n",
    "while count<5:\n",
    "    print(f\"counting: {count}\")\n",
    "    count += 1"
   ]
  },
  {
   "cell_type": "code",
   "execution_count": 12,
   "metadata": {},
   "outputs": [
    {
     "name": "stdout",
     "output_type": "stream",
     "text": [
      "10\n",
      "2\n",
      "10\n",
      "20\n",
      "30\n",
      "0\n"
     ]
    }
   ],
   "source": [
    "numbers = [1, 5, 10, 15]\n",
    "print(numbers[2]) #Access element at index 2 (5).\n",
    "numbers.append(0) \n",
    "for number in numbers:\n",
    "  print(number * 2)\n",
    " "
   ]
  },
  {
   "cell_type": "markdown",
   "metadata": {},
   "source": [
    "1.Write a program that uses if statements to determine if a number is even or odd.?"
   ]
  },
  {
   "cell_type": "code",
   "execution_count": 15,
   "metadata": {},
   "outputs": [
    {
     "name": "stdout",
     "output_type": "stream",
     "text": [
      "even\n"
     ]
    }
   ],
   "source": [
    "numbers_list= 8\n",
    "if numbers_list % 2 == 0:\n",
    "    print(\"even\")\n",
    "else:\n",
    "     print(\"Odd\")\n",
    "#for number in numbers:\n",
    "         "
   ]
  },
  {
   "cell_type": "markdown",
   "metadata": {},
   "source": [
    "2.Use a for loop to iterate over a list of names and print greetings for each person."
   ]
  },
  {
   "cell_type": "code",
   "execution_count": 21,
   "metadata": {},
   "outputs": [
    {
     "name": "stdout",
     "output_type": "stream",
     "text": [
      "Hello John !\n",
      "Hello Robert !\n",
      "Hello Bob !\n"
     ]
    }
   ],
   "source": [
    "#creating a function greetings.\n",
    "def greetings(list):\n",
    " for name in list:\n",
    "    print(f\"Hello\", name,\"!\")\n",
    "\n",
    "#name list.\n",
    "list=(\"John\",\"Robert\",\"Bob\")\n",
    "\n",
    "# Call the function to greet each person.\n",
    "greetings(list)"
   ]
  },
  {
   "cell_type": "markdown",
   "metadata": {},
   "source": [
    "3.Challenge yourself: Create a program that uses a while loop to guess a random number within a specific range?\n",
    "\n",
    " If we use the \" while\" it will conyinue iterate.instead of while we use \"if\"."
   ]
  },
  {
   "cell_type": "code",
   "execution_count": 58,
   "metadata": {},
   "outputs": [
    {
     "name": "stdout",
     "output_type": "stream",
     "text": [
      "try again\n",
      "try again\n",
      "try again\n",
      "try again\n",
      "congrats\n",
      "try again\n",
      "try again\n",
      "try again\n",
      "try again\n",
      "try again\n"
     ]
    }
   ],
   "source": [
    "secret_number=4\n",
    "for num in range(10):\n",
    "    #print(num)\n",
    "  if num== secret_number:\n",
    "   print(f\"congrats\") \n",
    "  else:\n",
    "    print(f\"try again\")\n"
   ]
  },
  {
   "cell_type": "markdown",
   "metadata": {},
   "source": [
    "5.Create 3 variables to store street, city and country, now create address variable to store entire address. Use two ways of creating this variable, one using + operator and the other using f-string. Now Print the address in such a way that the street, city and country prints in a separate line?\n"
   ]
  },
  {
   "cell_type": "code",
   "execution_count": 61,
   "metadata": {},
   "outputs": [
    {
     "name": "stdout",
     "output_type": "stream",
     "text": [
      "Address (using + operator):\n",
      "123 Main St\n",
      "Anytown\n",
      "Countryland\n"
     ]
    }
   ],
   "source": [
    "street = \"123 Main St\"\n",
    "city = \"Anytown\"\n",
    "country = \"Countryland\"\n",
    "address_plus = street + \"\\n\" + city + \"\\n\" + country\n",
    "print(\"Address (using + operator):\")\n",
    "print(address_plus)"
   ]
  },
  {
   "cell_type": "code",
   "execution_count": 60,
   "metadata": {},
   "outputs": [
    {
     "name": "stdout",
     "output_type": "stream",
     "text": [
      "123 Main St\n",
      "Anytown\n",
      "Countryland\n"
     ]
    }
   ],
   "source": [
    "address_fstring = f\"{street}\\n{city}\\n{country}\"\n",
    "print(address_fstring)"
   ]
  },
  {
   "cell_type": "markdown",
   "metadata": {},
   "source": [
    "6.Create a variable to store the string \"Earth revolves around the sun\" Print \"revolves\" using slice operator Print \"sun\" using negative index\n",
    "\n"
   ]
  },
  {
   "cell_type": "code",
   "execution_count": null,
   "metadata": {},
   "outputs": [],
   "source": [
    "sentence = \"Earth revolves around the sun\"\n",
    "\n",
    "# Print \"revolves\" using slice operator\n",
    "print(sentence[6:14])\n",
    "\n",
    "# Print \"sun\" using negative index\n",
    "print(sentence[-3:])\n"
   ]
  },
  {
   "cell_type": "markdown",
   "metadata": {},
   "source": [
    "7.Create two variables to store how many fruits and vegetables you eat in a day. Now Print \"I eat x veggies and y fruits daily\" where x and y presents vegetables and fruits that you eat everyday. Use python f string for this."
   ]
  },
  {
   "cell_type": "code",
   "execution_count": 63,
   "metadata": {},
   "outputs": [
    {
     "name": "stdout",
     "output_type": "stream",
     "text": [
      "I eat 4 fruits and 6 vegies daily\n"
     ]
    }
   ],
   "source": [
    "fruits=4\n",
    "veg=6\n",
    "\n",
    "print(f\"I eat {fruits} fruits and {veg} vegies daily\")"
   ]
  },
  {
   "cell_type": "markdown",
   "metadata": {},
   "source": [
    "8.I have a string variable called s='maine 200 banana khaye'. This of course is a wrong statement, the correct statement is 'maine 10 samosa khaye'. Replace incorrect words in original string with new ones and print the new string. Also try to do this in one line.\n",
    "\n"
   ]
  },
  {
   "cell_type": "code",
   "execution_count": 65,
   "metadata": {},
   "outputs": [
    {
     "name": "stdout",
     "output_type": "stream",
     "text": [
      "maine 10 samosa khaye\n"
     ]
    }
   ],
   "source": [
    "string= \"maine 200 banana khaye\"\n",
    "new_string=string.replace(\"200 banana\",\"10 samosa\")\n",
    "print(new_string)"
   ]
  },
  {
   "cell_type": "markdown",
   "metadata": {},
   "source": [
    "9.Using following list of cities per country,\n",
    "\n",
    "     india = [\"mumbai\", \"banglore\", \"chennai\", \"delhi\"]\n",
    "     pakistan = [\"lahore\",\"karachi\",\"islamabad\"]\n",
    "     bangladesh = [\"dhaka\", \"khulna\", \"rangpur\"]\n",
    "a. Write a program that asks user to enter a city name and it should tell which country the city belongs to\n",
    "\n",
    "b. Write a program that asks user to enter two cities and it tells you if they both are in same country or not. For example if I enter mumbai and chennai, it will print \"Both cities are in India\" but if I enter mumbai and dhaka it should print \"They don't belong to same country\""
   ]
  },
  {
   "cell_type": "code",
   "execution_count": null,
   "metadata": {},
   "outputs": [],
   "source": []
  }
 ],
 "metadata": {
  "kernelspec": {
   "display_name": "Python 3",
   "language": "python",
   "name": "python3"
  },
  "language_info": {
   "codemirror_mode": {
    "name": "ipython",
    "version": 3
   },
   "file_extension": ".py",
   "mimetype": "text/x-python",
   "name": "python",
   "nbconvert_exporter": "python",
   "pygments_lexer": "ipython3",
   "version": "3.11.9"
  }
 },
 "nbformat": 4,
 "nbformat_minor": 2
}
