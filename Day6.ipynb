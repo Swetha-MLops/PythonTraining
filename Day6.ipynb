{
 "cells": [
  {
   "cell_type": "code",
   "execution_count": null,
   "metadata": {},
   "outputs": [],
   "source": [
    "CLASSES AND objectS"
   ]
  },
  {
   "cell_type": "code",
   "execution_count": 1,
   "metadata": {},
   "outputs": [
    {
     "name": "stdout",
     "output_type": "stream",
     "text": [
      "Total Marks: 450\n",
      "Average Score: 90.0\n"
     ]
    }
   ],
   "source": [
    "#1. Design a class Student with attributes like name, roll_number, and marks (list of scores).\n",
    "# Include methods to calculate the total marks and average score.\n",
    "\n",
    "class Student:\n",
    "    def __init__(self, name, roll_number, marks):\n",
    "        self.name = name\n",
    "        self.roll_number = roll_number\n",
    "        self.marks = marks\n",
    "    \n",
    "    def calculate_total_marks(self):\n",
    "        total_marks = sum(self.marks)\n",
    "        print(\"Total Marks:\", total_marks)\n",
    "    \n",
    "    def calculate_average_score(self):\n",
    "        total_marks = sum(self.marks)\n",
    "        average_score = total_marks / len(self.marks)\n",
    "        print(\"Average Score:\", average_score)\n",
    "        \n",
    "student1 = Student(\"John\", \"A001\", [85, 90, 92, 88, 95])\n",
    "student1.calculate_total_marks()\n",
    "student1.calculate_average_score()\n"
   ]
  },
  {
   "cell_type": "markdown",
   "metadata": {},
   "source": [
    "\n",
    "2.Create a class Rectangle with attributes for width and height. Implement methods to calculate the area and perimeter.\n"
   ]
  },
  {
   "cell_type": "code",
   "execution_count": 5,
   "metadata": {},
   "outputs": [
    {
     "name": "stdout",
     "output_type": "stream",
     "text": [
      "Area: 10\n",
      "Perimeter: 14\n"
     ]
    }
   ],
   "source": [
    "class Rectangle:\n",
    "    def __init__(self, width, height):\n",
    "        self.width = width\n",
    "        self.height = height\n",
    "\n",
    "        # Calculate area and perimeter within __init__\n",
    "        self.area = self.width * self.height\n",
    "        self.perimeter = 2 * (self.width + self.height)\n",
    "\n",
    "# Create an instance of Rectangle\n",
    "new_rectangle = Rectangle(5, 2)\n",
    "\n",
    "# Access area and perimeter attributes\n",
    "print(\"Area:\", new_rectangle.area)\n",
    "print(\"Perimeter:\", new_rectangle.perimeter)\n"
   ]
  },
  {
   "cell_type": "markdown",
   "metadata": {},
   "source": [
    "3.Define a class Employee with attributes like name, salary, and department. Include methods to apply a raise and display employee information."
   ]
  },
  {
   "cell_type": "code",
   "execution_count": 12,
   "metadata": {},
   "outputs": [
    {
     "name": "stdout",
     "output_type": "stream",
     "text": [
      "Employee Information:\n",
      "Name: John\n",
      "Salary: 50000\n",
      "Department: IT\n",
      "\n",
      "Updated\n",
      "Employee Information:\n",
      "Name: John\n",
      "Salary: 60000\n",
      "Department: IT\n"
     ]
    }
   ],
   "source": [
    "class Employee:\n",
    "    #___init__ this method initializes attributes\n",
    "    def __init__(self, name, salary, department):\n",
    "        self.name = name\n",
    "        self.salary = salary\n",
    "        self.department = department\n",
    "    \n",
    "    #this method for disply\n",
    "    def display_info(self):\n",
    "        print(\"Employee Information:\")\n",
    "        print(\"Name:\", self.name)\n",
    "        print(\"Salary:\", self.salary)\n",
    "        print(\"Department:\", self.department)\n",
    "\n",
    "    #this method for raise salary\n",
    "    def apply_raise(self, raise_amount):\n",
    "        self.salary += raise_amount\n",
    "        \n",
    " #using for example john             \n",
    "employee1 = Employee(\"John\", 50000, \"IT\")\n",
    "\n",
    "employee1.display_info()\n",
    "print()\n",
    "print(f\"Updated\")\n",
    "\n",
    "employee1.apply_raise(10000) #raise 10000 \n",
    "employee1.display_info()\n"
   ]
  },
  {
   "cell_type": "code",
   "execution_count": null,
   "metadata": {},
   "outputs": [],
   "source": []
  }
 ],
 "metadata": {
  "kernelspec": {
   "display_name": "Python 3",
   "language": "python",
   "name": "python3"
  },
  "language_info": {
   "codemirror_mode": {
    "name": "ipython",
    "version": 3
   },
   "file_extension": ".py",
   "mimetype": "text/x-python",
   "name": "python",
   "nbconvert_exporter": "python",
   "pygments_lexer": "ipython3",
   "version": "3.11.9"
  }
 },
 "nbformat": 4,
 "nbformat_minor": 2
}
