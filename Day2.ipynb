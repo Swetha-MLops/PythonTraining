{
 "cells": [
  {
   "cell_type": "markdown",
   "metadata": {},
   "source": []
  },
  {
   "cell_type": "markdown",
   "metadata": {},
   "source": [
    "1.Create a variable called break and assign it a value 5. See what happens and find out the reason behind the behavior that you see.\n",
    "\n",
    "If we use break as variable it is showing syntax error. Break is loop control statement. We can use to control the sequence of loop."
   ]
  },
  {
   "cell_type": "markdown",
   "metadata": {},
   "source": [
    "2.  Create two variables. One to store your birth year and another one to store current year. Now calculate your age using these two variables\n",
    "\n",
    "3. Store your first, middle and last name in three different variables and then print your full name using these variables\n",
    "\n",
    "4.Answer which of these are invalid variable names: _nation 1record record1 record_one record-one record^one continue\n",
    "\n",
    "5.You have a football field that is 92 meter long and 48.8 meter wide. Find out total area using python and print it.\n",
    "\n",
    "6.You bought 9 packets of potato chips from a store. Each packet costs 1.49 dollar and you gave shopkeeper 20 dollar. Find out using python, how many dollars is the shopkeeper going to give you back?\n",
    "\n",
    "7.You want to replace tiles in your bathroom which is exactly square and 5.5 feet is its length. If tiles cost 500 rs per square feet, how much will be the total cost to replace all tiles. Calculate and print the cost using python (Hint: Use power operator ** to find area of a square)\n",
    "\n",
    "8. Print binary representation of number 17\n",
    "\n",
    "9.  A movie theater charges different prices for adults, children, and seniors.\n",
    "\n",
    "Adults: $12.50\n",
    "\n",
    "Children (under 12): $8.00\n",
    "\n",
    "Seniors (over 65): $10.00\n",
    "\n",
    "Write a Python program that asks the user for their age and then calculates the movie ticket price based on their age category. Print the appropriate price.\n",
    "\n",
    "An online store offers free shipping for orders above $50.\n",
    "\n",
    "Write a program that asks the user for the total amount of their shopping cart.\n",
    "\n",
    "If the amount is greater than or equal to $50, print \"Free shipping!\" else print \"Shipping charges apply.\"\n",
    "\n",
    "A year is a leap year if it is divisible by 4 (except for years divisible by 100 but not by 400). Write a Python program that asks the user for a year and Print \"Leap year!\" if the year is a leap year, otherwise print \"Not a leap year.\"\n",
    "\n",
    "Write a Python program that asks the user to enter a temperature value. It should then ask the user to specify the unit (Celsius 'C' or Fahrenheit 'F'). The program should:\n",
    "\n",
    "Store the temperature and unit in separate variables. Use an if-else statement to check the unit and convert the temperature accordingly (provide conversion logic for both directions or indicate that conversion is not supported for the entered unit using None). Print the converted temperature with the appropriate unit label (e.g., \"32 degrees Fahrenheit\")."
   ]
  }
 ],
 "metadata": {
  "kernelspec": {
   "display_name": "Python 3",
   "language": "python",
   "name": "python3"
  },
  "language_info": {
   "name": "python",
   "version": "3.11.9"
  }
 },
 "nbformat": 4,
 "nbformat_minor": 2
}
