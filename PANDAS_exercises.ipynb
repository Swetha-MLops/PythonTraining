{
 "cells": [
  {
   "cell_type": "markdown",
   "metadata": {},
   "source": [
    "#What is the maximum Fare that was paid? And the median?"
   ]
  },
  {
   "cell_type": "code",
   "execution_count": 15,
   "metadata": {},
   "outputs": [
    {
     "name": "stdout",
     "output_type": "stream",
     "text": [
      "The maximum fare paid is:  71.2833\n",
      "The median fare paid is:  8.0\n",
      "The average of survived is:  0.7142857142857143\n"
     ]
    }
   ],
   "source": [
    "import pandas as pd\n",
    "import numpy as np\n",
    "# Load the data\n",
    "#data = pd.read_csv('titanic.csv')\n",
    "data = pd.read_excel(\"C:/Users/rammo/OneDrive/Desktop/titanic.xlsx\")\n",
    "# Calculate the maximum fare\n",
    "max_fare = data['Fare'].max()\n",
    "print(\"The maximum fare paid is: \", max_fare)\n",
    "# Calculate the median fare\n",
    "median_fare = data['Fare'].median()\n",
    "print(\"The median fare paid is: \", median_fare)\n",
    "\n",
    "# Calculate the average suvived\n",
    "avarage_survived = data['Survived'].mean()\n",
    "print(\"The average of survived is: \", avarage_survived)"
   ]
  },
  {
   "cell_type": "markdown",
   "metadata": {},
   "source": [
    "What is the age distribution of the passengers? (titanic data)"
   ]
  },
  {
   "cell_type": "code",
   "execution_count": 16,
   "metadata": {},
   "outputs": [
    {
     "data": {
      "text/plain": [
       "<Axes: >"
      ]
     },
     "execution_count": 16,
     "metadata": {},
     "output_type": "execute_result"
    },
    {
     "data": {
      "image/png": "[encoded data removed]",
      "text/plain": [
       "<Figure size 400x400 with 1 Axes>"
      ]
     },
     "metadata": {},
     "output_type": "display_data"
    }
   ],
   "source": [
    "data['Age'].hist(figsize=(4,4))"
   ]
  },
  {
   "cell_type": "markdown",
   "metadata": {},
   "source": [
    "How does the survival rate of the passengers differ between sexes?"
   ]
  },
  {
   "cell_type": "code",
   "execution_count": 18,
   "metadata": {},
   "outputs": [
    {
     "data": {
      "text/html": [
       "<div>\n",
       "<style scoped>\n",
       "    .dataframe tbody tr th:only-of-type {\n",
       "        vertical-align: middle;\n",
       "    }\n",
       "\n",
       "    .dataframe tbody tr th {\n",
       "        vertical-align: top;\n",
       "    }\n",
       "\n",
       "    .dataframe thead th {\n",
       "        text-align: right;\n",
       "    }\n",
       "</style>\n",
       "<table border=\"1\" class=\"dataframe\">\n",
       "  <thead>\n",
       "    <tr style=\"text-align: right;\">\n",
       "      <th></th>\n",
       "      <th>Survived</th>\n",
       "    </tr>\n",
       "    <tr>\n",
       "      <th>Sex</th>\n",
       "      <th></th>\n",
       "    </tr>\n",
       "  </thead>\n",
       "  <tbody>\n",
       "    <tr>\n",
       "      <th>female</th>\n",
       "      <td>1.000000</td>\n",
       "    </tr>\n",
       "    <tr>\n",
       "      <th>male</th>\n",
       "      <td>0.333333</td>\n",
       "    </tr>\n",
       "  </tbody>\n",
       "</table>\n",
       "</div>"
      ],
      "text/plain": [
       "        Survived\n",
       "Sex             \n",
       "female  1.000000\n",
       "male    0.333333"
      ]
     },
     "execution_count": 18,
     "metadata": {},
     "output_type": "execute_result"
    }
   ],
   "source": [
    "data.groupby('Sex')[['Survived']].aggregate(lambda x: x.sum() / len(x))"
   ]
  },
  {
   "cell_type": "markdown",
   "metadata": {},
   "source": [
    "How does it differ between the different classes?"
   ]
  },
  {
   "cell_type": "code",
   "execution_count": 19,
   "metadata": {},
   "outputs": [
    {
     "data": {
      "text/plain": [
       "<Axes: xlabel='Pclass'>"
      ]
     },
     "execution_count": 19,
     "metadata": {},
     "output_type": "execute_result"
    },
    {
     "data": {
      "image/png": "[encoded data removed]",
      "text/plain": [
       "<Figure size 400x400 with 1 Axes>"
      ]
     },
     "metadata": {},
     "output_type": "display_data"
    }
   ],
   "source": [
    "data.groupby('Pclass')['Survived'].aggregate(lambda x: x.sum() / len(x)).plot(kind='bar',figsize=(4,4))"
   ]
  },
  {
   "cell_type": "markdown",
   "metadata": {},
   "source": [
    "Case 2: air quality measurement timeseries\n",
    "AirBase (The European Air quality dataBase): hourly measurements of all air quality monitoring stations from Europe\n",
    "\n",
    "Starting from these hourly data for different stations:"
   ]
  },
  {
   "cell_type": "code",
   "execution_count": 28,
   "metadata": {},
   "outputs": [
    {
     "name": "stdout",
     "output_type": "stream",
     "text": [
      "                     BASCH  BONAP  PA18  VERS\n",
      "timestamp                                    \n",
      "2000-01-01 02:00:00    104     60    77    42\n",
      "2000-01-01 03:00:00     97     58    73    37\n",
      "2000-01-01 04:00:00     77     52    57    33\n",
      "2000-01-01 05:00:00     79     52    64    27\n"
     ]
    }
   ],
   "source": [
    "import pandas as pd\n",
    "\n",
    "# URL to the Excel file\n",
    "\n",
    "\n",
    "# Read Excel file into DataFrame\n",
    "try:\n",
    "    air_data = pd.read_excel(\"C:/Users/rammo/OneDrive/Desktop/air_quality.xlsx\",\n",
    "                         engine='openpyxl',   # Specify the engine (openpyxl or xlrd)\n",
    "                         sheet_name='Sheet1',  # Specify the sheet name if necessary\n",
    "                         skiprows=[1],         # Skip the second row (index 1)\n",
    "                         na_values=['n/d'],    # Treat 'n/d' as NaN (missing data)\n",
    "                         index_col=0,          # Use the first column as the index\n",
    "                         parse_dates=True      # Parse dates in the DataFrame\n",
    "                         )\n",
    "    \n",
    "    # Display the first few rows of the DataFrame\n",
    "    print(air_data.head())\n",
    "\n",
    "except Exception as e:\n",
    "    print(f\"Error reading Excel file from URL: {e}\")\n"
   ]
  },
  {
   "cell_type": "markdown",
   "metadata": {},
   "source": [
    "EXERCISE: Read the data/20000101_20161231-NO2.csv file into a DataFrame no2\n",
    "\n",
    "Some aspects about the file:"
   ]
  },
  {
   "cell_type": "markdown",
   "metadata": {},
   "source": [
    "1.Which separator is used in the file?"
   ]
  },
  {
   "cell_type": "markdown",
   "metadata": {},
   "source": [
    "#It might be a comma (,), semicolon (;), tab (\\t), or another character\n",
    "import pandas as pd\n",
    "\n",
    "# Example: CSV file with semicolon separator\n",
    "#df = pd.read_csv('data.csv', sep=';')\n",
    "\n",
    "# Example: CSV file with tab separator\n",
    "#df = pd.read_csv('data.csv', sep='\\t')\n",
    "\n",
    "# Example: CSV file with whitespace around semicolon separator\n",
    "#df = pd.read_csv('data.csv', sep=';', skipinitialspace=True)\n",
    "\n",
    "\"\"\"If you need to specify a delimiter other than the default comma (,)\n",
    "when reading a CSV file into a Pandas DataFrame,\n",
    "you can use the delimiter parameter in pd.read_csv(). \"\"\"\n",
    "# Example: Reading CSV file with a custom delimiter\n",
    "#df = pd.read_csv('data.csv', delimiter='/')\n",
    "\n",
    "# Example: CSV file with whitespace around semicolon separator\n",
    "df = pd.read_csv('data.csv', sep=';', skipinitialspace=True)\n",
    "print(df)"
   ]
  },
  {
   "cell_type": "markdown",
   "metadata": {},
   "source": [
    "2.The second row includes unit information and should be skipped (check `skiprows` keyword)\n",
    "For missing values, it uses the `'n/d'` notation (check `na_values` keyword)"
   ]
  },
  {
   "cell_type": "code",
   "execution_count": null,
   "metadata": {},
   "outputs": [],
   "source": [
    "\n",
    "import pandas as pd\n",
    "\n",
    "# Example: Reading CSV file with skipping the second row and handling 'n/d' as NaN\n",
    "df = pd.read_csv('data.csv', skiprows=[1], na_values='n/d')\n",
    "\n",
    "# Display the DataFrame to verify\n",
    "print(df)\n",
    "\n",
    "#'n/d'treated as a NaN value in the DataFrame,missing or invalid data entries."
   ]
  },
  {
   "cell_type": "markdown",
   "metadata": {},
   "source": [
    "3.We want to parse the 'timestamp' column as datetimes (check the `parse_dates` keyword)"
   ]
  },
  {
   "cell_type": "code",
   "execution_count": null,
   "metadata": {},
   "outputs": [],
   "source": [
    "#When you read a CSV or Excel file into a Pandas DataFrame using \n",
    "#read_csv() or read_excel()\n",
    "\n",
    "\n",
    "import pandas as pd\n",
    "\n",
    "# Example CSV file with dates\n",
    "df = pd.read_csv('data.csv', parse_dates=True)\n",
    "\n",
    "df = pd.read_csv('data.csv', parse_dates=['date_column'])\n",
    "\n",
    "df = pd.read_csv('data.csv', parse_dates=[0, 1])  # Parses first and second columns as dates\n",
    "\n",
    "#USES:Simplifies Date Handling,Time Series Analysis\n"
   ]
  },
  {
   "cell_type": "markdown",
   "metadata": {},
   "source": [
    "EXERCISE:\n",
    "\n",
    "Based on the titanic data set, select all rows for male passengers and calculate the mean age of those passengers. Do the same for the female passengers"
   ]
  },
  {
   "cell_type": "code",
   "execution_count": null,
   "metadata": {},
   "outputs": [
    {
     "name": "stdout",
     "output_type": "stream",
     "text": [
      "0.4\n",
      "0.6\n"
     ]
    }
   ],
   "source": [
    "import pandas as pd\n",
    "\n",
    "import numpy as np\n",
    "df=pd.read_excel('C:/Users/rammo/OneDrive/Desktop/titanic.xlsx')\n",
    "\n",
    "male=df['Sex']=='male'\n",
    "female=df['Sex']=='female'\n",
    "male_mean=male.mean()\n",
    "female_mean=female.mean()\n",
    "\n",
    "print(male_mean)\n",
    "print(female_mean)\n",
    "\n"
   ]
  },
  {
   "cell_type": "markdown",
   "metadata": {},
   "source": [
    "EXERCISE:\n",
    "\n",
    "Based on the titanic data set, how many passengers older than 70 were on the Titanic?"
   ]
  },
  {
   "cell_type": "code",
   "execution_count": null,
   "metadata": {},
   "outputs": [
    {
     "name": "stdout",
     "output_type": "stream",
     "text": [
      "Empty DataFrame\n",
      "Columns: [PassengerId, Survived, Survived.1, Pclass, Name, Sex, Age, sbsip, parch, Ticket, Fare, Cabin, Embarked]\n",
      "Index: []\n"
     ]
    }
   ],
   "source": [
    "import pandas as pd\n",
    "df=pd.read_excel('C:/Users/rammo/OneDrive/Desktop/titanic.xlsx')\n",
    "\n",
    "\n",
    "older= df['Age']>70\n",
    "print(df[older])"
   ]
  },
  {
   "cell_type": "markdown",
   "metadata": {},
   "source": [
    "EXERCISE:\n",
    "\n",
    "Calculate the average age for each sex again, but now using groupby."
   ]
  },
  {
   "cell_type": "code",
   "execution_count": null,
   "metadata": {},
   "outputs": [
    {
     "data": {
      "text/plain": [
       "Sex\n",
       "female    35.0\n",
       "male      28.5\n",
       "Name: Age, dtype: float64"
      ]
     },
     "execution_count": 14,
     "metadata": {},
     "output_type": "execute_result"
    }
   ],
   "source": [
    "df=pd.read_excel('C:/Users/rammo/OneDrive/Desktop/titanic.xlsx')\n",
    "df.groupby('Sex')['Age'].median()"
   ]
  },
  {
   "cell_type": "markdown",
   "metadata": {},
   "source": [
    "EXERCISE:\n",
    "\n",
    "Calculate the average survival ratio for all passengers."
   ]
  },
  {
   "cell_type": "code",
   "execution_count": null,
   "metadata": {},
   "outputs": [
    {
     "name": "stdout",
     "output_type": "stream",
     "text": [
      "0.7142857142857143\n"
     ]
    }
   ],
   "source": [
    "df=pd.read_excel('C:/Users/rammo/OneDrive/Desktop/titanic.xlsx')\n",
    "#print(df)\n",
    "avarage_all=df['Survived'].mean()\n",
    "print(avarage_all)"
   ]
  },
  {
   "cell_type": "markdown",
   "metadata": {},
   "source": [
    "EXERCISE:\n",
    "\n",
    "Calculate this survival ratio for all passengers younger that 25 (remember: filtering/boolean indexing)."
   ]
  },
  {
   "cell_type": "code",
   "execution_count": null,
   "metadata": {},
   "outputs": [
    {
     "name": "stdout",
     "output_type": "stream",
     "text": [
      "survival_below -  0.5\n"
     ]
    }
   ],
   "source": [
    "import pandas as pd\n",
    "df=pd.read_excel('C:/Users/rammo/OneDrive/Desktop/titanic.xlsx')\n",
    "below= df[df['Age'] < 25]\n",
    "survival_below = below['Survived'].mean()\n",
    "print(\"survival_below - \",survival_below)"
   ]
  },
  {
   "cell_type": "markdown",
   "metadata": {},
   "source": [
    "What is the difference in the survival ratio between the sexes?"
   ]
  },
  {
   "cell_type": "code",
   "execution_count": null,
   "metadata": {},
   "outputs": [
    {
     "name": "stdout",
     "output_type": "stream",
     "text": [
      "Sex\n",
      "female    1.000000\n",
      "male      0.333333\n",
      "Name: Survived, dtype: float64\n"
     ]
    }
   ],
   "source": [
    "import pandas as pd\n",
    "df=pd.read_excel('C:/Users/rammo/OneDrive/Desktop/titanic.xlsx')\n",
    "servivalbysex=df.groupby('Sex')['Survived'].mean()\n",
    "print(servivalbysex)"
   ]
  },
  {
   "cell_type": "markdown",
   "metadata": {},
   "source": [
    "How does it differ between the different classes? Make a bar plot visualizing the survival ratio for the 3 classes."
   ]
  },
  {
   "cell_type": "code",
   "execution_count": 56,
   "metadata": {},
   "outputs": [
    {
     "data": {
      "text/plain": [
       "<Axes: >"
      ]
     },
     "execution_count": 56,
     "metadata": {},
     "output_type": "execute_result"
    },
    {
     "data": {
      "image/png": "[encoded data removed]",
      "text/plain": [
       "<Figure size 640x480 with 1 Axes>"
      ]
     },
     "metadata": {},
     "output_type": "display_data"
    }
   ],
   "source": [
    "import pandas as pd\n",
    "df=pd.read_excel('C:/Users/rammo/OneDrive/Desktop/titanic.xlsx')\n",
    "df.plot()    "
   ]
  },
  {
   "cell_type": "code",
   "execution_count": 48,
   "metadata": {
    "vscode": {
     "languageId": "ruby"
    }
   },
   "outputs": [
    {
     "data": {
      "image/png": "[encoded data removed]",
      "text/plain": [
       "<Figure size 700x500 with 1 Axes>"
      ]
     },
     "metadata": {},
     "output_type": "display_data"
    }
   ],
   "source": [
    "import pandas as pd\n",
    "import matplotlib.pyplot as plt\n",
    "\n",
    "data=pd.read_excel('C:/Users/rammo/OneDrive/Desktop/titanic.xlsx')\n",
    "\n",
    "df = pd.DataFrame(data)\n",
    "\n",
    "# Calculate average survival rate for all passengers\n",
    "average_all = df['Survived'].mean()\n",
    "\n",
    "# Calculate survival rate for passengers below 25 years old\n",
    "below_25 = df[df['Age'] < 25]\n",
    "survival_below = below_25['Survived'].mean()\n",
    "\n",
    "# Calculate survival rate by sex\n",
    "survival_by_sex = df.groupby('Sex')['Survived'].mean()\n",
    "\n",
    "#Plotting\n",
    "plt.figure(figsize=(7, 5))\n",
    "\n",
    "# Create x-axis labels and corresponding heights\n",
    "x_labels = ['Average All', 'Survival Below 25', 'Survival by Female', 'Survival by Male']\n",
    "heights = [average_all, survival_below, survival_by_sex['female'], survival_by_sex['male']]\n",
    "\n",
    "# Plotting the bar chart\n",
    "plt.bar(x_labels[:2], heights[:2], color=['blue', 'green', 'pink'])\n",
    "plt.bar(x_labels[2:], heights[2:], color=['pink', 'blue'])\n",
    "\n",
    "plt.xlabel('Sex')\n",
    "plt.ylabel('Survival Rate')\n",
    "plt.title('Survival Rate Comparison')\n",
    "\n",
    "plt.show()\n"
   ]
  },
  {
   "cell_type": "markdown",
   "metadata": {},
   "source": [
    "Make a bar plot to visualize the average Fare payed by people depending on their age. The age column is devided is separate classes using the `pd.cut` function as provided below."
   ]
  },
  {
   "cell_type": "code",
   "execution_count": null,
   "metadata": {},
   "outputs": [],
   "source": [
    "df['AgeClass'] = pd.cut(df['Age'], bins=np.arange(0,90,10))"
   ]
  },
  {
   "cell_type": "code",
   "execution_count": null,
   "metadata": {},
   "outputs": [],
   "source": []
  },
  {
   "cell_type": "code",
   "execution_count": null,
   "metadata": {},
   "outputs": [],
   "source": [
    "import pandas as pd\n",
    "import numpy as np\n",
    "import matplotlib.pyplot as plt\n",
    "\n",
    "# Generate sample data\n",
    "dates = pd.date_range('1999-01-01', periods=100, freq='D')\n",
    "values = np.random.randint(0, 100, size=100)\n",
    "data = pd.DataFrame({'value': values}, index=dates)\n",
    "\n",
    "# Resample and plot\n",
    "data['1999':].resample('M').mean().plot(ylim=[0, 120])\n",
    "plt.xlabel('Date')\n",
    "plt.ylabel('Mean Value')\n",
    "plt.title('Monthly Mean of Data from 1999 onwards')\n",
    "plt.grid(True)\n",
    "plt.show()\n"
   ]
  },
  {
   "cell_type": "markdown",
   "metadata": {},
   "source": []
  },
  {
   "cell_type": "code",
   "execution_count": 58,
   "metadata": {},
   "outputs": [
    {
     "data": {
      "text/html": [
       "<div>\n",
       "<style scoped>\n",
       "    .dataframe tbody tr th:only-of-type {\n",
       "        vertical-align: middle;\n",
       "    }\n",
       "\n",
       "    .dataframe tbody tr th {\n",
       "        vertical-align: top;\n",
       "    }\n",
       "\n",
       "    .dataframe thead th {\n",
       "        text-align: right;\n",
       "    }\n",
       "</style>\n",
       "<table border=\"1\" class=\"dataframe\">\n",
       "  <thead>\n",
       "    <tr style=\"text-align: right;\">\n",
       "      <th></th>\n",
       "      <th>country</th>\n",
       "      <th>population</th>\n",
       "      <th>area</th>\n",
       "      <th>capital</th>\n",
       "    </tr>\n",
       "  </thead>\n",
       "  <tbody>\n",
       "    <tr>\n",
       "      <th>0</th>\n",
       "      <td>Belgium</td>\n",
       "      <td>11.3</td>\n",
       "      <td>30510</td>\n",
       "      <td>Brussels</td>\n",
       "    </tr>\n",
       "    <tr>\n",
       "      <th>1</th>\n",
       "      <td>France</td>\n",
       "      <td>64.3</td>\n",
       "      <td>671308</td>\n",
       "      <td>Paris</td>\n",
       "    </tr>\n",
       "    <tr>\n",
       "      <th>2</th>\n",
       "      <td>Germany</td>\n",
       "      <td>81.3</td>\n",
       "      <td>357050</td>\n",
       "      <td>Berlin</td>\n",
       "    </tr>\n",
       "    <tr>\n",
       "      <th>3</th>\n",
       "      <td>Netherlands</td>\n",
       "      <td>16.9</td>\n",
       "      <td>41526</td>\n",
       "      <td>Amsterdam</td>\n",
       "    </tr>\n",
       "    <tr>\n",
       "      <th>4</th>\n",
       "      <td>United Kingdom</td>\n",
       "      <td>64.9</td>\n",
       "      <td>244820</td>\n",
       "      <td>London</td>\n",
       "    </tr>\n",
       "  </tbody>\n",
       "</table>\n",
       "</div>"
      ],
      "text/plain": [
       "          country  population    area    capital\n",
       "0         Belgium        11.3   30510   Brussels\n",
       "1          France        64.3  671308      Paris\n",
       "2         Germany        81.3  357050     Berlin\n",
       "3     Netherlands        16.9   41526  Amsterdam\n",
       "4  United Kingdom        64.9  244820     London"
      ]
     },
     "execution_count": 58,
     "metadata": {},
     "output_type": "execute_result"
    }
   ],
   "source": [
    "data = {'country': ['Belgium', 'France', 'Germany', 'Netherlands', 'United Kingdom'],\n",
    "        'population': [11.3, 64.3, 81.3, 16.9, 64.9],\n",
    "        'area': [30510, 671308, 357050, 41526, 244820],\n",
    "        'capital': ['Brussels', 'Paris', 'Berlin', 'Amsterdam', 'London']}\n",
    "df_countries = pd.DataFrame(data)\n",
    "df_countries"
   ]
  },
  {
   "cell_type": "markdown",
   "metadata": {},
   "source": [
    "EXERCISE: Calculate the population numbers relative to Belgium"
   ]
  },
  {
   "cell_type": "code",
   "execution_count": 81,
   "metadata": {},
   "outputs": [
    {
     "name": "stdout",
     "output_type": "stream",
     "text": [
      "11.3\n",
      "\n",
      "0    11.3\n",
      "Name: population, dtype: float64\n"
     ]
    }
   ],
   "source": [
    "pop=df_countries['population']\n",
    "print(pop[df_countries['country'] == 'Belgium'].values[0])\n",
    "print()\n",
    "print(pop[df_countries['country'] == 'Belgium'])\n",
    "\n",
    "\n",
    "#values[0] This accesses the first (and only) value in the filtered Series,\n",
    "# which is the population of Belgium."
   ]
  },
  {
   "cell_type": "markdown",
   "metadata": {},
   "source": [
    "EXERCISE: Calculate the population density for each country and add this as a new column to the dataframe."
   ]
  },
  {
   "cell_type": "code",
   "execution_count": 92,
   "metadata": {},
   "outputs": [
    {
     "name": "stdout",
     "output_type": "stream",
     "text": [
      "          country  population    area    capital  population_density\n",
      "0         Belgium        11.3   30510   Brussels          370.370370\n",
      "1          France        64.3  671308      Paris           95.783158\n",
      "2         Germany        81.3  357050     Berlin          227.699202\n",
      "3     Netherlands        16.9   41526  Amsterdam          406.973944\n",
      "4  United Kingdom        64.9  244820     London          265.092721\n"
     ]
    }
   ],
   "source": [
    "#creating new variable for Density.\n",
    "#use le6 or 1,000,000.\n",
    "# Display the updated dataframe with new variable.\n",
    "df_countries['population_density'] = df_countries['population'] / df_countries['area'] * 1e6\n",
    "\n",
    "print(df_countries)"
   ]
  },
  {
   "cell_type": "markdown",
   "metadata": {},
   "source": [
    "EXERCISE: Select the capital and the population column of those countries where the density is larger than 300"
   ]
  },
  {
   "cell_type": "code",
   "execution_count": 98,
   "metadata": {},
   "outputs": [
    {
     "name": "stdout",
     "output_type": "stream",
     "text": [
      "     capital  population\n",
      "0   Brussels        11.3\n",
      "3  Amsterdam        16.9\n"
     ]
    }
   ],
   "source": [
    "#creating variable for 300 above.\n",
    "selected_countries= df_countries[df_countries['population_density'] > 300]\n",
    "#selecting columns\n",
    "result = selected_countries[['capital', 'population']]\n",
    "print(result)"
   ]
  },
  {
   "cell_type": "markdown",
   "metadata": {},
   "source": [
    " Add a column 'density_ratio' with the ratio of the density to the mean density\n",
    " "
   ]
  },
  {
   "cell_type": "code",
   "execution_count": 105,
   "metadata": {},
   "outputs": [
    {
     "name": "stdout",
     "output_type": "stream",
     "text": [
      "          country  population    area    capital  population_density  \\\n",
      "0         Belgium        11.3   30510   Brussels          370.370370   \n",
      "1          France        64.3  671308      Paris           95.783158   \n",
      "2         Germany        81.3  357050     Berlin          227.699202   \n",
      "3     Netherlands        16.9   41526  Amsterdam          406.973944   \n",
      "4  United Kingdom        64.9  244820     London          265.092721   \n",
      "\n",
      "   density_ratio  \n",
      "0       1.355755  \n",
      "1       0.350618  \n",
      "2       0.833502  \n",
      "3       1.489744  \n",
      "4       0.970382  \n"
     ]
    }
   ],
   "source": [
    "mean_density = df_countries['population_density'].mean()\n",
    "#each density is computing with mean density to get density ratio.\n",
    "df_countries['density_ratio'] =df_countries['population_density']/mean_density\n",
    "print(df_countries)"
   ]
  },
  {
   "cell_type": "markdown",
   "metadata": {},
   "source": [
    " Change the capital of the UK to Cambridge"
   ]
  },
  {
   "cell_type": "code",
   "execution_count": 108,
   "metadata": {},
   "outputs": [
    {
     "name": "stdout",
     "output_type": "stream",
     "text": [
      "          country  population    area    capital  population_density  \\\n",
      "0         Belgium        11.3   30510   Brussels          370.370370   \n",
      "1          France        64.3  671308      Paris           95.783158   \n",
      "2         Germany        81.3  357050     Berlin          227.699202   \n",
      "3     Netherlands        16.9   41526  Amsterdam          406.973944   \n",
      "4  United Kingdom        64.9  244820  Cambridge          265.092721   \n",
      "\n",
      "   density_ratio  \n",
      "0       1.355755  \n",
      "1       0.350618  \n",
      "2       0.833502  \n",
      "3       1.489744  \n",
      "4       0.970382  \n"
     ]
    }
   ],
   "source": [
    "df_countries.loc[df_countries['country'] == 'United Kingdom', 'capital'] = 'Cambridge'\n",
    "print(df_countries)"
   ]
  },
  {
   "cell_type": "markdown",
   "metadata": {},
   "source": [
    "EXERCISE: Select all countries whose population density is between 100 and 300 people/km²"
   ]
  },
  {
   "cell_type": "code",
   "execution_count": 109,
   "metadata": {},
   "outputs": [
    {
     "name": "stdout",
     "output_type": "stream",
     "text": [
      "          country  population_density\n",
      "2         Germany          227.699202\n",
      "4  United Kingdom          265.092721\n"
     ]
    }
   ],
   "source": [
    "selected_countries = df_countries[(df_countries['population_density'] >= 100) & (df_countries['population_density'] <= 300)]\n",
    "\n",
    "#to display selected columns use a list of column names within double square brackets [['column1', 'column2']].\n",
    "print(selected_countries[['country', 'population_density']])"
   ]
  },
  {
   "cell_type": "markdown",
   "metadata": {},
   "source": [
    "EXERCISE: Select all countries that have capital names with more than 7 characters\n",
    " "
   ]
  },
  {
   "cell_type": "code",
   "execution_count": 110,
   "metadata": {},
   "outputs": [
    {
     "name": "stdout",
     "output_type": "stream",
     "text": [
      "          country    capital\n",
      "0         Belgium   Brussels\n",
      "3     Netherlands  Amsterdam\n",
      "4  United Kingdom  Cambridge\n"
     ]
    }
   ],
   "source": [
    "# Select countries where capital names have more than 7 characters\n",
    "selected_countries = df_countries[df_countries['capital'].str.len() > 7]\n",
    "\n",
    "# Display the selected countries\n",
    "print(selected_countries[['country', 'capital']])"
   ]
  },
  {
   "cell_type": "markdown",
   "metadata": {},
   "source": []
  },
  {
   "cell_type": "markdown",
   "metadata": {},
   "source": [
    "EXERCISE: Select all countries that have capital names that contain the character sequence 'am', "
   ]
  },
  {
   "cell_type": "code",
   "execution_count": 112,
   "metadata": {},
   "outputs": [
    {
     "data": {
      "text/plain": [
       "0    False\n",
       "1    False\n",
       "2    False\n",
       "3     True\n",
       "4     True\n",
       "Name: capital, dtype: bool"
      ]
     },
     "execution_count": 112,
     "metadata": {},
     "output_type": "execute_result"
    }
   ],
   "source": [
    "df_countries['capital'].str.contains('am')"
   ]
  },
  {
   "cell_type": "markdown",
   "metadata": {},
   "source": [
    "EXERCISE: How many movies are listed in the titles dataframe?\n",
    " "
   ]
  },
  {
   "cell_type": "code",
   "execution_count": 5,
   "metadata": {},
   "outputs": [
    {
     "data": {
      "text/html": [
       "<div>\n",
       "<style scoped>\n",
       "    .dataframe tbody tr th:only-of-type {\n",
       "        vertical-align: middle;\n",
       "    }\n",
       "\n",
       "    .dataframe tbody tr th {\n",
       "        vertical-align: top;\n",
       "    }\n",
       "\n",
       "    .dataframe thead th {\n",
       "        text-align: right;\n",
       "    }\n",
       "</style>\n",
       "<table border=\"1\" class=\"dataframe\">\n",
       "  <thead>\n",
       "    <tr style=\"text-align: right;\">\n",
       "      <th></th>\n",
       "      <th>Unnamed: 0</th>\n",
       "      <th>title</th>\n",
       "      <th>year</th>\n",
       "      <th>name</th>\n",
       "      <th>type</th>\n",
       "      <th>character</th>\n",
       "      <th>n</th>\n",
       "    </tr>\n",
       "  </thead>\n",
       "  <tbody>\n",
       "    <tr>\n",
       "      <th>0</th>\n",
       "      <td>0</td>\n",
       "      <td>Closet Monster</td>\n",
       "      <td>2015</td>\n",
       "      <td>Buffy #1</td>\n",
       "      <td>actor</td>\n",
       "      <td>Buffy 4</td>\n",
       "      <td>31.0</td>\n",
       "    </tr>\n",
       "    <tr>\n",
       "      <th>1</th>\n",
       "      <td>1</td>\n",
       "      <td>Suuri illusioni</td>\n",
       "      <td>1985</td>\n",
       "      <td>Homo $</td>\n",
       "      <td>actor</td>\n",
       "      <td>Guests</td>\n",
       "      <td>22.0</td>\n",
       "    </tr>\n",
       "    <tr>\n",
       "      <th>2</th>\n",
       "      <td>2</td>\n",
       "      <td>Battle of the Sexes</td>\n",
       "      <td>2017</td>\n",
       "      <td>$hutter</td>\n",
       "      <td>actor</td>\n",
       "      <td>Bobby Riggs Fan</td>\n",
       "      <td>10.0</td>\n",
       "    </tr>\n",
       "    <tr>\n",
       "      <th>3</th>\n",
       "      <td>3</td>\n",
       "      <td>Secret in Their Eyes</td>\n",
       "      <td>2015</td>\n",
       "      <td>$hutter</td>\n",
       "      <td>actor</td>\n",
       "      <td>2002 Dodger Fan</td>\n",
       "      <td>NaN</td>\n",
       "    </tr>\n",
       "    <tr>\n",
       "      <th>4</th>\n",
       "      <td>4</td>\n",
       "      <td>Steve Jobs</td>\n",
       "      <td>2015</td>\n",
       "      <td>$hutter</td>\n",
       "      <td>actor</td>\n",
       "      <td>1988 Opera House Patron</td>\n",
       "      <td>NaN</td>\n",
       "    </tr>\n",
       "  </tbody>\n",
       "</table>\n",
       "</div>"
      ],
      "text/plain": [
       "   Unnamed: 0                 title  year      name    type  \\\n",
       "0           0        Closet Monster  2015  Buffy #1   actor   \n",
       "1           1       Suuri illusioni  1985    Homo $   actor   \n",
       "2           2   Battle of the Sexes  2017   $hutter   actor   \n",
       "3           3  Secret in Their Eyes  2015   $hutter   actor   \n",
       "4           4            Steve Jobs  2015   $hutter  actor    \n",
       "\n",
       "                 character    n   \n",
       "0                  Buffy 4  31.0  \n",
       "1                   Guests  22.0  \n",
       "2          Bobby Riggs Fan  10.0  \n",
       "3          2002 Dodger Fan   NaN  \n",
       "4  1988 Opera House Patron   NaN  "
      ]
     },
     "execution_count": 5,
     "metadata": {},
     "output_type": "execute_result"
    }
   ],
   "source": [
    "import pandas as pd\n",
    "cast = pd.read_excel('C:/Users/rammo/OneDrive/Desktop/title.xlsx')\n",
    "cast.head()\n"
   ]
  },
  {
   "cell_type": "code",
   "execution_count": 6,
   "metadata": {},
   "outputs": [
    {
     "data": {
      "text/html": [
       "<div>\n",
       "<style scoped>\n",
       "    .dataframe tbody tr th:only-of-type {\n",
       "        vertical-align: middle;\n",
       "    }\n",
       "\n",
       "    .dataframe tbody tr th {\n",
       "        vertical-align: top;\n",
       "    }\n",
       "\n",
       "    .dataframe thead th {\n",
       "        text-align: right;\n",
       "    }\n",
       "</style>\n",
       "<table border=\"1\" class=\"dataframe\">\n",
       "  <thead>\n",
       "    <tr style=\"text-align: right;\">\n",
       "      <th></th>\n",
       "      <th>Unnamed: 0</th>\n",
       "      <th>title</th>\n",
       "      <th>year</th>\n",
       "      <th>name</th>\n",
       "      <th>type</th>\n",
       "      <th>character</th>\n",
       "      <th>n</th>\n",
       "    </tr>\n",
       "  </thead>\n",
       "  <tbody>\n",
       "    <tr>\n",
       "      <th>0</th>\n",
       "      <td>0</td>\n",
       "      <td>Closet Monster</td>\n",
       "      <td>2015</td>\n",
       "      <td>Buffy #1</td>\n",
       "      <td>actor</td>\n",
       "      <td>Buffy 4</td>\n",
       "      <td>31.0</td>\n",
       "    </tr>\n",
       "    <tr>\n",
       "      <th>1</th>\n",
       "      <td>1</td>\n",
       "      <td>Suuri illusioni</td>\n",
       "      <td>1985</td>\n",
       "      <td>Homo $</td>\n",
       "      <td>actor</td>\n",
       "      <td>Guests</td>\n",
       "      <td>22.0</td>\n",
       "    </tr>\n",
       "    <tr>\n",
       "      <th>2</th>\n",
       "      <td>2</td>\n",
       "      <td>Battle of the Sexes</td>\n",
       "      <td>2017</td>\n",
       "      <td>$hutter</td>\n",
       "      <td>actor</td>\n",
       "      <td>Bobby Riggs Fan</td>\n",
       "      <td>10.0</td>\n",
       "    </tr>\n",
       "    <tr>\n",
       "      <th>3</th>\n",
       "      <td>3</td>\n",
       "      <td>Secret in Their Eyes</td>\n",
       "      <td>2015</td>\n",
       "      <td>$hutter</td>\n",
       "      <td>actor</td>\n",
       "      <td>2002 Dodger Fan</td>\n",
       "      <td>NaN</td>\n",
       "    </tr>\n",
       "    <tr>\n",
       "      <th>4</th>\n",
       "      <td>4</td>\n",
       "      <td>Steve Jobs</td>\n",
       "      <td>2015</td>\n",
       "      <td>$hutter</td>\n",
       "      <td>actor</td>\n",
       "      <td>1988 Opera House Patron</td>\n",
       "      <td>NaN</td>\n",
       "    </tr>\n",
       "  </tbody>\n",
       "</table>\n",
       "</div>"
      ],
      "text/plain": [
       "   Unnamed: 0                 title  year      name    type  \\\n",
       "0           0        Closet Monster  2015  Buffy #1   actor   \n",
       "1           1       Suuri illusioni  1985    Homo $   actor   \n",
       "2           2   Battle of the Sexes  2017   $hutter   actor   \n",
       "3           3  Secret in Their Eyes  2015   $hutter   actor   \n",
       "4           4            Steve Jobs  2015   $hutter  actor    \n",
       "\n",
       "                 character    n   \n",
       "0                  Buffy 4  31.0  \n",
       "1                   Guests  22.0  \n",
       "2          Bobby Riggs Fan  10.0  \n",
       "3          2002 Dodger Fan   NaN  \n",
       "4  1988 Opera House Patron   NaN  "
      ]
     },
     "execution_count": 6,
     "metadata": {},
     "output_type": "execute_result"
    }
   ],
   "source": [
    "titles = pd.read_excel('C:/Users/rammo/OneDrive/Desktop/Cast.xlsx')\n",
    "titles.head()"
   ]
  },
  {
   "cell_type": "markdown",
   "metadata": {},
   "source": [
    "EXERCISE: How many movies are listed in the titles dataframe?"
   ]
  },
  {
   "cell_type": "code",
   "execution_count": 8,
   "metadata": {},
   "outputs": [
    {
     "name": "stdout",
     "output_type": "stream",
     "text": [
      "5\n"
     ]
    }
   ],
   "source": [
    "num_movies = titles['title'].nunique()\n",
    "print(num_movies)"
   ]
  },
  {
   "cell_type": "markdown",
   "metadata": {},
   "source": [
    "EXERCISE: What are the earliest two films listed in the titles dataframe?"
   ]
  },
  {
   "cell_type": "code",
   "execution_count": 9,
   "metadata": {},
   "outputs": [
    {
     "name": "stdout",
     "output_type": "stream",
     "text": [
      "Earliest two films listed:\n",
      "             title  year\n",
      "1  Suuri illusioni  1985\n",
      "0   Closet Monster  2015\n"
     ]
    }
   ],
   "source": [
    "earliest_films = titles.sort_values(by='year').head(2)\n",
    "\n",
    "print(\"Earliest two films listed:\")\n",
    "print(earliest_films[['title', 'year']])"
   ]
  },
  {
   "cell_type": "markdown",
   "metadata": {},
   "source": [
    "EXERCISE: How many movies have the title \"Hamlet\"?"
   ]
  },
  {
   "cell_type": "code",
   "execution_count": 10,
   "metadata": {},
   "outputs": [
    {
     "name": "stdout",
     "output_type": "stream",
     "text": [
      "Number of movies with title 'Hamlet': 0\n"
     ]
    }
   ],
   "source": [
    "num_hamlet_movies = titles[titles['title'] == 'Hamlet'].shape[0]\n",
    "#shape[0] gives num of rows\n",
    "print(\"Number of movies with title 'Hamlet':\", num_hamlet_movies)"
   ]
  },
  {
   "cell_type": "markdown",
   "metadata": {},
   "source": [
    "EXERCISE: List all of the \"Treasure Island\" movies from earliest to most recent."
   ]
  },
  {
   "cell_type": "code",
   "execution_count": 11,
   "metadata": {},
   "outputs": [
    {
     "name": "stdout",
     "output_type": "stream",
     "text": [
      "0\n"
     ]
    }
   ],
   "source": [
    "num_movies = titles[titles['title'] == 'Treasure Island'].shape[0]\n",
    "print(num_movies)"
   ]
  },
  {
   "cell_type": "markdown",
   "metadata": {},
   "source": [
    "EXERCISE: How many movies were made from 1950 through 1959?"
   ]
  },
  {
   "cell_type": "code",
   "execution_count": 13,
   "metadata": {},
   "outputs": [
    {
     "name": "stdout",
     "output_type": "stream",
     "text": [
      "0\n"
     ]
    }
   ],
   "source": [
    "movies_1950s = titles[(titles['year'] >= 1950) & (titles['year'] <= 1959)]\n",
    "\n",
    "# Count the number of movies in the 1950s\n",
    "num_movies_1950s = len(movies_1950s)\n",
    "print(num_movies_1950s)"
   ]
  }
 ],
 "metadata": {
  "kernelspec": {
   "display_name": "Python 3",
   "language": "python",
   "name": "python3"
  },
  "language_info": {
   "codemirror_mode": {
    "name": "ipython",
    "version": 3
   },
   "file_extension": ".py",
   "mimetype": "text/x-python",
   "name": "python",
   "nbconvert_exporter": "python",
   "pygments_lexer": "ipython3",
   "version": "3.11.9"
  }
 },
 "nbformat": 4,
 "nbformat_minor": 2
}
