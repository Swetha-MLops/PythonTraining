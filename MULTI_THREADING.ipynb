{
 "cells": [
  {
   "cell_type": "code",
   "execution_count": 1,
   "metadata": {},
   "outputs": [
    {
     "name": "stdout",
     "output_type": "stream",
     "text": [
      "Task Thread-1 started\n",
      "Task Thread-2 started\n",
      "Task Thread-3 started\n",
      "Task Thread-4 started\n",
      "Task Thread-5 started\n",
      "Task Thread-1 completed\n",
      "Task Thread-2 completed\n",
      "Task Thread-3 completed\n",
      "Task Thread-4 completed\n",
      "Task Thread-5 completed\n",
      "All tasks completed\n"
     ]
    },
    {
     "data": {
      "text/plain": [
       "'\\nIn this example, we define a `task` function that simulates a\\ntime-consuming task. We then create five threads, each executing the \\n`task` function with a unique name. The threads are started and run \\nconcurrently. Finally, we wait for all threads to finish using the `join`\\n method.\\n'"
      ]
     },
     "execution_count": 1,
     "metadata": {},
     "output_type": "execute_result"
    }
   ],
   "source": [
    "#Multithreading is a programming concept where multiple threads of execution run concurrently within a single process. Each thread represents an independent sequence of instructions that can execute concurrently with other threads. Multithreading is commonly used to improve the performance and responsiveness of applications by allowing them to perform multiple tasks simultaneously.\n",
    "\n",
    "#Here's a basic overview of multithreading:\n",
    "\"\"\"\n",
    "#1. **Thread**: A thread is the smallest unit of execution within a process.\n",
    " Threads share the same memory space and resources of the process they \n",
    "belong to, but each thread has its own program counter, stack, and set of \n",
    "register values.\n",
    "\n",
    "#2. **Concurrency**: Concurrency refers to the ability of a program to execute multiple threads simultaneously.\n",
    " Multithreading enables concurrency by allowing different threads to run concurrently, \n",
    "making efficient use of the available CPU cores.\n",
    "\n",
    "#3. **Parallelism**: Parallelism is a form of concurrency where multiple \n",
    "threads execute truly simultaneously, typically on multiple CPU cores.\n",
    "Multithreading can lead to parallel execution when executed on systems \n",
    "with multiple cores.\n",
    "\n",
    "#4. **Thread Safety**: Thread safety is a property of a program that \n",
    "ensures correct behavior when multiple threads access shared resources \n",
    "concurrently. Thread safety mechanisms, such as locks, semaphores, and \n",
    "mutexes, are used to synchronize access to shared data and prevent data \n",
    "corruption or race conditions.\n",
    "\n",
    "#5. **Multithreading in Python**: Python provides a built-in `threading` \n",
    "module for working with threads. It allows you to create and manage \n",
    "threads easily. However, due to the Global Interpreter Lock (GIL), which\n",
    "ensures that only one thread executes Python bytecode at a time, Python \n",
    "threads are not suitable for parallel execution of CPU-bound tasks. \n",
    "Nevertheless, they are still useful for I/O-bound tasks and for improving\n",
    "   the responsiveness of GUI applications. \"\"\"\n",
    "\n",
    "import threading\n",
    "import time\n",
    "\n",
    "# Function to simulate a task that takes some time to complete\n",
    "def task(name):\n",
    "    print(f\"Task {name} started\")\n",
    "    time.sleep(2)  # Simulate some work\n",
    "    print(f\"Task {name} completed\")\n",
    "\n",
    "# Create and start multiple threads\n",
    "threads = []\n",
    "for i in range(5):\n",
    "    thread = threading.Thread(target=task, args=(f\"Thread-{i+1}\",))\n",
    "    threads.append(thread)\n",
    "    thread.start()\n",
    "\n",
    "# Wait for all threads to finish\n",
    "for thread in threads:\n",
    "    thread.join()\n",
    "\n",
    "print(\"All tasks completed\")\n",
    "\n",
    "\n",
    "\"\"\"\n",
    "In this example, we define a `task` function that simulates a\n",
    "time-consuming task. We then create five threads, each executing the \n",
    "`task` function with a unique name. The threads are started and run \n",
    "concurrently. Finally, we wait for all threads to finish using the `join`\n",
    " method.\n",
    "\"\"\""
   ]
  },
  {
   "cell_type": "code",
   "execution_count": null,
   "metadata": {},
   "outputs": [],
   "source": []
  }
 ],
 "metadata": {
  "kernelspec": {
   "display_name": "Python 3",
   "language": "python",
   "name": "python3"
  },
  "language_info": {
   "codemirror_mode": {
    "name": "ipython",
    "version": 3
   },
   "file_extension": ".py",
   "mimetype": "text/x-python",
   "name": "python",
   "nbconvert_exporter": "python",
   "pygments_lexer": "ipython3",
   "version": "3.11.9"
  }
 },
 "nbformat": 4,
 "nbformat_minor": 2
}
