{
 "cells": [
  {
   "cell_type": "markdown",
   "metadata": {},
   "source": [
    "Numpy is a third-party Python library that provides support for large multidimensional arrays and matrices along with a collection of mathematical functions to operate on these elements.\n",
    "NumPy is a Python library.\n",
    "NumPy is used for working with arrays.\n",
    "NumPy is short for \"Numerical Python\".\n",
    "\n",
    "1.More speed: NumPy uses algorithms written in C that complete in nanoseconds rather than seconds.\n",
    "2.Fewer loops: NumPy helps you to reduce loops and keep from getting tangled up in iteration indices.\n",
    "3.Clearer code: Without loops, your code will look more like the equations you’re trying to calculate.\n",
    "4.Better quality: There are thousands of contributors working to keep NumPy fast, friendly, and bug free."
   ]
  },
  {
   "cell_type": "markdown",
   "metadata": {},
   "source": [
    "Arrays are a fundamental data structure in programming, and they're used to store collections of data. In Python, you can create arrays using the list data type.\n",
    "Numpy Data Types\n",
    "NumPy arrays have a dtype (data type) that specifies the type of elements in the array.\n",
    "\n",
    "int\n",
    "float\n",
    "complex\n",
    "bool\n",
    "string\n",
    "unicode\n",
    "object\n",
    "\n",
    "we will get all datatype by using Type or Typecode."
   ]
  },
  {
   "cell_type": "code",
   "execution_count": null,
   "metadata": {},
   "outputs": [],
   "source": [
    "import numpy as np\n",
    "arr= np.array([1,2,3,4])\n",
    "print(arr.dtype)\n",
    "print(arr.ndim)#dimention of array\n",
    "print(type(arr))"
   ]
  },
  {
   "cell_type": "code",
   "execution_count": null,
   "metadata": {},
   "outputs": [],
   "source": []
  },
  {
   "cell_type": "code",
   "execution_count": null,
   "metadata": {},
   "outputs": [],
   "source": [
    "\n",
    "arr = np.array([1,2,3], dtype='f4')\n",
    "arr.dtype"
   ]
  },
  {
   "cell_type": "code",
   "execution_count": null,
   "metadata": {},
   "outputs": [],
   "source": [
    "arr = np.array([1,2,3], dtype='float32')\n",
    "arr.dtype\n"
   ]
  },
  {
   "cell_type": "code",
   "execution_count": null,
   "metadata": {},
   "outputs": [],
   "source": [
    "arr = np.array([1+2j, 3-4j], dtype=np.complex64)\n",
    "arr.dtype"
   ]
  },
  {
   "cell_type": "code",
   "execution_count": null,
   "metadata": {},
   "outputs": [],
   "source": [
    "#exploring the attributes of an object or module\n",
    "import math \n",
    "print(dir(math)) \n",
    "\n",
    "a = \"Hello, World!\"\n",
    "print(a[0])\n",
    "\n",
    "txt = \"The best things in life are not free! swetha\"\n",
    "print(\"free\" in txt)\n",
    "print(len(txt))\n",
    "txt = \"The best things in life are not free!\"\n",
    "print(\"expensive\" not in txt)\n",
    "txt = \"The best things in life are not free! swetha\"\n",
    "if \"expensive\" not in txt:\n",
    "  print(\"No, 'expensive' is NOT present.\")\n",
    "  print(txt[4:15]) #slicing\n",
    "  print(txt[:3])\n",
    "  print(txt[8:]) # range will go to the end\n",
    "  print(txt[-5:-2])# slice from the end of the string\n",
    "  print(txt[-5:]) # slice from the end of the string to the end\n",
    "  print(txt.strip())#remove white space\n",
    "  print(txt.lower())\n",
    "  print(txt.upper())\n",
    "  print(txt.replace(\"e\", \"J\"))\n",
    "  print(a.split(\",\")) #specified separator becomes the list items.\n",
    "  print(txt.split()) #default separator is any whitespace character\n",
    "  print(txt.find(\"life\"))\n",
    "  \n",
    "  #help(\"modulename\")\n",
    "#help(\"turtle\")\n",
    "\n",
    "#PLACEHOLDERS\n",
    "#A placeholder can contain variables, operations, functions, and modifiers to format the value.\n",
    "price = 59\n",
    "txt = f\"The price is {price} dollars\"\n",
    "print(txt)\n",
    "\n",
    "txt = f\"The price is {20 * 59} dollars\"\n",
    "#A placeholder can include a modifier to format the value.\n",
    "print(txt)\n",
    "\n",
    "#link material\n",
    "#https://www.w3schools.com/python/python_operators.asp\n",
    "\n",
    "#Strings and Unicode\n",
    "# An example of truncated string\n",
    "import numpy as np\n",
    "s = np.array(['abc', 'defg'], dtype='S3')\n",
    "print(s)\n",
    "\n",
    "# An example of truncated unicode\n",
    "s = np.array(['abcd', 'efghi'], dtype='U3')\n",
    "print(s)\n",
    "\n",
    "arr = np.array(['a', 'ab', 'abc'], dtype=np.string_)\n",
    "print('The array is ' + str(arr))\n",
    "print('The data type is ' + str(arr.dtype) + ' because the longest string in the array is \"abc\" and its length is 3.')\n",
    "\n",
    "arr = np.array(['a', 'abc', 'abcd'], dtype=np.unicode_)\n",
    "print('The array is ' + str(arr))\n",
    "print('The data type is ' + str(arr.dtype) + ' because the longest unicode in the array is \"abcd\" and its length is 4.')\n",
    "\n",
    "#byte order indicators (|,<)\n",
    "\n",
    "#type conversion\n",
    "arr = np.array([1,2,3], dtype='int16')\n",
    "print('Original Data Type: ' + str(arr.dtype))\n",
    "\n",
    "arr = arr.astype(np.float32)\n",
    "print('Data Type After Conversion: ' + str(arr.dtype))\n",
    "\n",
    "\n",
    "  \n",
    "  "
   ]
  },
  {
   "cell_type": "code",
   "execution_count": null,
   "metadata": {},
   "outputs": [],
   "source": [
    "#Create an array from an iterable\n",
    "import numpy as np\n",
    "my_list = [1, 2, 3, 4, 5]\n",
    "arr = np.array(my_list)\n",
    "print(arr)\n",
    "#Output: [1 2 3 4 5]\n",
    "my_tuple=(1,2,3,4,5)\n",
    "arr= np.array(my_tuple)\n",
    "print(arr)\n",
    "arr = np.array(range(10))\n",
    "print(arr)\n"
   ]
  },
  {
   "cell_type": "markdown",
   "metadata": {},
   "source": [
    "Create an array with specified Datatypes"
   ]
  },
  {
   "cell_type": "code",
   "execution_count": null,
   "metadata": {},
   "outputs": [],
   "source": [
    "arr = np.array([[1,2,3], [4,5,6]], dtype='i4')\n",
    "print(arr)\n",
    "print('Data Type: ' + str(arr.dtype))"
   ]
  },
  {
   "cell_type": "markdown",
   "metadata": {},
   "source": [
    "create an array with specified range"
   ]
  },
  {
   "cell_type": "code",
   "execution_count": null,
   "metadata": {},
   "outputs": [],
   "source": [
    "arr = np.arange(0, 100, 10)  \n",
    "print(arr)"
   ]
  },
  {
   "cell_type": "markdown",
   "metadata": {},
   "source": [
    "CREATING ARRAYS\n",
    " \n",
    "1.Return evenly spaced numbers over a specified interval.\n",
    "2.Returns num evenly spaced samples, calculated over the interval [start, stop].\n",
    "3.The endpoint of the interval can optionally be excluded.\n",
    "\n",
    "\n",
    "Parameters:\n",
    "1.startarray_like\n",
    "The starting value of the sequence.\n",
    "\n",
    "2.stoparray_like\n",
    "The end value of the sequence, unless endpoint is set to False. In that case, the sequence consists of all but the last of num + 1 evenly spaced samples, so that stop is excluded. Note that the step size changes when endpoint is False.\n",
    "\n",
    "3.numint, optional\n",
    "Number of samples to generate. Default is 50. Must be non-negative.\n",
    "\n",
    "4.endpointbool, optional\n",
    "If True, stop is the last sample. Otherwise, it is not included. Default is True.\n",
    "\n",
    "5.retstepbool, optional\n",
    "If True, return (samples, step), where step is the spacing between samples.\n",
    "\n",
    "6.dtypedtype, optional \n",
    "The type of the output array. If dtype is not given, the data type is inferred from start and stop. The inferred dtype will never be an integer; float is chosen even if the arguments would produce an array of integers."
   ]
  },
  {
   "cell_type": "code",
   "execution_count": null,
   "metadata": {},
   "outputs": [],
   "source": [
    "numpy.linspace(start, stop, num=50, endpoint=True, retstep=False, dtype=None, axis=0)"
   ]
  },
  {
   "cell_type": "markdown",
   "metadata": {},
   "source": [
    "https://numpy.org/doc/stable/reference/generated/numpy.logspace.html"
   ]
  },
  {
   "cell_type": "code",
   "execution_count": null,
   "metadata": {},
   "outputs": [],
   "source": [
    "#To get plots install matplotlib.\n",
    "pip install matplotlib"
   ]
  },
  {
   "cell_type": "markdown",
   "metadata": {},
   "source": [
    "linspace provides a convenient way to generate arrays of evenly spaced values with control over the number of points "
   ]
  },
  {
   "cell_type": "code",
   "execution_count": 2,
   "metadata": {},
   "outputs": [
    {
     "data": {
      "image/png": "[encoded data removed]",
      "text/plain": [
       "<Figure size 640x480 with 1 Axes>"
      ]
     },
     "metadata": {},
     "output_type": "display_data"
    }
   ],
   "source": [
    "import numpy as np\n",
    "import matplotlib.pyplot as plt\n",
    "\n",
    "N = 8\n",
    "y = np.zeros(N)\n",
    "x1 = np.linspace(0, 10, N, endpoint=True)\n",
    "x2 = np.linspace(0, 10, N, endpoint=False)\n",
    "\n",
    "plt.plot(x1, y, 'o')\n",
    "plt.plot(x2, y + 0.5, 'o')\n",
    "plt.ylim([-0.5, 1])\n",
    "plt.show()\n"
   ]
  },
  {
   "cell_type": "code",
   "execution_count": 1,
   "metadata": {},
   "outputs": [
    {
     "data": {
      "image/png": "[encoded data removed]",
      "text/plain": [
       "<Figure size 640x480 with 1 Axes>"
      ]
     },
     "metadata": {},
     "output_type": "display_data"
    }
   ],
   "source": [
    "#NUMPY LOGSPACE\n",
    "\n",
    "import numpy as np\n",
    "import matplotlib.pyplot as plt\n",
    "\n",
    "N = 8\n",
    "y = np.zeros(N)\n",
    "x1 = np.logspace(0, 10, N, endpoint=True)\n",
    "x2 = np.logspace(0, 10, N, endpoint=False)\n",
    "#logspace is versatile for tasks where values need to be spaced logarithmically, \n",
    "plt.plot(x1, y, 'o')\n",
    "plt.plot(x2, y + 0.5, 'o')\n",
    "plt.ylim([-0.5, 1])\n",
    "plt.show()\n"
   ]
  },
  {
   "cell_type": "code",
   "execution_count": null,
   "metadata": {},
   "outputs": [],
   "source": [
    "Create an array of random values of given shape\n"
   ]
  },
  {
   "cell_type": "code",
   "execution_count": 3,
   "metadata": {},
   "outputs": [
    {
     "name": "stdout",
     "output_type": "stream",
     "text": [
      "[[0.57193284 0.63782903 0.46374089]\n",
      " [0.75787585 0.85377102 0.11667794]\n",
      " [0.65007447 0.49032036 0.8148824 ]]\n"
     ]
    }
   ],
   "source": [
    "arr = np.random.rand(3, 3)\n",
    "print(arr)"
   ]
  },
  {
   "cell_type": "code",
   "execution_count": 4,
   "metadata": {},
   "outputs": [
    {
     "name": "stdout",
     "output_type": "stream",
     "text": [
      "[[0. 0. 0.]\n",
      " [0. 0. 0.]]\n"
     ]
    }
   ],
   "source": [
    "zeros = np.zeros((2,3))\n",
    "print(zeros)\n"
   ]
  },
  {
   "cell_type": "code",
   "execution_count": 5,
   "metadata": {},
   "outputs": [
    {
     "name": "stdout",
     "output_type": "stream",
     "text": [
      "[[4.00515672e-307 1.33511018e-306 9.73469816e-309 8.90070287e-308\n",
      "  9.79065093e-307]\n",
      " [1.33509185e-307 1.05695931e-307 1.44634384e-307 1.05695083e-307\n",
      "  9.79037251e-307]\n",
      " [1.44633875e-307 8.45597329e-307 1.00133077e-307 9.34565652e-307\n",
      "  7.56564497e-307]\n",
      " [1.44634130e-307 8.90071136e-308 9.79066451e-307 1.33508591e-307\n",
      "  1.65135810e-317]\n",
      " [4.17201561e-308             nan 1.39064994e-309 4.31108272e-308\n",
      "              nan]]\n"
     ]
    }
   ],
   "source": [
    "empty = np.empty((5,5))\n",
    "print(empty)"
   ]
  },
  {
   "cell_type": "code",
   "execution_count": 7,
   "metadata": {},
   "outputs": [
    {
     "name": "stdout",
     "output_type": "stream",
     "text": [
      "[[4.00515671e-307 1.33511018e-306 1.13102341e-311 1.13102341e-311\n",
      "  1.13102341e-311]\n",
      " [1.13102341e-311 1.13102341e-311 1.13102341e-311 1.13102341e-311\n",
      "  1.13102341e-311]\n",
      " [1.13102341e-311 1.13102341e-311 1.13102341e-311 1.13102341e-311\n",
      "  1.13099163e-311]\n",
      " [1.13102341e-311 1.13102341e-311 1.13102341e-311 1.13102341e-311\n",
      "  1.13102341e-311]\n",
      " [1.13102341e-311 0.00000000e+000 0.00000000e+000 0.00000000e+000\n",
      "  0.00000000e+000]]\n",
      "[[5 5 5 5]\n",
      " [5 5 5 5]\n",
      " [5 5 5 5]\n",
      " [5 5 5 5]]\n"
     ]
    }
   ],
   "source": [
    "empty = np.empty((5,5)) #GIVES EMPTY VALUES.\n",
    "#They are just some garbage values in random memory addresses.\n",
    "print(empty)\n",
    "full = np.full((4,4), 5) #constant values\n",
    "print(full)"
   ]
  },
  {
   "cell_type": "code",
   "execution_count": 8,
   "metadata": {},
   "outputs": [
    {
     "name": "stdout",
     "output_type": "stream",
     "text": [
      "[0 0 0 1 1 1 2 2 2 3 3 3 4 4 4 5 5 5]\n"
     ]
    }
   ],
   "source": [
    "arr = [[0, 1, 2], [3, 4, 5]]\n",
    "print(np.repeat(arr, 3)) \n"
   ]
  },
  {
   "cell_type": "markdown",
   "metadata": {},
   "source": [
    "1.np.repeat(iterable, reps, axis=None): repeat each element by n times\n",
    "iterable: input array\n",
    "reps: number of repetitions\n",
    "axis: which axis to repeat along, default is None which will flatten the input array and then repeat\n",
    "2.np.tile(): repeat the whole array by n times\n",
    "iterable: input array\n",
    "reps: number of repetitions, it can be a tuple to represent repetitions along x-axis and y-axis"
   ]
  },
  {
   "cell_type": "code",
   "execution_count": 9,
   "metadata": {},
   "outputs": [
    {
     "name": "stdout",
     "output_type": "stream",
     "text": [
      "[0 1 2 0 1 2 0 1 2]\n",
      "[[0 1 2 0 1 2]\n",
      " [0 1 2 0 1 2]]\n"
     ]
    }
   ],
   "source": [
    "arr = [0, 1, 2]\n",
    "print(np.tile(arr, 3))\n",
    "print(np.tile(arr, (2,2)))"
   ]
  },
  {
   "cell_type": "markdown",
   "metadata": {},
   "source": [
    "Create an identity matrix of given size\n",
    "*np.eye(size, k=0): create an identity matrix of given size\n",
    "size: the size of the identity matrix\n",
    "k: the diagonal offset\n",
    "*np.identity(): same as np.eye() but does not carry parameters"
   ]
  },
  {
   "cell_type": "code",
   "execution_count": 10,
   "metadata": {},
   "outputs": [
    {
     "name": "stdout",
     "output_type": "stream",
     "text": [
      "[[1. 0. 0. 0. 0.]\n",
      " [0. 1. 0. 0. 0.]\n",
      " [0. 0. 1. 0. 0.]\n",
      " [0. 0. 0. 1. 0.]\n",
      " [0. 0. 0. 0. 1.]]\n",
      "[[0. 0. 0. 0. 0.]\n",
      " [1. 0. 0. 0. 0.]\n",
      " [0. 1. 0. 0. 0.]\n",
      " [0. 0. 1. 0. 0.]\n",
      " [0. 0. 0. 1. 0.]]\n",
      "[[1. 0. 0. 0. 0.]\n",
      " [0. 1. 0. 0. 0.]\n",
      " [0. 0. 1. 0. 0.]\n",
      " [0. 0. 0. 1. 0.]\n",
      " [0. 0. 0. 0. 1.]]\n"
     ]
    }
   ],
   "source": [
    "identity_matrix = np.eye(5)\n",
    "print(identity_matrix)\n",
    "# An example of diagonal offset\n",
    "identity_matrix = np.eye(5, k=-1)\n",
    "print(identity_matrix)\n",
    "identity_matrix = np.identity(5)\n",
    "print(identity_matrix)"
   ]
  },
  {
   "cell_type": "code",
   "execution_count": 11,
   "metadata": {},
   "outputs": [
    {
     "name": "stdout",
     "output_type": "stream",
     "text": [
      "[[0.85398805 0.43900302 0.43562792 0.84000318 0.40956494]\n",
      " [0.26018302 0.38027957 0.64516354 0.14342303 0.87809346]\n",
      " [0.72038384 0.47873271 0.95314491 0.59622353 0.63944089]\n",
      " [0.58604508 0.57616045 0.5667815  0.31742284 0.66014986]\n",
      " [0.87471227 0.124925   0.16361947 0.05878057 0.05638204]]\n",
      "Values on the diagonal: [0.85398805 0.38027957 0.95314491 0.31742284 0.05638204]\n"
     ]
    }
   ],
   "source": [
    "#Create an array with given values on the diagonal\n",
    "arr = np.random.rand(5,5)\n",
    "print(arr)\n",
    "# Extract values on the diagonal\n",
    "print('Values on the diagonal: ' + str(np.diag(arr)))"
   ]
  },
  {
   "cell_type": "code",
   "execution_count": 12,
   "metadata": {},
   "outputs": [
    {
     "name": "stdout",
     "output_type": "stream",
     "text": [
      "[[1 0 0 0 0]\n",
      " [0 2 0 0 0]\n",
      " [0 0 3 0 0]\n",
      " [0 0 0 4 0]\n",
      " [0 0 0 0 5]]\n"
     ]
    }
   ],
   "source": [
    "# Create a matrix given values on the diagonal\n",
    "# All non-diagonal values set to zeros\n",
    "arr = np.diag([1,2,3,4,5])\n",
    "print(arr)"
   ]
  },
  {
   "cell_type": "markdown",
   "metadata": {},
   "source": []
  },
  {
   "cell_type": "markdown",
   "metadata": {},
   "source": []
  }
 ],
 "metadata": {
  "kernelspec": {
   "display_name": "Python 3",
   "language": "python",
   "name": "python3"
  },
  "language_info": {
   "codemirror_mode": {
    "name": "ipython",
    "version": 3
   },
   "file_extension": ".py",
   "mimetype": "text/x-python",
   "name": "python",
   "nbconvert_exporter": "python",
   "pygments_lexer": "ipython3",
   "version": "3.11.9"
  }
 },
 "nbformat": 4,
 "nbformat_minor": 2
}
