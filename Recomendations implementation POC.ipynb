{
 "cells": [
  {
   "cell_type": "code",
   "execution_count": 7,
   "metadata": {},
   "outputs": [
    {
     "name": "stdout",
     "output_type": "stream",
     "text": [
      "Recommended books in the Non-Fiction genre:\n",
      "Book2\n",
      "Book5\n",
      "recommended books for Author1:\n",
      "Book1\n",
      "Book4\n",
      "recommended books for Adult:\n",
      "Book3\n"
     ]
    }
   ],
   "source": [
    "# Sample book dataset (title, author, genre,age)\n",
    "books = [\n",
    "    {\"title\": \"Book1\", \"author\": \"Author1\", \"genre\": \"Fiction\",\"age\":\"child\"},\n",
    "    {\"title\": \"Book2\", \"author\": \"Author2\", \"genre\": \"Non-Fiction\",\"age\":\"child\"},\n",
    "    {\"title\": \"Book3\", \"author\": \"Author3\", \"genre\": \"Thriller\",\"age\":\"Adult\"},\n",
    "    {\"title\": \"Book4\", \"author\": \"Author1\", \"genre\": \"Fiction\",\"age\":\"child\"},\n",
    "    {\"title\": \"Book5\", \"author\": \"Author2\", \"genre\": \"Non-Fiction\",\"age\":\"Child\"}\n",
    "]\n",
    "\n",
    "# Function to recommend books based on genre\n",
    "def recom_1(genre):\n",
    "    recom_1 = []\n",
    "    for book in books:\n",
    "        if book[\"genre\"] == genre:\n",
    "            recom_1.append(book[\"title\"])\n",
    "    return recom_1\n",
    "\n",
    "def recom_2(author):\n",
    "    recom_2=[]\n",
    "    for book in books:\n",
    "        if book[\"author\"]==author:\n",
    "             recom_2.append(book[\"title\"])\n",
    "    return recom_2         \n",
    "def recom_3(age):\n",
    "    recom_3=[]\n",
    "    for book in books:\n",
    "        if book[\"age\"]==age:\n",
    "             recom_3.append(book[\"title\"])\n",
    "    return recom_3         \n",
    "\n",
    "# Example usage\n",
    "genre = \"Non-Fiction\"\n",
    "print(f\"Recommended books in the {genre} genre:\")\n",
    "recom_1 = recom_1(genre)\n",
    "for book in recom_1:\n",
    "    print(book)\n",
    "\n",
    "author=\"Author1\"\n",
    "print(f\"recommended books for {author}:\")\n",
    "recom_2 = recom_2(author)\n",
    "\n",
    "for book in recom_2:\n",
    "    print(book)    \n",
    "\n",
    "age=\"Adult\"\n",
    "print(f\"recommended books for {age}:\")\n",
    "recom_3 = recom_3(age)\n",
    "\n",
    "for book in recom_3:\n",
    "    print(book)    \n"
   ]
  },
  {
   "cell_type": "code",
   "execution_count": null,
   "metadata": {},
   "outputs": [],
   "source": []
  }
 ],
 "metadata": {
  "kernelspec": {
   "display_name": "Python 3",
   "language": "python",
   "name": "python3"
  },
  "language_info": {
   "codemirror_mode": {
    "name": "ipython",
    "version": 3
   },
   "file_extension": ".py",
   "mimetype": "text/x-python",
   "name": "python",
   "nbconvert_exporter": "python",
   "pygments_lexer": "ipython3",
   "version": "3.11.9"
  }
 },
 "nbformat": 4,
 "nbformat_minor": 2
}
