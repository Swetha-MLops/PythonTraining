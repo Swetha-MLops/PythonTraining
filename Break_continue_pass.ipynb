{
 "cells": [
  {
   "cell_type": "markdown",
   "metadata": {},
   "source": [
    " BREAK:\n",
    " \"The `break` statement is used to exit a loop prematurely. When a `break\n",
    "statement is encountered, the loop is terminated, and the execution continues with the\n",
    "next statement after the loop.\n",
    "CONTINUE:\n",
    "The `continue` statement is used to skip the current iteration of a loop and\n",
    "move on to the next iteration. When a `continue` statement is encountered, the\n",
    "execution jumps to the beginning of the loop, and the next iteration is started.\"\n",
    "PASS:\n",
    "\"The `pass` statement is a placeholder when a statement is required syntactically but\n",
    "no execution of code is necessary. It does nothing when executed."
   ]
  },
  {
   "cell_type": "code",
   "execution_count": 1,
   "metadata": {},
   "outputs": [
    {
     "name": "stdout",
     "output_type": "stream",
     "text": [
      "1\n",
      "2\n",
      "3\n",
      "4\n",
      "5\n",
      "1\n",
      "2\n",
      "4\n",
      "5\n"
     ]
    }
   ],
   "source": [
    "# Example of break statement\n",
    "for i in range(1, 10):\n",
    "    print(i)\n",
    "    if i == 5:\n",
    "        break\n",
    "# Example of continue statement\n",
    "for i in range(1, 6):\n",
    "    if i == 3:\n",
    "        continue\n",
    "    print(i)\n",
    "# Example of pass statement\n",
    "for i in range(1, 4):\n",
    "    pass  # This block does nothing\n"
   ]
  },
  {
   "cell_type": "code",
   "execution_count": null,
   "metadata": {},
   "outputs": [],
   "source": []
  }
 ],
 "metadata": {
  "kernelspec": {
   "display_name": "Python 3",
   "language": "python",
   "name": "python3"
  },
  "language_info": {
   "codemirror_mode": {
    "name": "ipython",
    "version": 3
   },
   "file_extension": ".py",
   "mimetype": "text/x-python",
   "name": "python",
   "nbconvert_exporter": "python",
   "pygments_lexer": "ipython3",
   "version": "3.11.9"
  }
 },
 "nbformat": 4,
 "nbformat_minor": 2
}
