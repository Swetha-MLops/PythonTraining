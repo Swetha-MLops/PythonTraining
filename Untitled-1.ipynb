{
 "cells": [
  {
   "cell_type": "markdown",
   "metadata": {},
   "source": [
    "functions"
   ]
  },
  {
   "cell_type": "code",
   "execution_count": 9,
   "metadata": {},
   "outputs": [
    {
     "name": "stdout",
     "output_type": "stream",
     "text": [
      "hello , swetha!\n"
     ]
    }
   ],
   "source": [
    "def greet(name):\n",
    "    print(f\"hello , {name}!\")\n",
    "greet(\"swetha\")"
   ]
  },
  {
   "cell_type": "markdown",
   "metadata": {},
   "source": [
    "CLASS\n"
   ]
  },
  {
   "cell_type": "code",
   "execution_count": 44,
   "metadata": {},
   "outputs": [
    {
     "name": "stdout",
     "output_type": "stream",
     "text": [
      "Hi, I'm Bob and I am 30 years old.\n"
     ]
    }
   ],
   "source": [
    "class Person:\n",
    "  def __init__(self, name, age):\n",
    "    self.name = name\n",
    "    self.age = age\n",
    "  def introduce(self):\n",
    "   print(f\"Hi, I'm {self.name} and I am {self.age} years old.\")\n",
    "person1 = Person(\"Bob\", 30)\n",
    "person1.introduce()"
   ]
  },
  {
   "cell_type": "code",
   "execution_count": 33,
   "metadata": {},
   "outputs": [],
   "source": [
    "class Fruit:\n",
    "    name=\"Fruit\"\n",
    "    "
   ]
  },
  {
   "cell_type": "code",
   "execution_count": 19,
   "metadata": {},
   "outputs": [
    {
     "data": {
      "text/plain": [
       "'Fruit'"
      ]
     },
     "execution_count": 19,
     "metadata": {},
     "output_type": "execute_result"
    }
   ],
   "source": [
    "orange=Fruit()\n",
    "orange.name\n",
    "    \n"
   ]
  },
  {
   "cell_type": "code",
   "execution_count": 45,
   "metadata": {},
   "outputs": [
    {
     "name": "stdout",
     "output_type": "stream",
     "text": [
      "I am Fruit, my colour orange,my size8.\n"
     ]
    }
   ],
   "source": [
    "class Fruit:\n",
    "    def __init__(self,colour,size):\n",
    "        self.name=\"Fruit\"\n",
    "        self.colour=colour\n",
    "        self.size=size\n",
    "    def show(self):\n",
    "        print(f\"I am {self.name}, my colour {self.colour},my size{self.size}.\" ) \n",
    "orange=Fruit(\"orange\", 8)\n",
    "orange.show() "
   ]
  },
  {
   "cell_type": "markdown",
   "metadata": {},
   "source": [
    "1.Create a sample class named Employee with two attributes id and name employee : id name object initializes id and name dynamically for every Employee object created.\n",
    "\n",
    " emp = Employee(1, \"coder\")"
   ]
  },
  {
   "cell_type": "code",
   "execution_count": 58,
   "metadata": {},
   "outputs": [
    {
     "name": "stdout",
     "output_type": "stream",
     "text": [
      "Employee_id=1, Employee_name=coder\n"
     ]
    }
   ],
   "source": [
    "class Employee:\n",
    "    def __init__(self,id,name):\n",
    "        self.id=id\n",
    "        self.name=name\n",
    "    def show(self):\n",
    "        print(f\"Employee_id={self.id}, Employee_name={self.name}\")\n",
    "emp = Employee(1, \"coder\")    \n",
    "emp.show()"
   ]
  },
  {
   "cell_type": "code",
   "execution_count": 61,
   "metadata": {},
   "outputs": [
    {
     "ename": "AttributeError",
     "evalue": "'Employee' object has no attribute 'id'",
     "output_type": "error",
     "traceback": [
      "\u001b[1;31m---------------------------------------------------------------------------\u001b[0m",
      "\u001b[1;31mAttributeError\u001b[0m                            Traceback (most recent call last)",
      "Cell \u001b[1;32mIn[61], line 1\u001b[0m\n\u001b[1;32m----> 1\u001b[0m \u001b[38;5;28;01mdel\u001b[39;00m \u001b[43memp\u001b[49m\u001b[38;5;241;43m.\u001b[39;49m\u001b[43mid\u001b[49m\n",
      "\u001b[1;31mAttributeError\u001b[0m: 'Employee' object has no attribute 'id'"
     ]
    }
   ],
   "source": [
    "del emp.id\n"
   ]
  },
  {
   "cell_type": "code",
   "execution_count": 62,
   "metadata": {},
   "outputs": [],
   "source": [
    "del emp"
   ]
  },
  {
   "cell_type": "code",
   "execution_count": 57,
   "metadata": {},
   "outputs": [
    {
     "ename": "NameError",
     "evalue": "name 'emp' is not defined",
     "output_type": "error",
     "traceback": [
      "\u001b[1;31m---------------------------------------------------------------------------\u001b[0m",
      "\u001b[1;31mNameError\u001b[0m                                 Traceback (most recent call last)",
      "Cell \u001b[1;32mIn[57], line 1\u001b[0m\n\u001b[1;32m----> 1\u001b[0m \u001b[38;5;28mprint\u001b[39m(\u001b[43memp\u001b[49m)\n",
      "\u001b[1;31mNameError\u001b[0m: name 'emp' is not defined"
     ]
    }
   ],
   "source": [
    "print(emp)"
   ]
  },
  {
   "cell_type": "markdown",
   "metadata": {},
   "source": [
    "3.Static methods in Python are methods that are bound to the class rather than an instance of the class. They don't require access to the instance or class itself and can be called directly from the class without creating an instance."
   ]
  },
  {
   "cell_type": "markdown",
   "metadata": {},
   "source": [
    "4.ou defined a class attribute (color) for the Car class. Why can't you directly change the color of a specific car object (e.g., car1.color = \"blue\")? How would you achieve this?\n",
    "\n"
   ]
  },
  {
   "cell_type": "code",
   "execution_count": 85,
   "metadata": {},
   "outputs": [
    {
     "ename": "TypeError",
     "evalue": "car() takes no arguments",
     "output_type": "error",
     "traceback": [
      "\u001b[1;31m---------------------------------------------------------------------------\u001b[0m",
      "\u001b[1;31mTypeError\u001b[0m                                 Traceback (most recent call last)",
      "Cell \u001b[1;32mIn[85], line 6\u001b[0m\n\u001b[0;32m      4\u001b[0m         \u001b[38;5;28;01mdef\u001b[39;00m \u001b[38;5;21mshowcolor\u001b[39m(\u001b[38;5;28mself\u001b[39m):\n\u001b[0;32m      5\u001b[0m             \u001b[38;5;28mprint\u001b[39m(\u001b[38;5;124mf\u001b[39m\u001b[38;5;124m\"\u001b[39m\u001b[38;5;132;01m{\u001b[39;00m\u001b[38;5;28mself\u001b[39m\u001b[38;5;241m.\u001b[39mcolor\u001b[38;5;132;01m}\u001b[39;00m\u001b[38;5;124m\"\u001b[39m)\n\u001b[1;32m----> 6\u001b[0m car1\u001b[38;5;241m=\u001b[39m\u001b[43mcar\u001b[49m\u001b[43m(\u001b[49m\u001b[38;5;124;43m\"\u001b[39;49m\u001b[38;5;124;43mblue\u001b[39;49m\u001b[38;5;124;43m\"\u001b[39;49m\u001b[43m)\u001b[49m\n\u001b[0;32m      7\u001b[0m car1\u001b[38;5;241m.\u001b[39mshowcolor()\n",
      "\u001b[1;31mTypeError\u001b[0m: car() takes no arguments"
     ]
    }
   ],
   "source": [
    "class car:\n",
    "    def car_color(self,color):\n",
    "        self.color=color\n",
    "        def showcolor(self):\n",
    "            print(f\"{self.color}\")\n",
    "car1=car(\"blue\")\n",
    "car1.showcolor()\n",
    "            \n",
    "        "
   ]
  },
  {
   "cell_type": "code",
   "execution_count": null,
   "metadata": {},
   "outputs": [],
   "source": []
  },
  {
   "cell_type": "code",
   "execution_count": null,
   "metadata": {},
   "outputs": [],
   "source": []
  }
 ],
 "metadata": {
  "kernelspec": {
   "display_name": "Python 3",
   "language": "python",
   "name": "python3"
  },
  "language_info": {
   "codemirror_mode": {
    "name": "ipython",
    "version": 3
   },
   "file_extension": ".py",
   "mimetype": "text/x-python",
   "name": "python",
   "nbconvert_exporter": "python",
   "pygments_lexer": "ipython3",
   "version": "3.11.9"
  }
 },
 "nbformat": 4,
 "nbformat_minor": 2
}
