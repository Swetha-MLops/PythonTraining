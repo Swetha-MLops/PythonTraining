{
 "cells": [
  {
   "cell_type": "markdown",
   "metadata": {},
   "source": [
    "Introduction to Pandas\n",
    "1.1. Let's start with a showcase\n",
    "Case 1: titanic survival data"
   ]
  },
  {
   "cell_type": "markdown",
   "metadata": {},
   "source": [
    "DATA ANALYSIS IN PYTHON\n",
    "Python is a popular programming language used for data analysis. It provides a wide range of libraries and tools\n",
    "that make data analysis efficient and easy. Here are some of the key concepts and libraries used in data\n",
    "analysis in Python:\n",
    "1. **Pandas**: Pandas is a powerful library used for data manipulation and analysis. It provides data structures such as Series (1-dimensional labeled array) and\n",
    " DataFrame (2-dimensional labeled data\n",
    "structure with columns of potentially different types). Pandas is used for data cleaning, filtering, grouping,\n",
    "and merging.\n",
    "2. **NumPy**: NumPy (Numerical Python) is a library used for numerical computing It provides support for large, multi-dimensional arrays and matrices, and is the foundation of most scientific\n",
    "computing in Python.\n",
    "3. **Matplotlib**: Matplotlib is a plotting library used for creating static, animated, and\n",
    "interactive visualizations in Python. It provides a wide range of visualization tools, including line plots, scatter\n",
    "plots, histograms, and more.\n",
    "4. **Scikit-learn**: Scikit-learn is a machine learning library used for data\n",
    "analysis and modeling. It provides a wide range of algorithms for classification, regression, clustering, and\n",
    "other tasks.\n",
    "\n",
    "PANDAS:--\n",
    "Pandas is a powerful library used for data manipulation and analysis. It provides two primary DATA STRUCTURES:\n",
    "\n",
    "1. **Series**: A Series is a one-dimensional labeled array of values. It can be thought\n",
    "of as a single column of a spreadsheet.\n",
    "2. **DataFrame**: A DataFrame is a two-dimensional labeled data structure with columns of potentially different types\n",
    "It can be thought of as a spreadsheet or a table in a relational database.\n",
    "\n",
    "Pandas is a Python library used for working with data sets.\n",
    "It has functions for analyzing, cleaning, exploring, and manipulating data. \n",
    "It provides data structures and functions to efficiently handle structured data, including tabular data such as spreadsheets\n",
    "and SQL tables.\n",
    "\n",
    "refference code URL:-\n",
    "https://github.com/pandas-dev/pandas\n"
   ]
  },
  {
   "cell_type": "code",
   "execution_count": null,
   "metadata": {},
   "outputs": [],
   "source": [
    "%matplotlib inline\n",
    "import numpy as np\n",
    "import pandas as pd\n",
    "import matplotlib.pyplot as plt\n",
    "pd.options.display.max_rows = 8"
   ]
  },
  {
   "cell_type": "code",
   "execution_count": null,
   "metadata": {},
   "outputs": [],
   "source": [
    "#TO READ DATA FROM FILES\n",
    "df = pd.read_excel(\"C:/Users/rammo/OneDrive/Desktop/titanic.xlsx\")\n",
    "print(df.head())\n",
    "\"\"\"df = pd.read_excel(\"data/titanic.xlsx\", sheet_name='Sheet1')\n",
    "df = pd.read_json(\"data/titanic.json\")\n",
    "\n",
    "import sqlalchemy\n",
    "engine = sqlalchemy.create_engine('sqlite:///data/titanic.db')\n",
    "df = pd.read_sql('SELECT * FROM titanic', engine)\n",
    "\n",
    "dfs = pd.read_html('https://www.website.com/data.html')\n",
    "df = dfs[0]  # Assuming the desired table is the first one\n",
    "\n",
    "df = pd.read_parquet('data/titanic.parquet')\n",
    "\n",
    "df = pd.read_feather('data/titanic.feather')\n",
    "\n",
    "df = pd.read_hdf('data/titanic.h5', key='df')\n",
    "\"\"\""
   ]
  },
  {
   "cell_type": "markdown",
   "metadata": {},
   "source": [
    "DATA STRUCTURES\n",
    "1.series\n",
    "2.dataframe\n",
    "3.panel"
   ]
  },
  {
   "cell_type": "markdown",
   "metadata": {},
   "source": [
    "1.PANDAS SERIES\n",
    "\n",
    "A Pandas Series is like a column in a table.\n",
    "\n",
    "It is a one-dimensional array holding data of any type."
   ]
  },
  {
   "cell_type": "code",
   "execution_count": 12,
   "metadata": {},
   "outputs": [
    {
     "name": "stdout",
     "output_type": "stream",
     "text": [
      "x    1\n",
      "y    7\n",
      "z    2\n",
      "dtype: int64\n",
      "7\n"
     ]
    }
   ],
   "source": [
    "%matplotlib inline\n",
    "import numpy as np\n",
    "import pandas as pd\n",
    "import matplotlib.pyplot as plt\n",
    "\n",
    "pd.options.display.max_rows = 8\n",
    "\n",
    "a = [1, 7, 2]\n",
    "myvar = pd.Series(a, index = [\"x\", \"y\", \"z\"])\n",
    "#created labels, you can access an item by referring to the label.\n",
    "print(myvar)\n",
    "print(myvar[\"y\"])\n"
   ]
  },
  {
   "cell_type": "code",
   "execution_count": 3,
   "metadata": {},
   "outputs": [
    {
     "name": "stdout",
     "output_type": "stream",
     "text": [
      "day1    420\n",
      "day2    380\n",
      "day3    390\n",
      "dtype: int64\n",
      "\n",
      "420\n",
      "\n",
      "[420 380]\n",
      "Index(['day1', 'day2', 'day3'], dtype='object')\n",
      "[420 380 390]\n"
     ]
    },
    {
     "name": "stderr",
     "output_type": "stream",
     "text": [
      "C:\\Users\\rammo\\AppData\\Local\\Temp\\ipykernel_3552\\1911106362.py:6: FutureWarning: Series.__getitem__ treating keys as positions is deprecated. In a future version, integer keys will always be treated as labels (consistent with DataFrame behavior). To access a value by position, use `ser.iloc[pos]`\n",
      "  print(myvar[0])#access via index\n"
     ]
    }
   ],
   "source": [
    " ##Attributes of a Series: index and values\n",
    " #The keys of the dictionary become the labels.\n",
    "calories = {\"day1\": 420, \"day2\": 380, \"day3\": 390}\n",
    "myvar = pd.Series(calories, index = [\"day1\", \"day2\",\"day3\"])\n",
    "print(myvar)\n",
    "print()\n",
    "print(myvar[0])#access via index\n",
    "print()\n",
    "print(myvar.values[:2])\n",
    "print(myvar.index)\n",
    "print(myvar.values)\n",
    "#You can access the underlying numpy array representation with the .values attribute:"
   ]
  },
  {
   "cell_type": "markdown",
   "metadata": {},
   "source": [
    "2.DATAFRAMES:\n",
    "A DataFrame is a two-dimensional, size-mutable, potentially heterogeneous tabular data structure with labeled axes (rows and columns)\n",
    "DataFrames are similar to Excel spreadsheets or SQL tables, or dictionaries of Series objects.\n",
    "DataFrames are mutable, meaning they can be modified after creation.\n",
    "     CREATING DATAFRAMES:\n",
    "There are several ways to create a DataFrame:\n",
    "1. From a dictionary of Series objects\n",
    "2. From a list of lists\n",
    "3. From a NumPy array\n",
    "4. From a pandas Series\n",
    "5. From a CSV/JSON file\n",
    "6. From a SQL database\n",
    "\n",
    "     DATAFRAME OPERATIONS :\n",
    "1. Indexing and Selecting Data\n",
    "2. Assigning Data\n",
    "3. Deleting Data\n",
    "4. Sorting and Indexing\n",
    "5. Grouping Data\n",
    "6. Merging Data\n",
    "7. Reshaping Data\n",
    "      DATAFRAME METHODS :\n",
    "1. head() : Returns the first n rows of the DataFrame.\n",
    "2. info() : Prints a concise summary of the DataFrame.\n",
    "3. describe() : Generates descriptive statistics of the DataFrame.\n",
    "4. columns : Returns the column labels of the DataFrame.\n",
    "5. dtypes : Returns the data types of the columns.\n",
    "6. loc[] : Access a group of rows and columns by label.\n",
    "7. iloc[] : Access a group of rows and columns by integer position.\n",
    "8. iterrows() : Iterate over the rows of the DataFrame as (index, series) pairs\n",
    "9. itertuples() : Iterate over the rows of the DataFrame as tuples.\n",
    "10. apply() : Apply a function along the axis of the DataFrame.\n",
    "11. groupby() : Split the data into groups based on some criteria.\n",
    "12. pivot_table() : Create a spreadsheet-style pivot table as a DataFrame.\n",
    "13. melt() : Unpivot a DataFrame from wide format to long format.\n",
    "14. merge() : Merge DataFrame or named Series objects."
   ]
  },
  {
   "cell_type": "markdown",
   "metadata": {},
   "source": [
    "Attributes of the DataFrame:\n",
    "1.A DataFrame has besides a index(rows) attribute, also a columns attribute.\n",
    "2.Apart from importing your data from an external source (text file, excel, database, ..), one of the most common ways of creating a dataframe is from a dictionary of arrays or lists."
   ]
  },
  {
   "cell_type": "code",
   "execution_count": 22,
   "metadata": {},
   "outputs": [
    {
     "name": "stdout",
     "output_type": "stream",
     "text": [
      "   calories  duration\n",
      "0       420        50\n",
      "1       380        40\n",
      "2       390        45\n"
     ]
    }
   ],
   "source": [
    "#DATAFRAMES:-\n",
    "import pandas as pd\n",
    "data = {\n",
    "  \"calories\": [420, 380, 390],\n",
    "  \"duration\": [50, 40, 45]\n",
    "}\n",
    "mydf = pd.DataFrame(data)\n",
    "print(mydf)"
   ]
  },
  {
   "cell_type": "code",
   "execution_count": 23,
   "metadata": {},
   "outputs": [
    {
     "data": {
      "text/plain": [
       "RangeIndex(start=0, stop=3, step=1)"
      ]
     },
     "execution_count": 23,
     "metadata": {},
     "output_type": "execute_result"
    }
   ],
   "source": [
    "mydf.index"
   ]
  },
  {
   "cell_type": "code",
   "execution_count": 24,
   "metadata": {},
   "outputs": [
    {
     "data": {
      "text/plain": [
       "Index(['calories', 'duration'], dtype='object')"
      ]
     },
     "execution_count": 24,
     "metadata": {},
     "output_type": "execute_result"
    }
   ],
   "source": [
    "mydf.columns"
   ]
  },
  {
   "cell_type": "code",
   "execution_count": 25,
   "metadata": {},
   "outputs": [
    {
     "name": "stdout",
     "output_type": "stream",
     "text": [
      "<class 'pandas.core.frame.DataFrame'>\n",
      "RangeIndex: 3 entries, 0 to 2\n",
      "Data columns (total 2 columns):\n",
      " #   Column    Non-Null Count  Dtype\n",
      "---  ------    --------------  -----\n",
      " 0   calories  3 non-null      int64\n",
      " 1   duration  3 non-null      int64\n",
      "dtypes: int64(2)\n",
      "memory usage: 180.0 bytes\n"
     ]
    }
   ],
   "source": [
    "mydf.info()"
   ]
  },
  {
   "cell_type": "code",
   "execution_count": 26,
   "metadata": {},
   "outputs": [
    {
     "data": {
      "text/plain": [
       "calories    int64\n",
       "duration    int64\n",
       "dtype: object"
      ]
     },
     "execution_count": 26,
     "metadata": {},
     "output_type": "execute_result"
    }
   ],
   "source": [
    "#To check the data types of the different columns:\n",
    "mydf.dtypes"
   ]
  },
  {
   "cell_type": "markdown",
   "metadata": {},
   "source": [
    "Also a DataFrame has a values attribute, but attention: when you have heterogeneous data, all values will be upcasted:"
   ]
  },
  {
   "cell_type": "code",
   "execution_count": 29,
   "metadata": {},
   "outputs": [
    {
     "data": {
      "text/plain": [
       "array([[420,  50],\n",
       "       [380,  40],\n",
       "       [390,  45]], dtype=int64)"
      ]
     },
     "execution_count": 29,
     "metadata": {},
     "output_type": "execute_result"
    }
   ],
   "source": [
    "mydf.values #dataframe"
   ]
  },
  {
   "cell_type": "code",
   "execution_count": 30,
   "metadata": {},
   "outputs": [
    {
     "data": {
      "text/plain": [
       "array([1, 7, 2], dtype=int64)"
      ]
     },
     "execution_count": 30,
     "metadata": {},
     "output_type": "execute_result"
    }
   ],
   "source": [
    "myvar.values #series"
   ]
  },
  {
   "cell_type": "code",
   "execution_count": 9,
   "metadata": {},
   "outputs": [
    {
     "data": {
      "text/html": [
       "<div>\n",
       "<style scoped>\n",
       "    .dataframe tbody tr th:only-of-type {\n",
       "        vertical-align: middle;\n",
       "    }\n",
       "\n",
       "    .dataframe tbody tr th {\n",
       "        vertical-align: top;\n",
       "    }\n",
       "\n",
       "    .dataframe thead th {\n",
       "        text-align: right;\n",
       "    }\n",
       "</style>\n",
       "<table border=\"1\" class=\"dataframe\">\n",
       "  <thead>\n",
       "    <tr style=\"text-align: right;\">\n",
       "      <th></th>\n",
       "      <th>country</th>\n",
       "      <th>population</th>\n",
       "      <th>area</th>\n",
       "      <th>capital</th>\n",
       "    </tr>\n",
       "  </thead>\n",
       "  <tbody>\n",
       "    <tr>\n",
       "      <th>0</th>\n",
       "      <td>Belgium</td>\n",
       "      <td>11.3</td>\n",
       "      <td>30510</td>\n",
       "      <td>Brussels</td>\n",
       "    </tr>\n",
       "    <tr>\n",
       "      <th>1</th>\n",
       "      <td>France</td>\n",
       "      <td>64.3</td>\n",
       "      <td>671308</td>\n",
       "      <td>Paris</td>\n",
       "    </tr>\n",
       "    <tr>\n",
       "      <th>2</th>\n",
       "      <td>Germany</td>\n",
       "      <td>81.3</td>\n",
       "      <td>357050</td>\n",
       "      <td>Berlin</td>\n",
       "    </tr>\n",
       "    <tr>\n",
       "      <th>3</th>\n",
       "      <td>Netherlands</td>\n",
       "      <td>16.9</td>\n",
       "      <td>41526</td>\n",
       "      <td>Amsterdam</td>\n",
       "    </tr>\n",
       "    <tr>\n",
       "      <th>4</th>\n",
       "      <td>United Kingdom</td>\n",
       "      <td>64.9</td>\n",
       "      <td>244820</td>\n",
       "      <td>London</td>\n",
       "    </tr>\n",
       "  </tbody>\n",
       "</table>\n",
       "</div>"
      ],
      "text/plain": [
       "          country  population    area    capital\n",
       "0         Belgium        11.3   30510   Brussels\n",
       "1          France        64.3  671308      Paris\n",
       "2         Germany        81.3  357050     Berlin\n",
       "3     Netherlands        16.9   41526  Amsterdam\n",
       "4  United Kingdom        64.9  244820     London"
      ]
     },
     "execution_count": 9,
     "metadata": {},
     "output_type": "execute_result"
    }
   ],
   "source": [
    "data = {'country': ['Belgium', 'France', 'Germany', 'Netherlands', 'United Kingdom'],\n",
    "        'population': [11.3, 64.3, 81.3, 16.9, 64.9],\n",
    "        'area': [30510, 671308, 357050, 41526, 244820],\n",
    "        'capital': ['Brussels', 'Paris', 'Berlin', 'Amsterdam', 'London']}\n",
    "df_countries = pd.DataFrame(data)\n",
    "df_countries"
   ]
  },
  {
   "cell_type": "code",
   "execution_count": 10,
   "metadata": {},
   "outputs": [
    {
     "name": "stdout",
     "output_type": "stream",
     "text": [
      "                population    area    capital\n",
      "country                                      \n",
      "Belgium               11.3   30510   Brussels\n",
      "France                64.3  671308      Paris\n",
      "Germany               81.3  357050     Berlin\n",
      "Netherlands           16.9   41526  Amsterdam\n",
      "United Kingdom        64.9  244820     London\n"
     ]
    }
   ],
   "source": [
    "df_countries= df_countries.set_index('country')\n",
    "print(df_countries)\n",
    "#changing index"
   ]
  },
  {
   "cell_type": "code",
   "execution_count": 14,
   "metadata": {},
   "outputs": [
    {
     "name": "stdout",
     "output_type": "stream",
     "text": [
      "population      64.3\n",
      "area          671308\n",
      "capital        Paris\n",
      "Name: France, dtype: object\n"
     ]
    }
   ],
   "source": [
    "\n",
    "print(df_countries.iloc[1])#to get row by using INDEX"
   ]
  },
  {
   "cell_type": "code",
   "execution_count": 15,
   "metadata": {},
   "outputs": [
    {
     "name": "stdout",
     "output_type": "stream",
     "text": [
      "                population    area    capital\n",
      "country                                      \n",
      "Belgium               11.3   30510   Brussels\n",
      "France                64.3  671308      Paris\n",
      "Germany               81.3  357050     Berlin\n",
      "Netherlands           16.9   41526  Amsterdam\n",
      "United Kingdom        64.9  244820     London\n"
     ]
    }
   ],
   "source": [
    "#Tip: use to_string() to print the entire DataFrame.\n",
    "print(df_countries.to_string()) \n"
   ]
  },
  {
   "cell_type": "code",
   "execution_count": 16,
   "metadata": {},
   "outputs": [
    {
     "name": "stdout",
     "output_type": "stream",
     "text": [
      "                population    area    capital\n",
      "country                                      \n",
      "Belgium               11.3   30510   Brussels\n",
      "France                64.3  671308      Paris\n",
      "Germany               81.3  357050     Berlin\n",
      "Netherlands           16.9   41526  Amsterdam\n",
      "United Kingdom        64.9  244820     London\n",
      "                population  ...\n",
      "country                     ...\n",
      "Belgium               11.3  ...\n",
      "...                    ...  ...\n",
      "United Kingdom        64.9  ...\n",
      "\n",
      "[5 rows x 3 columns]\n",
      "                population    area    capital\n",
      "country                                      \n",
      "Belgium               11.3   30510   Brussels\n",
      "France                64.3  671308      Paris\n",
      "Germany               81.3  357050     Berlin\n",
      "Netherlands           16.9   41526  Amsterdam\n",
      "United Kingdom        64.9  244820     London\n"
     ]
    }
   ],
   "source": [
    "pd.set_option('display.max_rows', None)#to get all rows\n",
    "pd.set_option('display.max_columns', None)#to get all columns\n",
    "\n",
    "print(df_countries)\n",
    "pd.set_option('display.max_rows', 3)#to get all rows\n",
    "pd.set_option('display.max_columns', 1)#to get all columns\n",
    "print(df_countries)\n",
    "pd.set_option('display.max_rows', None)#to get all rows\n",
    "pd.set_option('display.max_columns', None)#to get all columns\n",
    "\n",
    "print(df_countries)"
   ]
  },
  {
   "cell_type": "code",
   "execution_count": 17,
   "metadata": {},
   "outputs": [
    {
     "name": "stdout",
     "output_type": "stream",
     "text": [
      "357050\n",
      "country\n",
      "Belgium            30510000\n",
      "France            671308000\n",
      "Germany           357050000\n",
      "Netherlands        41526000\n",
      "United Kingdom    244820000\n",
      "Name: area, dtype: int64\n"
     ]
    }
   ],
   "source": [
    "area = df_countries['area']\n",
    "#print(area)\n",
    "#print(df)\n",
    "print(area['Germany'])\n",
    "#element wise operations\n",
    "area*1000 \n",
    "print(area*1000)\n",
    "\n"
   ]
  },
  {
   "cell_type": "code",
   "execution_count": 19,
   "metadata": {},
   "outputs": [
    {
     "name": "stdout",
     "output_type": "stream",
     "text": [
      "269042.8\n",
      "         population   area   capital\n",
      "country                             \n",
      "Belgium        11.3  30510  Brussels\n",
      "                population    area capital\n",
      "country                                   \n",
      "United Kingdom        64.9  244820  London\n"
     ]
    }
   ],
   "source": [
    "print(area.mean())\n",
    "area[area > 600000000]\n",
    "#The head() method returns the headers and\n",
    "#a specified number of rows, starting from the top.\n",
    "\n",
    "print(df_countries.head(1))\n",
    "print(df_countries.tail(1))\n",
    "\n",
    "#There is also a tail() \n",
    "#method for viewing the last rows of the DataFrame.\n"
   ]
  },
  {
   "cell_type": "code",
   "execution_count": null,
   "metadata": {},
   "outputs": [],
   "source": [
    "print(df_countries.info())\n",
    "#gives information about dataframe.\n",
    "#info() method also tells us how many Non-Null values useful in data cleaning. "
   ]
  },
  {
   "cell_type": "markdown",
   "metadata": {},
   "source": [
    "3. Data import and export"
   ]
  },
  {
   "cell_type": "code",
   "execution_count": null,
   "metadata": {},
   "outputs": [],
   "source": [
    "\"\"\"A wide range of input/output formats are natively supported by pandas:\n",
    "CSV, text\n",
    "SQL database\n",
    "Excel\n",
    "HDF5\n",
    "json\n",
    "html\n",
    "pickle\n",
    "sas, stata\n",
    "(parquet)\"\"\""
   ]
  },
  {
   "cell_type": "code",
   "execution_count": null,
   "metadata": {},
   "outputs": [],
   "source": [
    "#READ CSV\n",
    "\n",
    "df_new = pd.read_csv(\"C:/Users/rammo/OneDrive/Desktop/Numpy/pandas_data.csv\")\n",
    "\n",
    "pd.set_option('display.max_rows', None)#to get all rows\n",
    "pd.set_option('display.max_columns', None)#to get all column\n",
    "print(df_new.describe())"
   ]
  },
  {
   "cell_type": "markdown",
   "metadata": {},
   "source": [
    "A popup with the documentation related to the pd.read_csv() function."
   ]
  },
  {
   "cell_type": "code",
   "execution_count": null,
   "metadata": {},
   "outputs": [],
   "source": [
    "#pd.read_csv? #documentation"
   ]
  },
  {
   "cell_type": "markdown",
   "metadata": {},
   "source": [
    "https://pandas.pydata.org/pandas-docs/stable/getting_started/index.html\n",
    "\n",
    "https://www.w3schools.com/python/pandas/pandas_cleaning.asp\n",
    "\n",
    "refference code URL:-\n",
    "https://github.com/pandas-dev/pandas\n"
   ]
  },
  {
   "cell_type": "markdown",
   "metadata": {},
   "source": [
    "KIND"
   ]
  },
  {
   "cell_type": "code",
   "execution_count": null,
   "metadata": {},
   "outputs": [],
   "source": [
    "#In plotting functions (df.plot()), the kind parameter specifies the type of plot to create.\n",
    "# Example line plot\n",
    "df.plot(kind='line', x='Name', y='Age')\n",
    "#groupby() in Pandas, kind is used to specify the type OF OBJECT\n",
    "\n",
    "#kind keyword: 'line', 'bar', 'hist', 'density', 'area', 'pie', 'scatter', 'hexbin'\n",
    "# kind might be used to specify the type of output or conversion. \n",
    "# Convert DataFrame to list of lists\n",
    "list_of_lists = df.to_numpy(kind='list')\n",
    "#pd.DataFrame?"
   ]
  },
  {
   "cell_type": "code",
   "execution_count": 38,
   "metadata": {},
   "outputs": [
    {
     "data": {
      "text/plain": [
       "<Axes: xlabel='country'>"
      ]
     },
     "execution_count": 38,
     "metadata": {},
     "output_type": "execute_result"
    },
    {
     "data": {
      "image/png": "[encoded data removed]",
      "text/plain": [
       "<Figure size 640x480 with 1 Axes>"
      ]
     },
     "metadata": {},
     "output_type": "display_data"
    }
   ],
   "source": [
    "df_countries['area'].plot(kind='bar')\n",
    "df_countries['population'].plot(kind='bar')"
   ]
  },
  {
   "cell_type": "code",
   "execution_count": null,
   "metadata": {},
   "outputs": [],
   "source": [
    "df_countries.plot(kind='box', ylim=[0,250])\n",
    "#df_countries['BASCH'].plot(kind='hist', bins=50)"
   ]
  },
  {
   "cell_type": "code",
   "execution_count": null,
   "metadata": {},
   "outputs": [],
   "source": [
    "df_countries.plot(figsize=(12,6))"
   ]
  },
  {
   "cell_type": "code",
   "execution_count": 32,
   "metadata": {},
   "outputs": [
    {
     "data": {
      "text/html": [
       "<div>\n",
       "<style scoped>\n",
       "    .dataframe tbody tr th:only-of-type {\n",
       "        vertical-align: middle;\n",
       "    }\n",
       "\n",
       "    .dataframe tbody tr th {\n",
       "        vertical-align: top;\n",
       "    }\n",
       "\n",
       "    .dataframe thead th {\n",
       "        text-align: right;\n",
       "    }\n",
       "</style>\n",
       "<table border=\"1\" class=\"dataframe\">\n",
       "  <thead>\n",
       "    <tr style=\"text-align: right;\">\n",
       "      <th></th>\n",
       "      <th>population</th>\n",
       "      <th>area</th>\n",
       "      <th>capital</th>\n",
       "    </tr>\n",
       "    <tr>\n",
       "      <th>country</th>\n",
       "      <th></th>\n",
       "      <th></th>\n",
       "      <th></th>\n",
       "    </tr>\n",
       "  </thead>\n",
       "  <tbody>\n",
       "    <tr>\n",
       "      <th>Germany</th>\n",
       "      <td>81.3</td>\n",
       "      <td>357050</td>\n",
       "      <td>Berlin</td>\n",
       "    </tr>\n",
       "    <tr>\n",
       "      <th>United Kingdom</th>\n",
       "      <td>64.9</td>\n",
       "      <td>244820</td>\n",
       "      <td>London</td>\n",
       "    </tr>\n",
       "    <tr>\n",
       "      <th>France</th>\n",
       "      <td>64.3</td>\n",
       "      <td>671308</td>\n",
       "      <td>Paris</td>\n",
       "    </tr>\n",
       "    <tr>\n",
       "      <th>Netherlands</th>\n",
       "      <td>16.9</td>\n",
       "      <td>41526</td>\n",
       "      <td>Amsterdam</td>\n",
       "    </tr>\n",
       "    <tr>\n",
       "      <th>Belgium</th>\n",
       "      <td>11.3</td>\n",
       "      <td>30510</td>\n",
       "      <td>Brussels</td>\n",
       "    </tr>\n",
       "  </tbody>\n",
       "</table>\n",
       "</div>"
      ],
      "text/plain": [
       "                population    area    capital\n",
       "country                                      \n",
       "Germany               81.3  357050     Berlin\n",
       "United Kingdom        64.9  244820     London\n",
       "France                64.3  671308      Paris\n",
       "Netherlands           16.9   41526  Amsterdam\n",
       "Belgium               11.3   30510   Brussels"
      ]
     },
     "execution_count": 32,
     "metadata": {},
     "output_type": "execute_result"
    }
   ],
   "source": [
    "#Sorting the rows of the DataFrame according to the values in a column:\n",
    "\n",
    "df_countries.sort_values('population', ascending=False)"
   ]
  },
  {
   "cell_type": "markdown",
   "metadata": {},
   "source": [
    "INDEXING AND SELECTING DATA"
   ]
  },
  {
   "cell_type": "code",
   "execution_count": null,
   "metadata": {},
   "outputs": [],
   "source": [
    "#SELECTING AND FILTERING DATA\n",
    "\n",
    "# Selecting a single column:\n",
    "df['Age']\n",
    "\n",
    "# multiple columns:\n",
    "df[['Age', 'Fare']]\n",
    "\n",
    "#slicing accesses the rows:\n",
    "df[10:15]"
   ]
  },
  {
   "cell_type": "markdown",
   "metadata": {},
   "source": [
    "#LOC VS ILOC\n",
    "\n",
    "loc: selection by label.\n",
    "\n",
    "iloc: selection by position/index.\n",
    "If they doesnt have lables then use iloc.\n"
   ]
  },
  {
   "cell_type": "code",
   "execution_count": null,
   "metadata": {},
   "outputs": [],
   "source": [
    "print(df.loc[2])  # Selects the row with index label 2 (Charlie)\n",
    "\n",
    "#Select multiple rows by label\n",
    "print(df.loc[[1, 3, 4]]) \n",
    "# Selects rows with index labels 1, 3, and 4 (Bob, David, Eve)\n",
    "\n",
    "#select rows and columns by label\n",
    "print(df.loc[[0, 2], ['Name', 'Age']]) \n",
    "# Selects rows with index labels 0 and 2, and columns 'Name' and 'Age'\n"
   ]
  },
  {
   "cell_type": "code",
   "execution_count": null,
   "metadata": {},
   "outputs": [],
   "source": [
    "# Set values using loc\n",
    "df.loc[1, 'Age'] = 26  # Set the value in row 0, column 'Age' to 26\n",
    "print(df['Age']) #select to print column\n"
   ]
  },
  {
   "cell_type": "code",
   "execution_count": null,
   "metadata": {},
   "outputs": [],
   "source": [
    "#ILOC using by INDEX.\n",
    "\n",
    "# Load the data\n",
    "#data = pd.read_csv(tips.csv')\n",
    "# Select the first 5 rows\n",
    "print(data.iloc[:5])\n",
    "# Select the last 5 rows\n",
    "print(data.iloc[-5:])\n",
    "# Select the 2nd to 5th rows\n",
    "print(data.iloc[1:5])\n",
    "# Select the 2nd and 5th rows\n",
    "print(data.iloc[[1, 4]])\n",
    "# Select the 2nd column\n",
    "print(data.iloc[:, 1])\n",
    "# Select the 2nd and 4th columns\n",
    "print(data.iloc[:, [1, 3]])\n",
    "# Select the 2nd row and 4th column \n",
    "print(data.iloc[1, 3])  \n",
    "# Select the 2nd to 5th rows and 2nd to 4th columns\n",
    "print(data.iloc[1:5, 1:4])  #iloc for slicing\n"
   ]
  },
  {
   "cell_type": "code",
   "execution_count": null,
   "metadata": {},
   "outputs": [
    {
     "name": "stdout",
     "output_type": "stream",
     "text": [
      "0    False\n",
      "1     True\n",
      "2    False\n",
      "3     True\n",
      "4    False\n",
      "Name: Fare, dtype: bool\n"
     ]
    }
   ],
   "source": [
    "print(df['Fare'] > 50)\n",
    "#boolean indexing filtering"
   ]
  },
  {
   "cell_type": "code",
   "execution_count": 26,
   "metadata": {},
   "outputs": [
    {
     "data": {
      "text/html": [
       "<div>\n",
       "<style scoped>\n",
       "    .dataframe tbody tr th:only-of-type {\n",
       "        vertical-align: middle;\n",
       "    }\n",
       "\n",
       "    .dataframe tbody tr th {\n",
       "        vertical-align: top;\n",
       "    }\n",
       "\n",
       "    .dataframe thead th {\n",
       "        text-align: right;\n",
       "    }\n",
       "</style>\n",
       "<table border=\"1\" class=\"dataframe\">\n",
       "  <thead>\n",
       "    <tr style=\"text-align: right;\">\n",
       "      <th></th>\n",
       "      <th>PassengerId</th>\n",
       "      <th>Survived</th>\n",
       "      <th>Survived.1</th>\n",
       "      <th>Pclass</th>\n",
       "      <th>Name</th>\n",
       "      <th>Sex</th>\n",
       "      <th>Age</th>\n",
       "      <th>sbsip</th>\n",
       "      <th>parch</th>\n",
       "      <th>Ticket</th>\n",
       "      <th>Fare</th>\n",
       "      <th>Cabin</th>\n",
       "      <th>Embarked</th>\n",
       "    </tr>\n",
       "  </thead>\n",
       "  <tbody>\n",
       "    <tr>\n",
       "      <th>1</th>\n",
       "      <td>1</td>\n",
       "      <td>2</td>\n",
       "      <td>1</td>\n",
       "      <td>1</td>\n",
       "      <td>Cumings, Mrs. John Bradley (Florence Briggs Th...</td>\n",
       "      <td>female</td>\n",
       "      <td>38</td>\n",
       "      <td>1</td>\n",
       "      <td>0</td>\n",
       "      <td>PC 17599</td>\n",
       "      <td>71.2833</td>\n",
       "      <td>C85</td>\n",
       "      <td>C</td>\n",
       "    </tr>\n",
       "  </tbody>\n",
       "</table>\n",
       "</div>"
      ],
      "text/plain": [
       "   PassengerId  Survived  Survived.1  Pclass  \\\n",
       "1            1         2           1       1   \n",
       "\n",
       "                                                Name     Sex  Age  sbsip  \\\n",
       "1  Cumings, Mrs. John Bradley (Florence Briggs Th...  female   38      1   \n",
       "\n",
       "   parch    Ticket     Fare Cabin Embarked  \n",
       "1      0  PC 17599  71.2833   C85        C  "
      ]
     },
     "execution_count": 26,
     "metadata": {},
     "output_type": "execute_result"
    }
   ],
   "source": [
    "df[df['Fare'] > 60]"
   ]
  },
  {
   "cell_type": "markdown",
   "metadata": {},
   "source": [
    "GROUPBY USAGE"
   ]
  },
  {
   "cell_type": "code",
   "execution_count": 27,
   "metadata": {},
   "outputs": [
    {
     "data": {
      "text/html": [
       "<div>\n",
       "<style scoped>\n",
       "    .dataframe tbody tr th:only-of-type {\n",
       "        vertical-align: middle;\n",
       "    }\n",
       "\n",
       "    .dataframe tbody tr th {\n",
       "        vertical-align: top;\n",
       "    }\n",
       "\n",
       "    .dataframe thead th {\n",
       "        text-align: right;\n",
       "    }\n",
       "</style>\n",
       "<table border=\"1\" class=\"dataframe\">\n",
       "  <thead>\n",
       "    <tr style=\"text-align: right;\">\n",
       "      <th></th>\n",
       "      <th>key</th>\n",
       "      <th>data</th>\n",
       "    </tr>\n",
       "  </thead>\n",
       "  <tbody>\n",
       "    <tr>\n",
       "      <th>0</th>\n",
       "      <td>A</td>\n",
       "      <td>0</td>\n",
       "    </tr>\n",
       "    <tr>\n",
       "      <th>1</th>\n",
       "      <td>B</td>\n",
       "      <td>5</td>\n",
       "    </tr>\n",
       "    <tr>\n",
       "      <th>2</th>\n",
       "      <td>C</td>\n",
       "      <td>10</td>\n",
       "    </tr>\n",
       "    <tr>\n",
       "      <th>3</th>\n",
       "      <td>A</td>\n",
       "      <td>5</td>\n",
       "    </tr>\n",
       "    <tr>\n",
       "      <th>...</th>\n",
       "      <td>...</td>\n",
       "      <td>...</td>\n",
       "    </tr>\n",
       "    <tr>\n",
       "      <th>5</th>\n",
       "      <td>C</td>\n",
       "      <td>15</td>\n",
       "    </tr>\n",
       "    <tr>\n",
       "      <th>6</th>\n",
       "      <td>A</td>\n",
       "      <td>10</td>\n",
       "    </tr>\n",
       "    <tr>\n",
       "      <th>7</th>\n",
       "      <td>B</td>\n",
       "      <td>15</td>\n",
       "    </tr>\n",
       "    <tr>\n",
       "      <th>8</th>\n",
       "      <td>C</td>\n",
       "      <td>20</td>\n",
       "    </tr>\n",
       "  </tbody>\n",
       "</table>\n",
       "<p>9 rows × 2 columns</p>\n",
       "</div>"
      ],
      "text/plain": [
       "   key  data\n",
       "0    A     0\n",
       "1    B     5\n",
       "2    C    10\n",
       "3    A     5\n",
       "..  ..   ...\n",
       "5    C    15\n",
       "6    A    10\n",
       "7    B    15\n",
       "8    C    20\n",
       "\n",
       "[9 rows x 2 columns]"
      ]
     },
     "execution_count": 27,
     "metadata": {},
     "output_type": "execute_result"
    }
   ],
   "source": [
    "df = pd.DataFrame({'key':['A','B','C','A','B','C','A','B','C'],\n",
    "                   'data': [0, 5, 10, 5, 10, 15, 10, 15, 20]})\n",
    "df"
   ]
  },
  {
   "cell_type": "code",
   "execution_count": 42,
   "metadata": {},
   "outputs": [
    {
     "data": {
      "text/plain": [
       "key\n",
       "A    15\n",
       "B    30\n",
       "C    45\n",
       "Name: data, dtype: int64"
      ]
     },
     "execution_count": 42,
     "metadata": {},
     "output_type": "execute_result"
    }
   ],
   "source": [
    "df.groupby('key')['data'].sum()"
   ]
  },
  {
   "cell_type": "code",
   "execution_count": 48,
   "metadata": {},
   "outputs": [
    {
     "data": {
      "text/html": [
       "<div>\n",
       "<style scoped>\n",
       "    .dataframe tbody tr th:only-of-type {\n",
       "        vertical-align: middle;\n",
       "    }\n",
       "\n",
       "    .dataframe tbody tr th {\n",
       "        vertical-align: top;\n",
       "    }\n",
       "\n",
       "    .dataframe thead th {\n",
       "        text-align: right;\n",
       "    }\n",
       "</style>\n",
       "<table border=\"1\" class=\"dataframe\">\n",
       "  <thead>\n",
       "    <tr style=\"text-align: right;\">\n",
       "      <th></th>\n",
       "      <th>data</th>\n",
       "    </tr>\n",
       "    <tr>\n",
       "      <th>key</th>\n",
       "      <th></th>\n",
       "    </tr>\n",
       "  </thead>\n",
       "  <tbody>\n",
       "    <tr>\n",
       "      <th>A</th>\n",
       "      <td>15</td>\n",
       "    </tr>\n",
       "    <tr>\n",
       "      <th>B</th>\n",
       "      <td>30</td>\n",
       "    </tr>\n",
       "    <tr>\n",
       "      <th>C</th>\n",
       "      <td>45</td>\n",
       "    </tr>\n",
       "  </tbody>\n",
       "</table>\n",
       "</div>"
      ],
      "text/plain": [
       "     data\n",
       "key      \n",
       "A      15\n",
       "B      30\n",
       "C      45"
      ]
     },
     "execution_count": 48,
     "metadata": {},
     "output_type": "execute_result"
    }
   ],
   "source": [
    "df.groupby('key').sum()"
   ]
  },
  {
   "cell_type": "code",
   "execution_count": 47,
   "metadata": {},
   "outputs": [
    {
     "name": "stderr",
     "output_type": "stream",
     "text": [
      "C:\\Users\\rammo\\AppData\\Local\\Temp\\ipykernel_27540\\3570843577.py:1: FutureWarning: The provided callable <function sum at 0x00000219B1B322A0> is currently using DataFrameGroupBy.sum. In a future version of pandas, the provided callable will be used directly. To keep current behavior pass the string \"sum\" instead.\n",
      "  df.groupby('key').aggregate(np.sum)\n"
     ]
    },
    {
     "data": {
      "text/html": [
       "<div>\n",
       "<style scoped>\n",
       "    .dataframe tbody tr th:only-of-type {\n",
       "        vertical-align: middle;\n",
       "    }\n",
       "\n",
       "    .dataframe tbody tr th {\n",
       "        vertical-align: top;\n",
       "    }\n",
       "\n",
       "    .dataframe thead th {\n",
       "        text-align: right;\n",
       "    }\n",
       "</style>\n",
       "<table border=\"1\" class=\"dataframe\">\n",
       "  <thead>\n",
       "    <tr style=\"text-align: right;\">\n",
       "      <th></th>\n",
       "      <th>data</th>\n",
       "    </tr>\n",
       "    <tr>\n",
       "      <th>key</th>\n",
       "      <th></th>\n",
       "    </tr>\n",
       "  </thead>\n",
       "  <tbody>\n",
       "    <tr>\n",
       "      <th>A</th>\n",
       "      <td>15</td>\n",
       "    </tr>\n",
       "    <tr>\n",
       "      <th>B</th>\n",
       "      <td>30</td>\n",
       "    </tr>\n",
       "    <tr>\n",
       "      <th>C</th>\n",
       "      <td>45</td>\n",
       "    </tr>\n",
       "  </tbody>\n",
       "</table>\n",
       "</div>"
      ],
      "text/plain": [
       "     data\n",
       "key      \n",
       "A      15\n",
       "B      30\n",
       "C      45"
      ]
     },
     "execution_count": 47,
     "metadata": {},
     "output_type": "execute_result"
    }
   ],
   "source": [
    "df.groupby('key').aggregate(np.sum)"
   ]
  },
  {
   "cell_type": "code",
   "execution_count": 29,
   "metadata": {},
   "outputs": [
    {
     "name": "stdout",
     "output_type": "stream",
     "text": [
      "A 15\n",
      "B 30\n",
      "C 45\n"
     ]
    }
   ],
   "source": [
    "#WITHOUT GROUPBY USAGE\n",
    "for key in ['A', 'B', 'C']:\n",
    "    print(key, df[df['key'] == key]['data'].sum())"
   ]
  }
 ],
 "metadata": {
  "kernelspec": {
   "display_name": "Python 3",
   "language": "python",
   "name": "python3"
  },
  "language_info": {
   "codemirror_mode": {
    "name": "ipython",
    "version": 3
   },
   "file_extension": ".py",
   "mimetype": "text/x-python",
   "name": "python",
   "nbconvert_exporter": "python",
   "pygments_lexer": "ipython3",
   "version": "3.11.9"
  }
 },
 "nbformat": 4,
 "nbformat_minor": 2
}
