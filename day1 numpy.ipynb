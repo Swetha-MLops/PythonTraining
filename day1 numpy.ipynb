{
 "cells": [
  {
   "cell_type": "markdown",
   "metadata": {},
   "source": [
    "Numpy is a third-party Python library that provides support for large multidimensional arrays and matrices along with a collection of mathematical functions to operate on these elements.\n",
    "NumPy is a Python library.\n",
    "NumPy is used for working with arrays.\n",
    "NumPy is short for \"Numerical Python\".\n",
    "\n",
    "1.More speed: NumPy uses algorithms written in C that complete in nanoseconds rather than seconds.\n",
    "2.Fewer loops: NumPy helps you to reduce loops and keep from getting tangled up in iteration indices.\n",
    "3.Clearer code: Without loops, your code will look more like the equations you’re trying to calculate.\n",
    "4.Better quality: There are thousands of contributors working to keep NumPy fast, friendly, and bug free."
   ]
  },
  {
   "cell_type": "markdown",
   "metadata": {},
   "source": [
    "Numpy Data Types\n",
    "NumPy arrays have a dtype (data type) that specifies the type of elements in the array.\n",
    "\n",
    "int\n",
    "float\n",
    "complex\n",
    "bool\n",
    "string\n",
    "unicode\n",
    "object\n",
    "\n",
    "we will get all datatype by using Type or Typecode."
   ]
  },
  {
   "cell_type": "code",
   "execution_count": 9,
   "metadata": {},
   "outputs": [
    {
     "name": "stdout",
     "output_type": "stream",
     "text": [
      "int32\n",
      "1\n",
      "<class 'numpy.ndarray'>\n"
     ]
    }
   ],
   "source": [
    "import numpy as np\n",
    "arr= np.array([1,2,3,4])\n",
    "print(arr.dtype)\n",
    "print(arr.ndim)#dimention of array\n",
    "print(type(arr))"
   ]
  },
  {
   "cell_type": "code",
   "execution_count": null,
   "metadata": {},
   "outputs": [],
   "source": []
  },
  {
   "cell_type": "code",
   "execution_count": 7,
   "metadata": {},
   "outputs": [
    {
     "data": {
      "text/plain": [
       "dtype('float32')"
      ]
     },
     "execution_count": 7,
     "metadata": {},
     "output_type": "execute_result"
    }
   ],
   "source": [
    "\n",
    "arr = np.array([1,2,3], dtype='f4')\n",
    "arr.dtype"
   ]
  },
  {
   "cell_type": "code",
   "execution_count": 2,
   "metadata": {},
   "outputs": [
    {
     "data": {
      "text/plain": [
       "dtype('float32')"
      ]
     },
     "execution_count": 2,
     "metadata": {},
     "output_type": "execute_result"
    }
   ],
   "source": [
    "arr = np.array([1,2,3], dtype='float32')\n",
    "arr.dtype\n"
   ]
  },
  {
   "cell_type": "code",
   "execution_count": 4,
   "metadata": {},
   "outputs": [
    {
     "data": {
      "text/plain": [
       "dtype('complex64')"
      ]
     },
     "execution_count": 4,
     "metadata": {},
     "output_type": "execute_result"
    }
   ],
   "source": [
    "arr = np.array([1+2j, 3-4j], dtype=np.complex64)\n",
    "arr.dtype"
   ]
  },
  {
   "cell_type": "code",
   "execution_count": 1,
   "metadata": {},
   "outputs": [
    {
     "name": "stdout",
     "output_type": "stream",
     "text": [
      "['__doc__', '__loader__', '__name__', '__package__', '__spec__', 'acos', 'acosh', 'asin', 'asinh', 'atan', 'atan2', 'atanh', 'cbrt', 'ceil', 'comb', 'copysign', 'cos', 'cosh', 'degrees', 'dist', 'e', 'erf', 'erfc', 'exp', 'exp2', 'expm1', 'fabs', 'factorial', 'floor', 'fmod', 'frexp', 'fsum', 'gamma', 'gcd', 'hypot', 'inf', 'isclose', 'isfinite', 'isinf', 'isnan', 'isqrt', 'lcm', 'ldexp', 'lgamma', 'log', 'log10', 'log1p', 'log2', 'modf', 'nan', 'nextafter', 'perm', 'pi', 'pow', 'prod', 'radians', 'remainder', 'sin', 'sinh', 'sqrt', 'tan', 'tanh', 'tau', 'trunc', 'ulp']\n",
      "H\n",
      "True\n",
      "44\n",
      "True\n",
      "No, 'expensive' is NOT present.\n",
      "best things\n",
      "The\n",
      " things in life are not free! swetha\n",
      "wet\n",
      "wetha\n",
      "The best things in life are not free! swetha\n",
      "the best things in life are not free! swetha\n",
      "THE BEST THINGS IN LIFE ARE NOT FREE! SWETHA\n",
      "ThJ bJst things in lifJ arJ not frJJ! swJtha\n",
      "['Hello', ' World!']\n",
      "['The', 'best', 'things', 'in', 'life', 'are', 'not', 'free!', 'swetha']\n",
      "19\n",
      "The price is 59 dollars\n",
      "The price is 1180 dollars\n",
      "[b'abc' b'def']\n",
      "['abc' 'efg']\n",
      "The array is [b'a' b'ab' b'abc']\n",
      "The data type is |S3 because the longest string in the array is \"abc\" and its length is 3.\n",
      "The array is ['a' 'abc' 'abcd']\n",
      "The data type is <U4 because the longest unicode in the array is \"abcd\" and its length is 4.\n",
      "Original Data Type: int16\n",
      "Data Type After Conversion: float32\n"
     ]
    }
   ],
   "source": [
    "#exploring the attributes of an object or module\n",
    "import math \n",
    "print(dir(math)) \n",
    "\n",
    "a = \"Hello, World!\"\n",
    "print(a[0])\n",
    "\n",
    "txt = \"The best things in life are not free! swetha\"\n",
    "print(\"free\" in txt)\n",
    "print(len(txt))\n",
    "txt = \"The best things in life are not free!\"\n",
    "print(\"expensive\" not in txt)\n",
    "txt = \"The best things in life are not free! swetha\"\n",
    "if \"expensive\" not in txt:\n",
    "  print(\"No, 'expensive' is NOT present.\")\n",
    "  print(txt[4:15]) #slicing\n",
    "  print(txt[:3])\n",
    "  print(txt[8:]) # range will go to the end\n",
    "  print(txt[-5:-2])# slice from the end of the string\n",
    "  print(txt[-5:]) # slice from the end of the string to the end\n",
    "  print(txt.strip())#remove white space\n",
    "  print(txt.lower())\n",
    "  print(txt.upper())\n",
    "  print(txt.replace(\"e\", \"J\"))\n",
    "  print(a.split(\",\")) #specified separator becomes the list items.\n",
    "  print(txt.split()) #default separator is any whitespace character\n",
    "  print(txt.find(\"life\"))\n",
    "  \n",
    "  #help(\"modulename\")\n",
    "#help(\"turtle\")\n",
    "\n",
    "#PLACEHOLDERS\n",
    "#A placeholder can contain variables, operations, functions, and modifiers to format the value.\n",
    "price = 59\n",
    "txt = f\"The price is {price} dollars\"\n",
    "print(txt)\n",
    "\n",
    "txt = f\"The price is {20 * 59} dollars\"\n",
    "#A placeholder can include a modifier to format the value.\n",
    "print(txt)\n",
    "\n",
    "#link material\n",
    "#https://www.w3schools.com/python/python_operators.asp\n",
    "\n",
    "#Strings and Unicode\n",
    "# An example of truncated string\n",
    "import numpy as np\n",
    "s = np.array(['abc', 'defg'], dtype='S3')\n",
    "print(s)\n",
    "\n",
    "# An example of truncated unicode\n",
    "s = np.array(['abcd', 'efghi'], dtype='U3')\n",
    "print(s)\n",
    "\n",
    "arr = np.array(['a', 'ab', 'abc'], dtype=np.string_)\n",
    "print('The array is ' + str(arr))\n",
    "print('The data type is ' + str(arr.dtype) + ' because the longest string in the array is \"abc\" and its length is 3.')\n",
    "\n",
    "arr = np.array(['a', 'abc', 'abcd'], dtype=np.unicode_)\n",
    "print('The array is ' + str(arr))\n",
    "print('The data type is ' + str(arr.dtype) + ' because the longest unicode in the array is \"abcd\" and its length is 4.')\n",
    "\n",
    "#byte order indicators (|,<)\n",
    "\n",
    "#type conversion\n",
    "arr = np.array([1,2,3], dtype='int16')\n",
    "print('Original Data Type: ' + str(arr.dtype))\n",
    "\n",
    "arr = arr.astype(np.float32)\n",
    "print('Data Type After Conversion: ' + str(arr.dtype))\n",
    "\n",
    "\n",
    "  \n",
    "  "
   ]
  },
  {
   "cell_type": "code",
   "execution_count": null,
   "metadata": {},
   "outputs": [],
   "source": []
  }
 ],
 "metadata": {
  "kernelspec": {
   "display_name": "Python 3",
   "language": "python",
   "name": "python3"
  },
  "language_info": {
   "codemirror_mode": {
    "name": "ipython",
    "version": 3
   },
   "file_extension": ".py",
   "mimetype": "text/x-python",
   "name": "python",
   "nbconvert_exporter": "python",
   "pygments_lexer": "ipython3",
   "version": "3.11.9"
  }
 },
 "nbformat": 4,
 "nbformat_minor": 2
}
