{
 "cells": [
  {
   "cell_type": "code",
   "execution_count": 1,
   "metadata": {},
   "outputs": [
    {
     "name": "stdout",
     "output_type": "stream",
     "text": [
      "6\n"
     ]
    }
   ],
   "source": [
    "@decorator\n",
    "def add(x,y,z):\n",
    "    return x+y+z\n",
    "print(add(1,2,3)) # Output: 6"
   ]
  },
  {
   "cell_type": "code",
   "execution_count": 16,
   "metadata": {},
   "outputs": [
    {
     "name": "stdout",
     "output_type": "stream",
     "text": [
      "Calling add with arguments (1, 2, 3) and {}\n",
      "functions add returned 6\n",
      "6\n",
      "Calling add with arguments (1, 6, 3) and {'foo': 'hello', 'bar': 'world'}\n",
      "functions add returned 10\n",
      "10\n"
     ]
    }
   ],
   "source": [
    "def decorator(func):\n",
    "    def wrapper(*args, **kwargs):  # wrapper function takes any number of args and kwargs\n",
    "        print(f\"Calling {func.__name__} with arguments {args} and {kwargs}\")\n",
    "        result = func(*args, **kwargs)  # call the original func with provided args\n",
    "        print(f\"functions {func.__name__} returned {result}\")\n",
    "        return result  # return the result\n",
    "\n",
    "    return wrapper\n",
    "\n",
    "@decorator\n",
    "def add(x, y, z):  # add function takes 3 arguments and returns their sum\n",
    "    return x + y + z\n",
    "\n",
    "print(add(1, 2, 3))  # Output: 6\n",
    "\n",
    "@decorator\n",
    "def add(x, y, z, foo=None, bar=None):\n",
    "#usage of **kwargs.\n",
    "    return x + y + z\n",
    "\n",
    "print(add(1, 6, 3, foo='hello', bar='world'))"
   ]
  },
  {
   "cell_type": "markdown",
   "metadata": {},
   "source": [
    "compositions\n",
    "* to create  complex functions by combining simple functions and to clean the text.\n",
    "* to remove puntuation\n"
   ]
  },
  {
   "cell_type": "code",
   "execution_count": 27,
   "metadata": {},
   "outputs": [
    {
     "name": "stdout",
     "output_type": "stream",
     "text": [
      "HelloHow are you\n"
     ]
    },
    {
     "data": {
      "text/plain": [
       "['Hello', 'how', 'are', 'you']"
      ]
     },
     "execution_count": 27,
     "metadata": {},
     "output_type": "execute_result"
    }
   ],
   "source": [
    "def remove_punctuation(text):\n",
    "    return ''.join(char for char in text if char.isalnum() or char.isspace())\n",
    "def split_words(remove_punctuation):   \n",
    "    return remove_punctuation.split()\n",
    "a=remove_punctuation(\"Hello!..How are you?\")\n",
    "print(a)\n",
    "split_words(\"Hello how are you\")\n"
   ]
  },
  {
   "cell_type": "code",
   "execution_count": 4,
   "metadata": {},
   "outputs": [
    {
     "name": "stdout",
     "output_type": "stream",
     "text": [
      "['HelloHow', 'are', 'you']\n"
     ]
    }
   ],
   "source": [
    "import functools\n",
    "\n",
    "def compose(*functions):\n",
    "    def compose2(f, g):\n",
    "        return lambda x: f(g(x))\n",
    "    return functools.reduce(compose2, functions)\n",
    "\n",
    "# Define the functions\n",
    "def remove_punctuation(text):\n",
    "    return ''.join(char for char in text if char.isalnum() or char.isspace())\n",
    "\n",
    "def split_words(text):\n",
    "    cleaned_text = remove_punctuation(text)\n",
    "    return cleaned_text.split()\n",
    "\n",
    "# Create composition\n",
    "composed_function = compose(split_words, remove_punctuation)\n",
    "\n",
    "# Test the composed function\n",
    "result = composed_function(\"Hello!..How are you?\")\n",
    "print(result)  # Output: ['Hello', 'How', 'are', 'you']\n"
   ]
  },
  {
   "cell_type": "code",
   "execution_count": null,
   "metadata": {},
   "outputs": [],
   "source": []
  }
 ],
 "metadata": {
  "kernelspec": {
   "display_name": "Python 3",
   "language": "python",
   "name": "python3"
  },
  "language_info": {
   "codemirror_mode": {
    "name": "ipython",
    "version": 3
   },
   "file_extension": ".py",
   "mimetype": "text/x-python",
   "name": "python",
   "nbconvert_exporter": "python",
   "pygments_lexer": "ipython3",
   "version": "3.11.9"
  }
 },
 "nbformat": 4,
 "nbformat_minor": 2
}
