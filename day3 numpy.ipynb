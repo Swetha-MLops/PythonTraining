{
 "cells": [
  {
   "cell_type": "code",
   "execution_count": 1,
   "metadata": {},
   "outputs": [
    {
     "name": "stdout",
     "output_type": "stream",
     "text": [
      "class:  ndarray\n",
      "shape:  (2, 3)\n",
      "strides:  (24, 8)\n",
      "itemsize:  8\n",
      "aligned:  True\n",
      "contiguous:  True\n",
      "fortran:  False\n",
      "data pointer: 0x16814467230\n",
      "byteorder:  little\n",
      "byteswap:  False\n",
      "type: int64\n",
      "None\n"
     ]
    }
   ],
   "source": [
    "#inspect general information of an array\n",
    "import numpy as np\n",
    "arr = np.array([[1,2,3], [4,5,6]], dtype=np.int64)\n",
    "\n",
    "print(np.info(arr))"
   ]
  },
  {
   "cell_type": "code",
   "execution_count": 3,
   "metadata": {},
   "outputs": [
    {
     "name": "stdout",
     "output_type": "stream",
     "text": [
      "int64\n",
      "(2, 3)\n",
      "2\n",
      "2\n",
      "6\n",
      "8\n",
      "48\n"
     ]
    }
   ],
   "source": [
    "print(arr.dtype)\n",
    "print(arr.shape)\n",
    "print(len(arr))\n",
    "print(arr.ndim)\n",
    "print(arr.size)\n",
    "print(arr.itemsize)#no of bytes of each element\n",
    "# arr.nbytes = arr.size * arr.itemsize\n",
    "print(arr.nbytes)\n"
   ]
  },
  {
   "cell_type": "markdown",
   "metadata": {},
   "source": [
    "SAMPLING METHODS:"
   ]
  },
  {
   "cell_type": "code",
   "execution_count": 7,
   "metadata": {},
   "outputs": [
    {
     "data": {
      "text/plain": [
       "array([0.88594794, 0.07791236, 0.97964616, 0.24767146, 0.75288472,\n",
       "       0.52667564, 0.90755375, 0.8840703 , 0.08926896, 0.5173446 ])"
      ]
     },
     "execution_count": 7,
     "metadata": {},
     "output_type": "execute_result"
    }
   ],
   "source": [
    "\n",
    "np.random.seed(123)\n",
    "rs = np.random.RandomState(321)\n",
    "rs.rand(10)\n",
    "#generate a random sample from interval [0, 1) in a given shape\n",
    "# generate a random scalar\n",
    "\n",
    "#print(np.random.rand(3))  \n",
    "    "
   ]
  },
  {
   "cell_type": "code",
   "execution_count": 8,
   "metadata": {},
   "outputs": [
    {
     "name": "stdout",
     "output_type": "stream",
     "text": [
      "[0.69646919 0.28613933 0.22685145]\n"
     ]
    }
   ],
   "source": [
    "print(np.random.rand(3))  "
   ]
  },
  {
   "cell_type": "code",
   "execution_count": 9,
   "metadata": {},
   "outputs": [
    {
     "name": "stdout",
     "output_type": "stream",
     "text": [
      "[[ 1.73837013  0.4064541   0.32210607]\n",
      " [-0.05151772 -0.20420096  1.97934843]\n",
      " [-1.61930007 -1.11396442 -0.44744072]]\n"
     ]
    }
   ],
   "source": [
    "#generate a sample from the standard normal distribution (mean = 0, var = 1)\n",
    "print(np.random.randn(3,3))"
   ]
  },
  {
   "cell_type": "code",
   "execution_count": 10,
   "metadata": {},
   "outputs": [
    {
     "name": "stdout",
     "output_type": "stream",
     "text": [
      "[5 1 1]\n"
     ]
    }
   ],
   "source": [
    "#generate an array of random integers in a given interval [low, high)\n",
    "# np.ranodm.randint(low, high, size, dtype)\n",
    "print(np.random.randint(1, 10, 3, 'i8'))"
   ]
  },
  {
   "cell_type": "code",
   "execution_count": 11,
   "metadata": {},
   "outputs": [
    {
     "name": "stdout",
     "output_type": "stream",
     "text": [
      "[0.73799541 0.18249173 0.17545176 0.53155137 0.53182759 0.63440096\n",
      " 0.84943179 0.72445532 0.61102351 0.72244338]\n",
      "[0.32295891 0.36178866 0.22826323 0.29371405 0.63097612 0.09210494\n",
      " 0.43370117 0.43086276 0.4936851  0.42583029]\n",
      "[0.31226122 0.42635131 0.89338916 0.94416002 0.50183668 0.62395295\n",
      " 0.1156184  0.31728548 0.41482621 0.86630916]\n",
      "[0.25045537 0.48303426 0.98555979 0.51948512 0.61289453 0.12062867\n",
      " 0.8263408  0.60306013 0.54506801 0.34276383]\n"
     ]
    }
   ],
   "source": [
    "#generate an array of random floating-point numbers in the interval [0.0, 1.0)\n",
    "# the following methods are the same as np.random.rand()\n",
    "print(np.random.random_sample(10))\n",
    "print(np.random.random(10))\n",
    "print(np.random.ranf(10))\n",
    "print(np.random.sample(10))"
   ]
  },
  {
   "cell_type": "code",
   "execution_count": 14,
   "metadata": {},
   "outputs": [
    {
     "name": "stdout",
     "output_type": "stream",
     "text": [
      "[1 1 1 1 1 1 1 1 1 1]\n",
      "[2 2 1 2 0 2 2 1 1 2]\n",
      "[3 1 2 2 1 2 1 2 3 3]\n",
      "[0 1 2 3 4 5 6 7 8 9]\n"
     ]
    }
   ],
   "source": [
    "#generate a random sample from a given 1-D array\n",
    "# np.random.choice(iterable_or_int, size, replace=True, p=weights)\n",
    "print(np.random.choice(range(3), 10, replace=True, p=[0.1, 0.8, 0.1]))\n",
    "print(np.random.choice(3, 10))\n",
    "print(np.random.choice([1,2,3], 10))\n",
    "arr = np.array(range(10))\n",
    "print(arr)\n"
   ]
  },
  {
   "cell_type": "code",
   "execution_count": 12,
   "metadata": {},
   "outputs": [
    {
     "name": "stdout",
     "output_type": "stream",
     "text": [
      "[[4 5 6]\n",
      " [1 2 3]]\n"
     ]
    }
   ],
   "source": [
    "np.random.shuffle(arr)\n",
    "print(arr)"
   ]
  },
  {
   "cell_type": "code",
   "execution_count": 15,
   "metadata": {},
   "outputs": [
    {
     "name": "stdout",
     "output_type": "stream",
     "text": [
      "The initial array:  [0 1 2 3 4 5 6 7 8 9]\n",
      "A permutation of the array:  [4 2 7 6 9 5 3 0 1 8]\n"
     ]
    }
   ],
   "source": [
    "#generate a permutation of an array\n",
    "# similar to np.random.shuffle(), but it returns a copy rather than making changes in place\n",
    "arr = np.array(range(10))\n",
    "print('The initial array: ', arr)\n",
    "print('A permutation of the array: ', np.random.permutation(arr))"
   ]
  },
  {
   "cell_type": "markdown",
   "metadata": {},
   "source": [
    "element-wise addition, subtraction, multiplication and division"
   ]
  },
  {
   "cell_type": "code",
   "execution_count": 17,
   "metadata": {},
   "outputs": [
    {
     "name": "stdout",
     "output_type": "stream",
     "text": [
      "[[2.67792545 2.80912668 2.86857215 2.41799246 2.05893816]\n",
      " [2.478459   2.52115943 2.58063202 2.309199   2.91988263]\n",
      " [2.6553475  2.34924138 2.54109404 2.4490534  2.28232096]\n",
      " [2.29587653 2.56348098 2.71519128 2.51761868 2.35204183]\n",
      " [2.63277886 2.87311902 2.16788844 2.98747832 2.34941493]]\n",
      "[[-1.32207455 -1.19087332 -1.13142785 -1.58200754 -1.94106184]\n",
      " [-1.521541   -1.47884057 -1.41936798 -1.690801   -1.08011737]\n",
      " [-1.3446525  -1.65075862 -1.45890596 -1.5509466  -1.71767904]\n",
      " [-1.70412347 -1.43651902 -1.28480872 -1.48238132 -1.64795817]\n",
      " [-1.36722114 -1.12688098 -1.83211156 -1.01252168 -1.65058507]]\n",
      "[[1.35585089 1.61825336 1.73714431 0.83598491 0.11787631]\n",
      " [0.95691801 1.04231886 1.16126404 0.618398   1.83976525]\n",
      " [1.31069501 0.69848277 1.08218809 0.89810679 0.56464192]\n",
      " [0.59175305 1.12696197 1.43038256 1.03523735 0.70408366]\n",
      " [1.26555772 1.74623804 0.33577689 1.97495664 0.69882986]]\n",
      "[[0.33896272 0.40456334 0.43428608 0.20899623 0.02946908]\n",
      " [0.2392295  0.26057971 0.29031601 0.1545995  0.45994131]\n",
      " [0.32767375 0.17462069 0.27054702 0.2245267  0.14116048]\n",
      " [0.14793826 0.28174049 0.35759564 0.25880934 0.17602091]\n",
      " [0.31638943 0.43655951 0.08394422 0.49373916 0.17470746]]\n"
     ]
    }
   ],
   "source": [
    "arr = np.random.rand(5,5)\n",
    "print(arr + 2)\n",
    "print(arr - 2)\n",
    "print(arr * 2)\n",
    "print(arr / 2)"
   ]
  },
  {
   "cell_type": "code",
   "execution_count": 22,
   "metadata": {},
   "outputs": [
    {
     "name": "stdout",
     "output_type": "stream",
     "text": [
      "[ 9 11 13]\n",
      "33\n",
      "\n",
      "[1 2 3]\n",
      "[1 4 9]\n"
     ]
    }
   ],
   "source": [
    "# the above operations can be performed using numpy built-in functions\n",
    "# which can save memory as the output can be stored in the original array rather than assigning new memory\n",
    "arr1 = np.array([1,2,3])\n",
    "np.add(arr1, [8,9,10], out=arr1) #adding 2 arrays.\n",
    "print(arr1)\n",
    "\n",
    "print(np.sum(arr1, axis=0))    #gives all eliments total.\n",
    "print()\n",
    "\n",
    "np.subtract(arr1, [8,9,10], out=arr1)\n",
    "print(arr1)\n",
    "\n",
    "np.multiply(arr1, [1,2,3], out=arr1)\n",
    "print(arr1)"
   ]
  },
  {
   "cell_type": "code",
   "execution_count": null,
   "metadata": {},
   "outputs": [],
   "source": [
    "#element-wise exponentiation\n",
    "print(np.exp(arr))\n",
    "# natural log\n",
    "print(np.log(arr))    "
   ]
  },
  {
   "cell_type": "code",
   "execution_count": 19,
   "metadata": {},
   "outputs": [
    {
     "name": "stdout",
     "output_type": "stream",
     "text": [
      "[[-0.56080147 -0.3055625  -0.20328239 -1.25845119 -4.08465428]\n",
      " [-1.06353278 -0.94020332 -0.78430396 -1.69339245 -0.12047831]\n",
      " [-0.60966799 -1.51770357 -0.88604873 -1.15504109 -1.82459185]\n",
      " [-1.75693286 -0.82756117 -0.48359895 -0.95003842 -1.50618124]\n",
      " [-0.6602267  -0.19574977 -2.57442516 -0.01817902 -1.51698684]]\n"
     ]
    }
   ],
   "source": [
    "# base 2\n",
    "print(np.log2(arr))   "
   ]
  },
  {
   "cell_type": "code",
   "execution_count": 20,
   "metadata": {},
   "outputs": [
    {
     "name": "stdout",
     "output_type": "stream",
     "text": [
      "[[0.62717856 0.72368474 0.76340745 0.40592657 0.05890404]\n",
      " [0.46041177 0.49788598 0.54855249 0.30429572 0.79553051]\n",
      " [0.60943479 0.34218509 0.51507406 0.43411297 0.27858547]\n",
      " [0.2915784  0.53413225 0.65576184 0.49481217 0.34481513]\n",
      " [0.59138787 0.76633644 0.16710086 0.8346397  0.34234815]]\n",
      "[[0.77887551 0.69013071 0.64591723 0.9139057  0.99826365]\n",
      " [0.88770547 0.8672425  0.83611612 0.95257762 0.60591354]\n",
      " [0.7928362  0.93963257 0.85714568 0.90085844 0.96041144]\n",
      " [0.95654693 0.84540093 0.75496782 0.86899995 0.93867062]\n",
      " [0.80638724 0.64243946 0.98593981 0.5507963  0.93957317]]\n"
     ]
    }
   ],
   "source": [
    "print(np.sin(arr))\n",
    "print(np.cos(arr))"
   ]
  },
  {
   "cell_type": "code",
   "execution_count": 24,
   "metadata": {},
   "outputs": [
    {
     "name": "stdout",
     "output_type": "stream",
     "text": [
      "[3 2 4 1 0]\n",
      "[0 4 0 4 1]\n",
      "[4 3 4 0 2]\n",
      "[2 4 0 2 3]\n"
     ]
    }
   ],
   "source": [
    "print(np.argmin(arr, axis=0))\n",
    "print(np.argmax(arr, axis=0))\n",
    "print(np.argmin(arr, axis=1))\n",
    "print(np.argmax(arr, axis=1))\n",
    "\n",
    "\n"
   ]
  },
  {
   "cell_type": "code",
   "execution_count": 25,
   "metadata": {},
   "outputs": [
    {
     "name": "stdout",
     "output_type": "stream",
     "text": [
      "4\n",
      "23\n"
     ]
    }
   ],
   "source": [
    "print(np.argmin(arr))\n",
    "print(np.argmax(arr))\n"
   ]
  },
  {
   "cell_type": "code",
   "execution_count": 26,
   "metadata": {},
   "outputs": [
    {
     "name": "stdout",
     "output_type": "stream",
     "text": [
      "[1 4 5 8 9]\n",
      "[0 3 3 7 7]\n"
     ]
    }
   ],
   "source": [
    "#compute eliment wise min and max\n",
    "arr1 = np.array([1, 3, 5, 7, 9])\n",
    "arr2 = np.array([0, 4, 3, 8, 7])\n",
    "print(np.maximum(arr1, arr2))\n",
    "print(np.minimum(arr1, arr2))"
   ]
  },
  {
   "cell_type": "code",
   "execution_count": 27,
   "metadata": {},
   "outputs": [
    {
     "name": "stdout",
     "output_type": "stream",
     "text": [
      "fractional:  [0.26205128 0.65461542 0.05353288 0.86944648 0.11318135 0.99407772\n",
      " 0.27551385 0.1733492  0.41827619 0.56083012]\n",
      "integral:  [8. 0. 0. 8. 9. 1. 0. 8. 2. 0.]\n"
     ]
    }
   ],
   "source": [
    "#split fractional and integral parts of a floating-point array\n",
    "arr1 = np.random.rand(10) * 10\n",
    "re, intg = np.modf(arr1)\n",
    "print('fractional: ', re)\n",
    "print('integral: ', intg)"
   ]
  },
  {
   "cell_type": "code",
   "execution_count": 29,
   "metadata": {},
   "outputs": [
    {
     "name": "stdout",
     "output_type": "stream",
     "text": [
      "[1.81811530e-01 5.21010875e-01 4.79334171e-01 3.13542491e-01\n",
      " 9.96692091e-02 5.96552664e-01 2.48169887e-01 6.04340164e-01\n",
      " 3.05113646e-01 8.97304939e-01 5.82015328e-01 7.12492426e-01\n",
      " 6.83615475e-01 9.46620897e-01 9.13231256e-01 5.12549095e-02\n",
      " 3.80315483e-01 5.63856542e-01 1.32573740e-01 5.75135286e-01\n",
      " 3.22567748e-01 9.83927564e-01 5.75665818e-01 6.29727634e-01\n",
      " 4.01012276e-01 7.44630063e-01 4.01185925e-01 7.65475124e-01\n",
      " 9.82431236e-01 1.68116767e-01 4.74594684e-01 5.48940484e-01\n",
      " 4.36107340e-01 2.96731298e-01 3.93563740e-01 8.38081128e-01\n",
      " 6.51642561e-01 9.53896933e-01 4.77000227e-01 8.78893547e-01\n",
      " 7.92207783e-01 2.65357524e-01 7.62438274e-01 8.22736395e-01\n",
      " 3.52992370e-01 9.74231976e-01 6.75233356e-01 6.99379648e-01\n",
      " 4.59596924e-01 6.97349172e-02 9.97980177e-01 6.37750960e-01\n",
      " 6.81525830e-02 1.46137037e-01 8.38913274e-01 2.77194910e-01\n",
      " 5.39450971e-01 8.04327727e-02 5.66346735e-01 3.62484911e-01\n",
      " 3.18213641e-01 6.53523262e-01 3.54903002e-01 7.15256807e-01\n",
      " 6.28281491e-01 9.67511330e-01 2.81417524e-01 2.46395046e-01\n",
      " 7.75183545e-02 8.92075490e-01 3.45450188e-02 4.91475169e-01\n",
      " 9.04559704e-04 8.89198605e-01 3.39397471e-01 6.30818196e-01\n",
      " 3.30706548e-01 8.88989739e-01 7.29322390e-01 9.43207745e-02\n",
      " 7.06701207e-01 8.80416664e-01 5.40537818e-01 9.75730844e-01\n",
      " 4.70003232e-01 3.92036340e-02 5.13489350e-01 5.21840793e-01\n",
      " 5.79497239e-01 8.37250764e-01 3.50762310e-01 9.11388996e-01\n",
      " 4.00412111e-01 3.89729644e-01 4.02264805e-01 1.03991776e-01\n",
      " 4.65927153e-01 6.48071158e-01 2.97693801e-01 8.92339485e-01]\n",
      "[0.0696558  0.64136303 0.96784736]\n"
     ]
    }
   ],
   "source": [
    "#print(np.mean(arr))\n",
    "#print(np.median(arr, axis=1))\n",
    "\n",
    "arr1 = np.random.rand(100)\n",
    "print(arr1)\n",
    "\n",
    "# compute 5, 65, and 95 percentiles of the array\n",
    "print(np.percentile(arr1, [5, 65, 95]))"
   ]
  },
  {
   "cell_type": "code",
   "execution_count": 30,
   "metadata": {},
   "outputs": [
    {
     "name": "stdout",
     "output_type": "stream",
     "text": [
      "0.23614329614962726\n"
     ]
    }
   ],
   "source": [
    "print(np.std(arr))"
   ]
  },
  {
   "cell_type": "code",
   "execution_count": 31,
   "metadata": {},
   "outputs": [
    {
     "name": "stdout",
     "output_type": "stream",
     "text": [
      "0.05576365631641056\n"
     ]
    }
   ],
   "source": [
    "# compute the overall variance\n",
    "print(np.var(arr))"
   ]
  },
  {
   "cell_type": "code",
   "execution_count": 32,
   "metadata": {},
   "outputs": [
    {
     "name": "stdout",
     "output_type": "stream",
     "text": [
      "[[ 0.11055111 -0.03942352  0.02779974  0.03253574  0.00225834]\n",
      " [-0.03942352  0.05024561 -0.01777728 -0.0097359  -0.05239434]\n",
      " [ 0.02779974 -0.01777728  0.02214719 -0.00090379 -0.00463939]\n",
      " [ 0.03253574 -0.0097359  -0.00090379  0.02839576 -0.0095794 ]\n",
      " [ 0.00225834 -0.05239434 -0.00463939 -0.0095794   0.11882459]]\n"
     ]
    }
   ],
   "source": [
    "print(np.cov(arr))#compute the covariance ."
   ]
  },
  {
   "cell_type": "code",
   "execution_count": 33,
   "metadata": {},
   "outputs": [
    {
     "name": "stdout",
     "output_type": "stream",
     "text": [
      "[[1.         0.27381712]\n",
      " [0.27381712 1.        ]]\n"
     ]
    }
   ],
   "source": [
    "print(np.corrcoef(arr[:,0], arr[:,1]))\n",
    "#compute the  correlation"
   ]
  },
  {
   "cell_type": "code",
   "execution_count": 34,
   "metadata": {},
   "outputs": [
    {
     "name": "stdout",
     "output_type": "stream",
     "text": [
      "[[0.67792545 0.80912668 0.86857215 0.41799246 0.05893816]\n",
      " [1.15638445 1.33028611 1.44920417 0.72719145 0.97882078]\n",
      " [1.81173196 1.67952749 1.99029822 1.17624485 1.26114174]\n",
      " [2.10760848 2.24300847 2.7054895  1.69386353 1.61318357]\n",
      " [2.74038734 3.1161275  2.87337794 2.68134185 1.9625985 ]]\n"
     ]
    }
   ],
   "source": [
    "print(np.cumsum(arr, axis=0))  #cumilative sum  "
   ]
  },
  {
   "cell_type": "code",
   "execution_count": 35,
   "metadata": {},
   "outputs": [
    {
     "name": "stdout",
     "output_type": "stream",
     "text": [
      "[[0.67792545 0.54852757 0.47643577 0.19914656 0.01173733]\n",
      " [0.478459   0.24935342 0.14478258 0.04476663 0.04118004]\n",
      " [0.6553475  0.22887447 0.12384261 0.05561195 0.01570042]\n",
      " [0.29587653 0.1667208  0.11923726 0.06171943 0.02172782]\n",
      " [0.63277886 0.55249126 0.0927569  0.09159543 0.03200481]]\n"
     ]
    }
   ],
   "source": [
    "# calculate the cumulative product along the column\n",
    "print(np.cumprod(arr, axis=1))  "
   ]
  },
  {
   "cell_type": "code",
   "execution_count": 36,
   "metadata": {},
   "outputs": [
    {
     "name": "stdout",
     "output_type": "stream",
     "text": [
      "[False False  True False False]\n",
      "[ True  True False False False]\n"
     ]
    }
   ],
   "source": [
    "#compasion eliment wise.\n",
    "arr1 = np.array([1,2,3,4,5])\n",
    "arr2 = np.array([5,4,3,2,1])\n",
    "# return an array of bools\n",
    "print(arr1 == arr2)    \n",
    "print(arr1 < 3)"
   ]
  },
  {
   "cell_type": "markdown",
   "metadata": {},
   "source": [
    "slicing and indexing"
   ]
  },
  {
   "cell_type": "code",
   "execution_count": null,
   "metadata": {},
   "outputs": [],
   "source": []
  }
 ],
 "metadata": {
  "kernelspec": {
   "display_name": "Python 3",
   "language": "python",
   "name": "python3"
  },
  "language_info": {
   "codemirror_mode": {
    "name": "ipython",
    "version": 3
   },
   "file_extension": ".py",
   "mimetype": "text/x-python",
   "name": "python",
   "nbconvert_exporter": "python",
   "pygments_lexer": "ipython3",
   "version": "3.11.9"
  }
 },
 "nbformat": 4,
 "nbformat_minor": 2
}
